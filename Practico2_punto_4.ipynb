{
 "cells": [
  {
   "cell_type": "markdown",
   "id": "7d035562",
   "metadata": {},
   "source": [
    "# Práctico N° 2 Análisis de Grafos\n",
    "\n",
    "Integrantes: Nicolás Benjamín Ocampo, Antonela Sambuceti"
   ]
  },
  {
   "cell_type": "markdown",
   "id": "646fde0c",
   "metadata": {
    "jp-MarkdownHeadingCollapsed": true,
    "tags": []
   },
   "source": [
    "En este práctico, trabajaremos con un dataset extraído de Twitter. La idea es emplear los conceptos de grafos vistos en clase sobre un caso real de actualidad.\n",
    "\n",
    "## Dataset\n",
    "\n",
    "El dataset consiste en un conjunto de hilos de tweets, con un total de ~150000 tweets, extraídos entre Enero y Marzo de 2021. La temática de los mismos está referida a la vacunación contra el covid-19 en Argentina.\n",
    "\n",
    "Pueden descargar el dataset del siguiente [link](https://drive.google.com/file/d/1X_qKsE8muAnom2tDX4sLlmBAO0Ikfe_G/view?usp=sharing).\n",
    "\n",
    "### Campos\n",
    "\n",
    "- **created_at:** Fecha del tweet\n",
    "- **id_str:** ID del tweet\n",
    "- **full_text:** Contenido del tweet\n",
    "- **in_reply_to_status_id:** ID del tweet inmediatamente anterior en el hilo\n",
    "- **in_reply_to_user_id:** Autor del tweet inmediatamente anterior en el hilo\n",
    "- **user.id:** Autor del tweet\n",
    "- **user_retweeters:** Lista de ID de usuarios que retweetearon el tweet\n",
    "- **sentiment:** Etiquetado manual que indica el sentimiento o intención del tweet con respecto al tweet anterior en el hilo"
   ]
  },
  {
   "cell_type": "markdown",
   "id": "cf45147b",
   "metadata": {},
   "source": [
    "## Configuración inicial"
   ]
  },
  {
   "cell_type": "code",
   "execution_count": 1,
   "id": "08b772c5",
   "metadata": {},
   "outputs": [
    {
     "name": "stderr",
     "output_type": "stream",
     "text": [
      "[nltk_data] Downloading package stopwords to\n",
      "[nltk_data]     C:\\Users\\anto_\\AppData\\Roaming\\nltk_data...\n",
      "[nltk_data]   Package stopwords is already up-to-date!\n",
      "[nltk_data] Downloading package punkt to\n",
      "[nltk_data]     C:\\Users\\anto_\\AppData\\Roaming\\nltk_data...\n",
      "[nltk_data]   Package punkt is already up-to-date!\n"
     ]
    },
    {
     "data": {
      "text/plain": [
       "True"
      ]
     },
     "execution_count": 1,
     "metadata": {},
     "output_type": "execute_result"
    }
   ],
   "source": [
    "import pandas as pd\n",
    "import numpy as np\n",
    "import seaborn as sn\n",
    "import matplotlib.pyplot as plt\n",
    "import math\n",
    "from cdlib import NodeClustering, evaluation, algorithms\n",
    "import igraph as ig\n",
    "import networkx as nx\n",
    "import pickle\n",
    "\n",
    "from nltk import (corpus, tokenize, download)\n",
    "from wordcloud import WordCloud, STOPWORDS, ImageColorGenerator\n",
    "download(\"stopwords\")\n",
    "download('punkt')\n"
   ]
  },
  {
   "cell_type": "markdown",
   "id": "9398c2fd",
   "metadata": {},
   "source": [
    "### Cargamos el grafo"
   ]
  },
  {
   "cell_type": "code",
   "execution_count": 2,
   "id": "3886a004-8f20-4be7-9503-1824258c2a62",
   "metadata": {},
   "outputs": [],
   "source": [
    "larg_G = nx.read_edgelist('larg_G.edgelist')"
   ]
  },
  {
   "cell_type": "code",
   "execution_count": 3,
   "id": "35f69cb5-cd7f-412b-ad48-995602f662a7",
   "metadata": {},
   "outputs": [],
   "source": [
    "df_user = pd.DataFrame({'user':list(larg_G.nodes())})"
   ]
  },
  {
   "cell_type": "code",
   "execution_count": 4,
   "id": "010e084f-eceb-4af5-aaf0-d2315b05c747",
   "metadata": {},
   "outputs": [],
   "source": [
    "deg_seq = np.array([k for v, k in larg_G.degree()])\n",
    "df_user['degree'] = deg_seq"
   ]
  },
  {
   "cell_type": "markdown",
   "id": "071387ed",
   "metadata": {
    "tags": []
   },
   "source": [
    "### Cálculo de Medidas de Centralidad"
   ]
  },
  {
   "cell_type": "code",
   "execution_count": 5,
   "id": "9bc8b54f-091f-4ee0-9b88-db7d7b6d9562",
   "metadata": {},
   "outputs": [
    {
     "name": "stdout",
     "output_type": "stream",
     "text": [
      "IGRAPH UN-- 39800 93404 -- \n",
      "+ attr: name (v)\n"
     ]
    }
   ],
   "source": [
    "#generados grafo para libreria igraph\n",
    "g_ig = ig.Graph.TupleList(larg_G.edges())\n",
    "print(g_ig.summary())"
   ]
  },
  {
   "cell_type": "code",
   "execution_count": 6,
   "id": "e58b0f72",
   "metadata": {},
   "outputs": [],
   "source": [
    "betweenness = g_ig.betweenness()\n",
    "eigenvector = nx.eigenvector_centrality(larg_G,max_iter=1000)\n",
    "pagerank = nx.pagerank(larg_G)\n",
    "clustering_coefficient =  nx.clustering(larg_G)"
   ]
  },
  {
   "cell_type": "code",
   "execution_count": 11,
   "id": "0ab69e4b",
   "metadata": {},
   "outputs": [
    {
     "data": {
      "text/html": [
       "<div>\n",
       "<style scoped>\n",
       "    .dataframe tbody tr th:only-of-type {\n",
       "        vertical-align: middle;\n",
       "    }\n",
       "\n",
       "    .dataframe tbody tr th {\n",
       "        vertical-align: top;\n",
       "    }\n",
       "\n",
       "    .dataframe thead th {\n",
       "        text-align: right;\n",
       "    }\n",
       "</style>\n",
       "<table border=\"1\" class=\"dataframe\">\n",
       "  <thead>\n",
       "    <tr style=\"text-align: right;\">\n",
       "      <th></th>\n",
       "      <th>degree</th>\n",
       "      <th>betweenness</th>\n",
       "      <th>eigenvector</th>\n",
       "      <th>pagerank</th>\n",
       "      <th>Cws</th>\n",
       "    </tr>\n",
       "  </thead>\n",
       "  <tbody>\n",
       "    <tr>\n",
       "      <th>count</th>\n",
       "      <td>39800.00</td>\n",
       "      <td>3.980000e+04</td>\n",
       "      <td>39800.00</td>\n",
       "      <td>39800.00</td>\n",
       "      <td>39800.00</td>\n",
       "    </tr>\n",
       "    <tr>\n",
       "      <th>mean</th>\n",
       "      <td>4.69</td>\n",
       "      <td>5.310058e+04</td>\n",
       "      <td>0.00</td>\n",
       "      <td>0.00</td>\n",
       "      <td>0.10</td>\n",
       "    </tr>\n",
       "    <tr>\n",
       "      <th>std</th>\n",
       "      <td>69.30</td>\n",
       "      <td>2.036286e+06</td>\n",
       "      <td>0.00</td>\n",
       "      <td>0.00</td>\n",
       "      <td>0.24</td>\n",
       "    </tr>\n",
       "    <tr>\n",
       "      <th>min</th>\n",
       "      <td>1.00</td>\n",
       "      <td>0.000000e+00</td>\n",
       "      <td>0.00</td>\n",
       "      <td>0.00</td>\n",
       "      <td>0.00</td>\n",
       "    </tr>\n",
       "    <tr>\n",
       "      <th>25%</th>\n",
       "      <td>1.00</td>\n",
       "      <td>0.000000e+00</td>\n",
       "      <td>0.00</td>\n",
       "      <td>0.00</td>\n",
       "      <td>0.00</td>\n",
       "    </tr>\n",
       "    <tr>\n",
       "      <th>50%</th>\n",
       "      <td>1.00</td>\n",
       "      <td>0.000000e+00</td>\n",
       "      <td>0.00</td>\n",
       "      <td>0.00</td>\n",
       "      <td>0.00</td>\n",
       "    </tr>\n",
       "    <tr>\n",
       "      <th>75%</th>\n",
       "      <td>3.00</td>\n",
       "      <td>2.133930e+03</td>\n",
       "      <td>0.00</td>\n",
       "      <td>0.00</td>\n",
       "      <td>0.00</td>\n",
       "    </tr>\n",
       "    <tr>\n",
       "      <th>max</th>\n",
       "      <td>8207.00</td>\n",
       "      <td>2.703364e+08</td>\n",
       "      <td>0.36</td>\n",
       "      <td>0.04</td>\n",
       "      <td>1.00</td>\n",
       "    </tr>\n",
       "  </tbody>\n",
       "</table>\n",
       "</div>"
      ],
      "text/plain": [
       "         degree   betweenness  eigenvector  pagerank       Cws\n",
       "count  39800.00  3.980000e+04     39800.00  39800.00  39800.00\n",
       "mean       4.69  5.310058e+04         0.00      0.00      0.10\n",
       "std       69.30  2.036286e+06         0.00      0.00      0.24\n",
       "min        1.00  0.000000e+00         0.00      0.00      0.00\n",
       "25%        1.00  0.000000e+00         0.00      0.00      0.00\n",
       "50%        1.00  0.000000e+00         0.00      0.00      0.00\n",
       "75%        3.00  2.133930e+03         0.00      0.00      0.00\n",
       "max     8207.00  2.703364e+08         0.36      0.04      1.00"
      ]
     },
     "execution_count": 11,
     "metadata": {},
     "output_type": "execute_result"
    }
   ],
   "source": [
    "df_user['betweenness'] = betweenness\n",
    "df_user['eigenvector'] = list(eigenvector.values())\n",
    "df_user['pagerank'] = list(pagerank.values())\n",
    "df_user['Cws'] = list(clustering_coefficient.values())\n",
    "\n",
    "df_user.describe().round(2)"
   ]
  },
  {
   "cell_type": "code",
   "execution_count": 8,
   "id": "14587fdc-0e83-40a0-84ed-dee8d0d2f446",
   "metadata": {},
   "outputs": [
    {
     "data": {
      "text/html": [
       "<div>\n",
       "<style scoped>\n",
       "    .dataframe tbody tr th:only-of-type {\n",
       "        vertical-align: middle;\n",
       "    }\n",
       "\n",
       "    .dataframe tbody tr th {\n",
       "        vertical-align: top;\n",
       "    }\n",
       "\n",
       "    .dataframe thead th {\n",
       "        text-align: right;\n",
       "    }\n",
       "</style>\n",
       "<table border=\"1\" class=\"dataframe\">\n",
       "  <thead>\n",
       "    <tr style=\"text-align: right;\">\n",
       "      <th></th>\n",
       "      <th>degree</th>\n",
       "      <th>eigenvector</th>\n",
       "      <th>pagerank</th>\n",
       "      <th>Cws</th>\n",
       "      <th>betweenness</th>\n",
       "    </tr>\n",
       "  </thead>\n",
       "  <tbody>\n",
       "    <tr>\n",
       "      <th>0</th>\n",
       "      <td>252168075</td>\n",
       "      <td>130979339</td>\n",
       "      <td>252168075</td>\n",
       "      <td>564042719</td>\n",
       "      <td>252168075</td>\n",
       "    </tr>\n",
       "    <tr>\n",
       "      <th>1</th>\n",
       "      <td>130979339</td>\n",
       "      <td>73102744</td>\n",
       "      <td>130979339</td>\n",
       "      <td>146621283</td>\n",
       "      <td>854743297</td>\n",
       "    </tr>\n",
       "    <tr>\n",
       "      <th>2</th>\n",
       "      <td>73102744</td>\n",
       "      <td>252168075</td>\n",
       "      <td>73102744</td>\n",
       "      <td>1166543037159358464</td>\n",
       "      <td>756645318708588544</td>\n",
       "    </tr>\n",
       "    <tr>\n",
       "      <th>3</th>\n",
       "      <td>367933714</td>\n",
       "      <td>367933714</td>\n",
       "      <td>593189095</td>\n",
       "      <td>712335069453688832</td>\n",
       "      <td>342825036</td>\n",
       "    </tr>\n",
       "    <tr>\n",
       "      <th>4</th>\n",
       "      <td>593189095</td>\n",
       "      <td>2687724840</td>\n",
       "      <td>367933714</td>\n",
       "      <td>813028689743114241</td>\n",
       "      <td>771044267355766784</td>\n",
       "    </tr>\n",
       "    <tr>\n",
       "      <th>5</th>\n",
       "      <td>2687724840</td>\n",
       "      <td>593189095</td>\n",
       "      <td>2687724840</td>\n",
       "      <td>1580608093</td>\n",
       "      <td>342016328</td>\n",
       "    </tr>\n",
       "    <tr>\n",
       "      <th>6</th>\n",
       "      <td>931564592328781824</td>\n",
       "      <td>312708081</td>\n",
       "      <td>144929758</td>\n",
       "      <td>166990862</td>\n",
       "      <td>1267917522407510019</td>\n",
       "    </tr>\n",
       "    <tr>\n",
       "      <th>7</th>\n",
       "      <td>144929758</td>\n",
       "      <td>144929758</td>\n",
       "      <td>931564592328781824</td>\n",
       "      <td>1200475594410151936</td>\n",
       "      <td>1539379135</td>\n",
       "    </tr>\n",
       "    <tr>\n",
       "      <th>8</th>\n",
       "      <td>312708081</td>\n",
       "      <td>931564592328781824</td>\n",
       "      <td>312708081</td>\n",
       "      <td>475408248</td>\n",
       "      <td>3865357583</td>\n",
       "    </tr>\n",
       "    <tr>\n",
       "      <th>9</th>\n",
       "      <td>1077176953</td>\n",
       "      <td>959033548379508736</td>\n",
       "      <td>1077176953</td>\n",
       "      <td>201418332</td>\n",
       "      <td>926883779490312193</td>\n",
       "    </tr>\n",
       "  </tbody>\n",
       "</table>\n",
       "</div>"
      ],
      "text/plain": [
       "               degree         eigenvector            pagerank  \\\n",
       "0           252168075           130979339           252168075   \n",
       "1           130979339            73102744           130979339   \n",
       "2            73102744           252168075            73102744   \n",
       "3           367933714           367933714           593189095   \n",
       "4           593189095          2687724840           367933714   \n",
       "5          2687724840           593189095          2687724840   \n",
       "6  931564592328781824           312708081           144929758   \n",
       "7           144929758           144929758  931564592328781824   \n",
       "8           312708081  931564592328781824           312708081   \n",
       "9          1077176953  959033548379508736          1077176953   \n",
       "\n",
       "                   Cws          betweenness  \n",
       "0            564042719            252168075  \n",
       "1            146621283            854743297  \n",
       "2  1166543037159358464   756645318708588544  \n",
       "3   712335069453688832            342825036  \n",
       "4   813028689743114241   771044267355766784  \n",
       "5           1580608093            342016328  \n",
       "6            166990862  1267917522407510019  \n",
       "7  1200475594410151936           1539379135  \n",
       "8            475408248           3865357583  \n",
       "9            201418332   926883779490312193  "
      ]
     },
     "execution_count": 8,
     "metadata": {},
     "output_type": "execute_result"
    }
   ],
   "source": [
    "columns=['degree','eigenvector','pagerank','Cws', 'betweenness']\n",
    "data = {}\n",
    "for col in columns:\n",
    "    top_users = df_user.nlargest(10, columns=[col])['user'].tolist()\n",
    "    data[col] = top_users\n",
    "pd.DataFrame(data)"
   ]
  },
  {
   "cell_type": "markdown",
   "id": "020ca883",
   "metadata": {
    "tags": []
   },
   "source": [
    "### Cálculo de Comunidades"
   ]
  },
  {
   "cell_type": "markdown",
   "id": "dc857b63",
   "metadata": {},
   "source": [
    "#### Algoritmo de Louvain"
   ]
  },
  {
   "cell_type": "markdown",
   "id": "7488cbba-9315-40fa-bf19-36a4ef087ff8",
   "metadata": {},
   "source": [
    "Recalculamos las comunidades con el algoritmo de Louvain con resolution 2, para quedarnos con 2 grandes comunidades para analizar."
   ]
  },
  {
   "cell_type": "code",
   "execution_count": 9,
   "id": "93a47eac",
   "metadata": {},
   "outputs": [],
   "source": [
    "comms = algorithms.louvain(larg_G, resolution=2, randomize=False)"
   ]
  },
  {
   "cell_type": "code",
   "execution_count": 41,
   "id": "8fd5c624",
   "metadata": {},
   "outputs": [],
   "source": [
    "comm_df = pd.DataFrame({\n",
    "    \"communities\": comms.communities,\n",
    "    \"comm_id\": np.arange(0, len(comms.communities))\n",
    "})"
   ]
  },
  {
   "cell_type": "code",
   "execution_count": 12,
   "id": "fa34fb2c",
   "metadata": {},
   "outputs": [],
   "source": [
    "comm_df = comm_df.assign(comm_size=comm_df[\"communities\"].apply(lambda c: len(c)))"
   ]
  },
  {
   "cell_type": "markdown",
   "id": "16eb5398-6d5a-42c9-939f-e0b50919efba",
   "metadata": {},
   "source": [
    "## Actividades"
   ]
  },
  {
   "cell_type": "markdown",
   "id": "dbe2f769-fe8d-4180-80da-43607ad3251d",
   "metadata": {},
   "source": [
    "### 4. Extracción de etiquetas\n",
    "En el archivo etiquetas.csv están las etiquetas para un pequeño subconjunto de nodos. Podemos interpretar el valor de la etiqueta como la pertenencia a una determinada clase, donde los usuarios de una misma clase en general tienden a expresar apoyo entre sí."
   ]
  },
  {
   "cell_type": "code",
   "execution_count": 13,
   "id": "77055be5-5dc3-4336-bf7d-09a0fc25282a",
   "metadata": {},
   "outputs": [],
   "source": [
    "DATASET_FILE = \"dataset/etiquetas.csv\"\n",
    "\n",
    "dtypes = {\n",
    "    'id_str': str,\n",
    "    'full_text': str,\n",
    "    'in_reply_to_status_id': str,\n",
    "    'in_reply_to_user_id': str,\n",
    "    'user.id': str}\n",
    "    \n",
    "df_etiq = pd.read_csv(DATASET_FILE, dtype=dtypes)\n",
    "df_etiq= df_etiq.rename(columns={'user.id':'user'})"
   ]
  },
  {
   "cell_type": "code",
   "execution_count": 14,
   "id": "3aa76896-d852-4b52-b400-9f79b0bee05a",
   "metadata": {},
   "outputs": [
    {
     "data": {
      "text/plain": [
       "0    107\n",
       "1     89\n",
       "Name: Clase, dtype: int64"
      ]
     },
     "execution_count": 14,
     "metadata": {},
     "output_type": "execute_result"
    }
   ],
   "source": [
    "df_etiq.Clase.value_counts()"
   ]
  },
  {
   "cell_type": "code",
   "execution_count": 15,
   "id": "576a0575-569c-4cdf-b010-92cb37930f0a",
   "metadata": {},
   "outputs": [],
   "source": [
    "df_etiq = pd.merge(df_etiq, df_user, on='user',how='left')\n",
    "df_etiq= df_etiq.dropna()"
   ]
  },
  {
   "cell_type": "code",
   "execution_count": 16,
   "id": "f1b1446e-86f6-49a5-b10b-f8a60a3b6d9e",
   "metadata": {},
   "outputs": [
    {
     "data": {
      "text/plain": [
       "0    84\n",
       "1    68\n",
       "Name: Clase, dtype: int64"
      ]
     },
     "execution_count": 16,
     "metadata": {},
     "output_type": "execute_result"
    }
   ],
   "source": [
    "df_etiq.Clase.value_counts()"
   ]
  },
  {
   "cell_type": "markdown",
   "id": "af3d322f-6f47-494a-b878-0ccdb2f6ca5f",
   "metadata": {},
   "source": [
    "#### 4.1 Usuarios referentes de cada clase \n",
    "Utilizar alguna medida de centralidad calculada sobre el grafo de retweets."
   ]
  },
  {
   "cell_type": "code",
   "execution_count": 17,
   "id": "0d35194e-c31e-4051-9d45-da2865b412a6",
   "metadata": {},
   "outputs": [
    {
     "data": {
      "text/html": [
       "<div>\n",
       "<style scoped>\n",
       "    .dataframe tbody tr th:only-of-type {\n",
       "        vertical-align: middle;\n",
       "    }\n",
       "\n",
       "    .dataframe tbody tr th {\n",
       "        vertical-align: top;\n",
       "    }\n",
       "\n",
       "    .dataframe thead th {\n",
       "        text-align: right;\n",
       "    }\n",
       "</style>\n",
       "<table border=\"1\" class=\"dataframe\">\n",
       "  <thead>\n",
       "    <tr style=\"text-align: right;\">\n",
       "      <th></th>\n",
       "      <th>degree</th>\n",
       "      <th>eigenvector</th>\n",
       "      <th>pagerank</th>\n",
       "      <th>Cws</th>\n",
       "      <th>betweenness</th>\n",
       "    </tr>\n",
       "  </thead>\n",
       "  <tbody>\n",
       "    <tr>\n",
       "      <th>0</th>\n",
       "      <td>252168075</td>\n",
       "      <td>252168075</td>\n",
       "      <td>252168075</td>\n",
       "      <td>2947569093</td>\n",
       "      <td>252168075</td>\n",
       "    </tr>\n",
       "    <tr>\n",
       "      <th>1</th>\n",
       "      <td>510740590</td>\n",
       "      <td>510740590</td>\n",
       "      <td>510740590</td>\n",
       "      <td>140374618</td>\n",
       "      <td>510740590</td>\n",
       "    </tr>\n",
       "    <tr>\n",
       "      <th>2</th>\n",
       "      <td>145493922</td>\n",
       "      <td>145493922</td>\n",
       "      <td>43814969</td>\n",
       "      <td>172417422</td>\n",
       "      <td>973491850530164736</td>\n",
       "    </tr>\n",
       "    <tr>\n",
       "      <th>3</th>\n",
       "      <td>484349869</td>\n",
       "      <td>484349869</td>\n",
       "      <td>145493922</td>\n",
       "      <td>973491850530164736</td>\n",
       "      <td>927377684224708608</td>\n",
       "    </tr>\n",
       "    <tr>\n",
       "      <th>4</th>\n",
       "      <td>43814969</td>\n",
       "      <td>1272713534078619648</td>\n",
       "      <td>484349869</td>\n",
       "      <td>811607948</td>\n",
       "      <td>141508805</td>\n",
       "    </tr>\n",
       "  </tbody>\n",
       "</table>\n",
       "</div>"
      ],
      "text/plain": [
       "      degree          eigenvector   pagerank                 Cws  \\\n",
       "0  252168075            252168075  252168075          2947569093   \n",
       "1  510740590            510740590  510740590           140374618   \n",
       "2  145493922            145493922   43814969           172417422   \n",
       "3  484349869            484349869  145493922  973491850530164736   \n",
       "4   43814969  1272713534078619648  484349869           811607948   \n",
       "\n",
       "          betweenness  \n",
       "0           252168075  \n",
       "1           510740590  \n",
       "2  973491850530164736  \n",
       "3  927377684224708608  \n",
       "4           141508805  "
      ]
     },
     "execution_count": 17,
     "metadata": {},
     "output_type": "execute_result"
    }
   ],
   "source": [
    "#Top para clase 0\n",
    "columns=['degree','eigenvector','pagerank','Cws', 'betweenness']\n",
    "data = {}\n",
    "for col in columns:\n",
    "    top_users = df_etiq[df_etiq['Clase'] == 0].nlargest(5, columns=[col])['user'].tolist()\n",
    "    data[col] = top_users\n",
    "pd.DataFrame(data)"
   ]
  },
  {
   "cell_type": "markdown",
   "id": "d34e7db4-c702-4e75-a0de-82da6ee8971a",
   "metadata": {},
   "source": [
    "Obsevamos que el usuario 252168075, correspondiente a Norabar, que había sido seleccionado en el top10 de influencers en el enunciado número 2, también se encuentra en como principal influencer de la clase 0."
   ]
  },
  {
   "cell_type": "code",
   "execution_count": 18,
   "id": "2dec572f-21c4-464a-8f14-b799fed797e2",
   "metadata": {},
   "outputs": [
    {
     "data": {
      "text/html": [
       "<div>\n",
       "<style scoped>\n",
       "    .dataframe tbody tr th:only-of-type {\n",
       "        vertical-align: middle;\n",
       "    }\n",
       "\n",
       "    .dataframe tbody tr th {\n",
       "        vertical-align: top;\n",
       "    }\n",
       "\n",
       "    .dataframe thead th {\n",
       "        text-align: right;\n",
       "    }\n",
       "</style>\n",
       "<table border=\"1\" class=\"dataframe\">\n",
       "  <thead>\n",
       "    <tr style=\"text-align: right;\">\n",
       "      <th></th>\n",
       "      <th>degree</th>\n",
       "      <th>eigenvector</th>\n",
       "      <th>pagerank</th>\n",
       "      <th>Cws</th>\n",
       "      <th>betweenness</th>\n",
       "    </tr>\n",
       "  </thead>\n",
       "  <tbody>\n",
       "    <tr>\n",
       "      <th>0</th>\n",
       "      <td>73102744</td>\n",
       "      <td>73102744</td>\n",
       "      <td>73102744</td>\n",
       "      <td>910956876686381058</td>\n",
       "      <td>332305405</td>\n",
       "    </tr>\n",
       "    <tr>\n",
       "      <th>1</th>\n",
       "      <td>367933714</td>\n",
       "      <td>367933714</td>\n",
       "      <td>367933714</td>\n",
       "      <td>146631761</td>\n",
       "      <td>1241874768569274368</td>\n",
       "    </tr>\n",
       "    <tr>\n",
       "      <th>2</th>\n",
       "      <td>2687724840</td>\n",
       "      <td>2687724840</td>\n",
       "      <td>2687724840</td>\n",
       "      <td>1212718019849248768</td>\n",
       "      <td>837186873143488514</td>\n",
       "    </tr>\n",
       "    <tr>\n",
       "      <th>3</th>\n",
       "      <td>3421061763</td>\n",
       "      <td>3421061763</td>\n",
       "      <td>3421061763</td>\n",
       "      <td>1183974626</td>\n",
       "      <td>71009257</td>\n",
       "    </tr>\n",
       "    <tr>\n",
       "      <th>4</th>\n",
       "      <td>4160782817</td>\n",
       "      <td>4160782817</td>\n",
       "      <td>4160782817</td>\n",
       "      <td>2693592596</td>\n",
       "      <td>1183974626</td>\n",
       "    </tr>\n",
       "  </tbody>\n",
       "</table>\n",
       "</div>"
      ],
      "text/plain": [
       "       degree eigenvector    pagerank                  Cws  \\\n",
       "0    73102744    73102744    73102744   910956876686381058   \n",
       "1   367933714   367933714   367933714            146631761   \n",
       "2  2687724840  2687724840  2687724840  1212718019849248768   \n",
       "3  3421061763  3421061763  3421061763           1183974626   \n",
       "4  4160782817  4160782817  4160782817           2693592596   \n",
       "\n",
       "           betweenness  \n",
       "0            332305405  \n",
       "1  1241874768569274368  \n",
       "2   837186873143488514  \n",
       "3             71009257  \n",
       "4           1183974626  "
      ]
     },
     "execution_count": 18,
     "metadata": {},
     "output_type": "execute_result"
    }
   ],
   "source": [
    "#Top para clase 1\n",
    "columns=['degree','eigenvector','pagerank','Cws', 'betweenness']\n",
    "data = {}\n",
    "for col in columns:\n",
    "    top_users = df_etiq[df_etiq['Clase'] == 1].nlargest(5, columns=[col])['user'].tolist()\n",
    "    data[col] = top_users\n",
    "pd.DataFrame(data)"
   ]
  },
  {
   "cell_type": "markdown",
   "id": "b8e77952-8483-4070-8bd3-b78ae7df0bfc",
   "metadata": {},
   "source": [
    "Obsevamos que el usuario 73102744, correspondiente a Ernestorr, que había sido seleccionado en el top10 de influencers en el enunciado número 2, también se encuentra en como principal influencer de la clase 1."
   ]
  },
  {
   "cell_type": "markdown",
   "id": "9f7db990-6c8e-4d2f-88f7-b38a429ddf86",
   "metadata": {},
   "source": [
    "#### 4.2 Utilizando los resultados del práctico anterior, determinar si los usuarios de cada clase forman parte de distintas comunidades"
   ]
  },
  {
   "cell_type": "code",
   "execution_count": 19,
   "id": "d44baccf-f7d3-4ba6-b7c5-a8f796565577",
   "metadata": {},
   "outputs": [],
   "source": [
    "com_1 = list(comm_df[\"communities\"][0])\n",
    "com_2 = list(comm_df[\"communities\"][1])"
   ]
  },
  {
   "cell_type": "code",
   "execution_count": 32,
   "id": "8273331f-6cae-403f-8118-5f501cb6cd1a",
   "metadata": {},
   "outputs": [
    {
     "data": {
      "text/html": [
       "<div>\n",
       "<style scoped>\n",
       "    .dataframe tbody tr th:only-of-type {\n",
       "        vertical-align: middle;\n",
       "    }\n",
       "\n",
       "    .dataframe tbody tr th {\n",
       "        vertical-align: top;\n",
       "    }\n",
       "\n",
       "    .dataframe thead th {\n",
       "        text-align: right;\n",
       "    }\n",
       "</style>\n",
       "<table border=\"1\" class=\"dataframe\">\n",
       "  <thead>\n",
       "    <tr style=\"text-align: right;\">\n",
       "      <th></th>\n",
       "      <th>communities</th>\n",
       "      <th>comm_id</th>\n",
       "      <th>comm_size</th>\n",
       "    </tr>\n",
       "  </thead>\n",
       "  <tbody>\n",
       "    <tr>\n",
       "      <th>0</th>\n",
       "      <td>[2412575347, 130979339, 1171384413948710916, 1...</td>\n",
       "      <td>0</td>\n",
       "      <td>19388</td>\n",
       "    </tr>\n",
       "    <tr>\n",
       "      <th>1</th>\n",
       "      <td>[2252264887, 252168075, 204502692, 3442008615,...</td>\n",
       "      <td>1</td>\n",
       "      <td>15486</td>\n",
       "    </tr>\n",
       "    <tr>\n",
       "      <th>2</th>\n",
       "      <td>[480627466, 593189095, 810065724, 387199960, 5...</td>\n",
       "      <td>2</td>\n",
       "      <td>3097</td>\n",
       "    </tr>\n",
       "    <tr>\n",
       "      <th>3</th>\n",
       "      <td>[121474081, 1249220367593410561, 1282168010070...</td>\n",
       "      <td>3</td>\n",
       "      <td>213</td>\n",
       "    </tr>\n",
       "    <tr>\n",
       "      <th>4</th>\n",
       "      <td>[1216417610, 1304145009374101504, 111614038, 9...</td>\n",
       "      <td>4</td>\n",
       "      <td>123</td>\n",
       "    </tr>\n",
       "    <tr>\n",
       "      <th>...</th>\n",
       "      <td>...</td>\n",
       "      <td>...</td>\n",
       "      <td>...</td>\n",
       "    </tr>\n",
       "    <tr>\n",
       "      <th>351</th>\n",
       "      <td>[1151320289550188544]</td>\n",
       "      <td>351</td>\n",
       "      <td>1</td>\n",
       "    </tr>\n",
       "    <tr>\n",
       "      <th>352</th>\n",
       "      <td>[1442638747]</td>\n",
       "      <td>352</td>\n",
       "      <td>1</td>\n",
       "    </tr>\n",
       "    <tr>\n",
       "      <th>353</th>\n",
       "      <td>[1607146380]</td>\n",
       "      <td>353</td>\n",
       "      <td>1</td>\n",
       "    </tr>\n",
       "    <tr>\n",
       "      <th>354</th>\n",
       "      <td>[715274658015260674]</td>\n",
       "      <td>354</td>\n",
       "      <td>1</td>\n",
       "    </tr>\n",
       "    <tr>\n",
       "      <th>355</th>\n",
       "      <td>[1348061152073420802]</td>\n",
       "      <td>355</td>\n",
       "      <td>1</td>\n",
       "    </tr>\n",
       "  </tbody>\n",
       "</table>\n",
       "<p>356 rows × 3 columns</p>\n",
       "</div>"
      ],
      "text/plain": [
       "                                           communities  comm_id  comm_size\n",
       "0    [2412575347, 130979339, 1171384413948710916, 1...        0      19388\n",
       "1    [2252264887, 252168075, 204502692, 3442008615,...        1      15486\n",
       "2    [480627466, 593189095, 810065724, 387199960, 5...        2       3097\n",
       "3    [121474081, 1249220367593410561, 1282168010070...        3        213\n",
       "4    [1216417610, 1304145009374101504, 111614038, 9...        4        123\n",
       "..                                                 ...      ...        ...\n",
       "351                              [1151320289550188544]      351          1\n",
       "352                                       [1442638747]      352          1\n",
       "353                                       [1607146380]      353          1\n",
       "354                               [715274658015260674]      354          1\n",
       "355                              [1348061152073420802]      355          1\n",
       "\n",
       "[356 rows x 3 columns]"
      ]
     },
     "execution_count": 32,
     "metadata": {},
     "output_type": "execute_result"
    }
   ],
   "source": [
    "comm_df"
   ]
  },
  {
   "cell_type": "code",
   "execution_count": 20,
   "id": "321ea6bb-e7fe-481c-99e7-1afb2fa4e89f",
   "metadata": {},
   "outputs": [],
   "source": [
    "clase_0 = list(df_etiq[df_etiq['Clase'] == 0]['user'])\n",
    "clase_1 = list(df_etiq[df_etiq['Clase'] == 1]['user'])"
   ]
  },
  {
   "cell_type": "code",
   "execution_count": 21,
   "id": "470237d3-5a6c-4942-8689-f6e084f69b80",
   "metadata": {},
   "outputs": [
    {
     "data": {
      "text/plain": [
       "84"
      ]
     },
     "execution_count": 21,
     "metadata": {},
     "output_type": "execute_result"
    }
   ],
   "source": [
    "#Cantidad de usuarios de la clase 1 que se encuentran en la comunidad 2\n",
    "len([x for x in clase_0 if x in com_2])"
   ]
  },
  {
   "cell_type": "code",
   "execution_count": 22,
   "id": "03b034ac-3185-4742-87cc-697a7bbf0a82",
   "metadata": {},
   "outputs": [
    {
     "data": {
      "text/plain": [
       "65"
      ]
     },
     "execution_count": 22,
     "metadata": {},
     "output_type": "execute_result"
    }
   ],
   "source": [
    "#Cantidad de usuarios de la clase 0 que se encuentran en la comunidad 1\n",
    "len([x for x in clase_1 if x in com_1])"
   ]
  },
  {
   "cell_type": "markdown",
   "id": "c465bc2a-2ac1-4d0a-96d8-956cd0652f1f",
   "metadata": {},
   "source": [
    "Todos los usuarios de la clase 0 están presentes en la comunidad 2 y casi todos los usuarios de la clase 1 están presentes en la comunidad 1."
   ]
  },
  {
   "cell_type": "code",
   "execution_count": 23,
   "id": "de834001-8d98-472c-bb16-c85fe7f6087f",
   "metadata": {},
   "outputs": [],
   "source": [
    "#Exportamos df_etiq para punto 5\n",
    "df_etiq.to_csv('etiq.csv')"
   ]
  },
  {
   "cell_type": "code",
   "execution_count": 52,
   "id": "b210a888-8b21-4a41-85e1-4be45ee6b0eb",
   "metadata": {},
   "outputs": [],
   "source": [
    "#Exportamos 2 principales comunidades para punto 5\n",
    "comm_1 = pd.DataFrame(com_1).rename(columns={0:'comm_1'})\n",
    "comm_1.to_csv('comm_1.csv')\n",
    "comm_2 = pd.DataFrame(com_2).rename(columns={0:'comm_2'})\n",
    "comm_2.to_csv('comm_2.csv')"
   ]
  },
  {
   "cell_type": "markdown",
   "id": "28228493-d400-4c6d-9f70-f8f155b2a65d",
   "metadata": {},
   "source": [
    "### Opcional: \n",
    "Reconstruir el archivo \"etiquetas.csv\". Para eso, hacer lo siguiente \n",
    "- Construir un grafo en donde los nodos sean usuarios, y donde los enlaces unan dos nodos si entre ellos hubo más respuestas de apoyo que de oposición.\n",
    "- Extraer las dos componentes más grandes del grafo. Esos serán nuestros nodos etiquetados."
   ]
  }
 ],
 "metadata": {
  "kernelspec": {
   "display_name": "Python 3 (ipykernel)",
   "language": "python",
   "name": "python3"
  },
  "language_info": {
   "codemirror_mode": {
    "name": "ipython",
    "version": 3
   },
   "file_extension": ".py",
   "mimetype": "text/x-python",
   "name": "python",
   "nbconvert_exporter": "python",
   "pygments_lexer": "ipython3",
   "version": "3.9.5"
  }
 },
 "nbformat": 4,
 "nbformat_minor": 5
}
