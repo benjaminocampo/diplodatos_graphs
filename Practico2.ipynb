{
 "cells": [
  {
   "cell_type": "markdown",
   "id": "7d035562",
   "metadata": {},
   "source": [
    "# Práctico N° 2 Análisis de Grafos\n",
    "\n",
    "Integrantes: Nicolás Benjamín Ocampo, Antonela Sambuceti"
   ]
  },
  {
   "cell_type": "markdown",
   "id": "646fde0c",
   "metadata": {
    "jp-MarkdownHeadingCollapsed": true,
    "tags": []
   },
   "source": [
    "En este práctico, trabajaremos con un dataset extraído de Twitter. La idea es emplear los conceptos de grafos vistos en clase sobre un caso real de actualidad.\n",
    "\n",
    "## Dataset\n",
    "\n",
    "El dataset consiste en un conjunto de hilos de tweets, con un total de ~150000 tweets, extraídos entre Enero y Marzo de 2021. La temática de los mismos está referida a la vacunación contra el covid-19 en Argentina.\n",
    "\n",
    "Pueden descargar el dataset del siguiente [link](https://drive.google.com/file/d/1X_qKsE8muAnom2tDX4sLlmBAO0Ikfe_G/view?usp=sharing).\n",
    "\n",
    "### Campos\n",
    "\n",
    "- **created_at:** Fecha del tweet\n",
    "- **id_str:** ID del tweet\n",
    "- **full_text:** Contenido del tweet\n",
    "- **in_reply_to_status_id:** ID del tweet inmediatamente anterior en el hilo\n",
    "- **in_reply_to_user_id:** Autor del tweet inmediatamente anterior en el hilo\n",
    "- **user.id:** Autor del tweet\n",
    "- **user_retweeters:** Lista de ID de usuarios que retweetearon el tweet\n",
    "- **sentiment:** Etiquetado manual que indica el sentimiento o intención del tweet con respecto al tweet anterior en el hilo"
   ]
  },
  {
   "cell_type": "markdown",
   "id": "cf45147b",
   "metadata": {},
   "source": [
    "## Configuración inicial"
   ]
  },
  {
   "cell_type": "code",
   "execution_count": 85,
   "id": "08b772c5",
   "metadata": {},
   "outputs": [
    {
     "name": "stderr",
     "output_type": "stream",
     "text": [
      "[nltk_data] Downloading package stopwords to\n",
      "[nltk_data]     C:\\Users\\anto_\\AppData\\Roaming\\nltk_data...\n",
      "[nltk_data]   Package stopwords is already up-to-date!\n",
      "[nltk_data] Downloading package punkt to\n",
      "[nltk_data]     C:\\Users\\anto_\\AppData\\Roaming\\nltk_data...\n",
      "[nltk_data]   Package punkt is already up-to-date!\n"
     ]
    },
    {
     "data": {
      "text/plain": [
       "True"
      ]
     },
     "execution_count": 85,
     "metadata": {},
     "output_type": "execute_result"
    }
   ],
   "source": [
    "import pandas as pd\n",
    "import numpy as np\n",
    "import seaborn as sn\n",
    "import matplotlib.pyplot as plt\n",
    "import math\n",
    "from cdlib import NodeClustering, evaluation, algorithms\n",
    "import igraph as ig\n",
    "import networkx as nx\n",
    "import pickle\n",
    "\n",
    "from nltk import (corpus, tokenize, download)\n",
    "from wordcloud import WordCloud, STOPWORDS, ImageColorGenerator\n",
    "download(\"stopwords\")\n",
    "download('punkt')\n"
   ]
  },
  {
   "cell_type": "markdown",
   "id": "e7e5d1ee",
   "metadata": {},
   "source": [
    "### Cargamos el dataset"
   ]
  },
  {
   "cell_type": "code",
   "execution_count": 86,
   "id": "0140dca2",
   "metadata": {},
   "outputs": [
    {
     "name": "stdout",
     "output_type": "stream",
     "text": [
      "(155123, 8)\n"
     ]
    }
   ],
   "source": [
    "DATASET_FILE = \"dataset/vacunas.csv\"\n",
    "\n",
    "dtypes = {\n",
    "    'id_str': str,\n",
    "    'full_text': str,\n",
    "    'in_reply_to_status_id': str,\n",
    "    'in_reply_to_user_id': str,\n",
    "    'user.id': str\n",
    "}\n",
    "df = pd.read_csv(DATASET_FILE, dtype=dtypes).dropna(subset=['user_retweeters'])\n",
    "df['user_retweeters'] = df['user_retweeters'].apply(lambda x: [str(elem) for elem in eval(x)])\n",
    "print(df.shape)"
   ]
  },
  {
   "cell_type": "markdown",
   "id": "9398c2fd",
   "metadata": {},
   "source": [
    "### Construcción del grafo"
   ]
  },
  {
   "cell_type": "code",
   "execution_count": 87,
   "id": "0c0ac789",
   "metadata": {},
   "outputs": [],
   "source": [
    "users = df[\"user.id\"].unique().tolist()\n",
    "edges = []\n",
    "for _, (user_id, retweet_ids) in df[[\"user.id\", \"user_retweeters\"]].iterrows():\n",
    "    retweeters = [(user_id, rt) for rt in retweet_ids]\n",
    "    edges.extend(retweeters)"
   ]
  },
  {
   "cell_type": "code",
   "execution_count": 88,
   "id": "498dd4c4",
   "metadata": {},
   "outputs": [
    {
     "name": "stdout",
     "output_type": "stream",
     "text": [
      "Graph with 65934 nodes and 93404 edges\n"
     ]
    }
   ],
   "source": [
    "#calculamos grafo no dirigido\n",
    "G = nx.Graph()\n",
    "G.add_nodes_from(users)\n",
    "G.add_edges_from(edges)\n",
    "\n",
    "print(nx.info(G))"
   ]
  },
  {
   "cell_type": "markdown",
   "id": "ff442b73",
   "metadata": {},
   "source": [
    "Calculamos la componente conexa más grande"
   ]
  },
  {
   "cell_type": "code",
   "execution_count": 89,
   "id": "9768ad65",
   "metadata": {},
   "outputs": [],
   "source": [
    "largest_cc = max(nx.connected_components(G), key=len)"
   ]
  },
  {
   "cell_type": "code",
   "execution_count": 90,
   "id": "8b0ee5cd",
   "metadata": {},
   "outputs": [
    {
     "name": "stdout",
     "output_type": "stream",
     "text": [
      "Graph with 39800 nodes and 93404 edges\n"
     ]
    }
   ],
   "source": [
    "larg_G = nx.Graph()\n",
    "larg_G.add_nodes_from(largest_cc)\n",
    "larg_G.add_edges_from(edges)\n",
    "\n",
    "print(nx.info(larg_G))"
   ]
  },
  {
   "cell_type": "code",
   "execution_count": 91,
   "id": "09e12c30",
   "metadata": {},
   "outputs": [],
   "source": [
    "df_user = pd.DataFrame({'user':list(larg_G.nodes())})"
   ]
  },
  {
   "cell_type": "code",
   "execution_count": 92,
   "id": "81d11452",
   "metadata": {},
   "outputs": [],
   "source": [
    "deg_seq = np.array([k for v, k in larg_G.degree()])\n",
    "df_user['degree'] = deg_seq"
   ]
  },
  {
   "cell_type": "code",
   "execution_count": 98,
   "id": "a9741c0d-8a7e-4a47-b5b3-fc355fe62ce6",
   "metadata": {},
   "outputs": [],
   "source": [
    "#Exportamos el grafo para trabajar en colab\n",
    "nx.write_gpickle(larg_G, \"larg_G.gpickle\")"
   ]
  },
  {
   "cell_type": "markdown",
   "id": "071387ed",
   "metadata": {
    "tags": []
   },
   "source": [
    "### Cálculo de Medidas de Centralidad"
   ]
  },
  {
   "cell_type": "code",
   "execution_count": 9,
   "id": "9bc8b54f-091f-4ee0-9b88-db7d7b6d9562",
   "metadata": {},
   "outputs": [
    {
     "name": "stdout",
     "output_type": "stream",
     "text": [
      "IGRAPH UN-- 39800 93404 -- \n",
      "+ attr: name (v)\n"
     ]
    }
   ],
   "source": [
    "#generados grafo para libreria igraph\n",
    "g_ig = ig.Graph.TupleList(larg_G.edges())\n",
    "print(g_ig.summary())"
   ]
  },
  {
   "cell_type": "code",
   "execution_count": 10,
   "id": "e58b0f72",
   "metadata": {},
   "outputs": [],
   "source": [
    "betweenness = g_ig.betweenness()\n",
    "eigenvector = nx.eigenvector_centrality(larg_G,max_iter=1000)\n",
    "pagerank = nx.pagerank(larg_G)\n",
    "clustering_coefficient =  nx.clustering(larg_G)"
   ]
  },
  {
   "cell_type": "code",
   "execution_count": 11,
   "id": "0ab69e4b",
   "metadata": {},
   "outputs": [
    {
     "data": {
      "text/html": [
       "<div>\n",
       "<style scoped>\n",
       "    .dataframe tbody tr th:only-of-type {\n",
       "        vertical-align: middle;\n",
       "    }\n",
       "\n",
       "    .dataframe tbody tr th {\n",
       "        vertical-align: top;\n",
       "    }\n",
       "\n",
       "    .dataframe thead th {\n",
       "        text-align: right;\n",
       "    }\n",
       "</style>\n",
       "<table border=\"1\" class=\"dataframe\">\n",
       "  <thead>\n",
       "    <tr style=\"text-align: right;\">\n",
       "      <th></th>\n",
       "      <th>degree</th>\n",
       "      <th>betweenness</th>\n",
       "      <th>eigenvector</th>\n",
       "      <th>pagerank</th>\n",
       "      <th>Cws</th>\n",
       "    </tr>\n",
       "  </thead>\n",
       "  <tbody>\n",
       "    <tr>\n",
       "      <th>count</th>\n",
       "      <td>39800.00</td>\n",
       "      <td>3.980000e+04</td>\n",
       "      <td>39800.00</td>\n",
       "      <td>39800.00</td>\n",
       "      <td>39800.00</td>\n",
       "    </tr>\n",
       "    <tr>\n",
       "      <th>mean</th>\n",
       "      <td>4.69</td>\n",
       "      <td>5.310058e+04</td>\n",
       "      <td>0.00</td>\n",
       "      <td>0.00</td>\n",
       "      <td>0.10</td>\n",
       "    </tr>\n",
       "    <tr>\n",
       "      <th>std</th>\n",
       "      <td>69.30</td>\n",
       "      <td>2.036286e+06</td>\n",
       "      <td>0.00</td>\n",
       "      <td>0.00</td>\n",
       "      <td>0.24</td>\n",
       "    </tr>\n",
       "    <tr>\n",
       "      <th>min</th>\n",
       "      <td>1.00</td>\n",
       "      <td>0.000000e+00</td>\n",
       "      <td>0.00</td>\n",
       "      <td>0.00</td>\n",
       "      <td>0.00</td>\n",
       "    </tr>\n",
       "    <tr>\n",
       "      <th>25%</th>\n",
       "      <td>1.00</td>\n",
       "      <td>0.000000e+00</td>\n",
       "      <td>0.00</td>\n",
       "      <td>0.00</td>\n",
       "      <td>0.00</td>\n",
       "    </tr>\n",
       "    <tr>\n",
       "      <th>50%</th>\n",
       "      <td>1.00</td>\n",
       "      <td>0.000000e+00</td>\n",
       "      <td>0.00</td>\n",
       "      <td>0.00</td>\n",
       "      <td>0.00</td>\n",
       "    </tr>\n",
       "    <tr>\n",
       "      <th>75%</th>\n",
       "      <td>3.00</td>\n",
       "      <td>2.133930e+03</td>\n",
       "      <td>0.00</td>\n",
       "      <td>0.00</td>\n",
       "      <td>0.00</td>\n",
       "    </tr>\n",
       "    <tr>\n",
       "      <th>max</th>\n",
       "      <td>8207.00</td>\n",
       "      <td>2.703364e+08</td>\n",
       "      <td>0.36</td>\n",
       "      <td>0.04</td>\n",
       "      <td>1.00</td>\n",
       "    </tr>\n",
       "  </tbody>\n",
       "</table>\n",
       "</div>"
      ],
      "text/plain": [
       "         degree   betweenness  eigenvector  pagerank       Cws\n",
       "count  39800.00  3.980000e+04     39800.00  39800.00  39800.00\n",
       "mean       4.69  5.310058e+04         0.00      0.00      0.10\n",
       "std       69.30  2.036286e+06         0.00      0.00      0.24\n",
       "min        1.00  0.000000e+00         0.00      0.00      0.00\n",
       "25%        1.00  0.000000e+00         0.00      0.00      0.00\n",
       "50%        1.00  0.000000e+00         0.00      0.00      0.00\n",
       "75%        3.00  2.133930e+03         0.00      0.00      0.00\n",
       "max     8207.00  2.703364e+08         0.36      0.04      1.00"
      ]
     },
     "execution_count": 11,
     "metadata": {},
     "output_type": "execute_result"
    }
   ],
   "source": [
    "df_user['betweenness'] = betweenness\n",
    "df_user['eigenvector'] = list(eigenvector.values())\n",
    "df_user['pagerank'] = list(pagerank.values())\n",
    "df_user['Cws'] = list(clustering_coefficient.values())\n",
    "\n",
    "df_user.describe().round(2)"
   ]
  },
  {
   "cell_type": "code",
   "execution_count": 12,
   "id": "14587fdc-0e83-40a0-84ed-dee8d0d2f446",
   "metadata": {},
   "outputs": [
    {
     "data": {
      "text/html": [
       "<div>\n",
       "<style scoped>\n",
       "    .dataframe tbody tr th:only-of-type {\n",
       "        vertical-align: middle;\n",
       "    }\n",
       "\n",
       "    .dataframe tbody tr th {\n",
       "        vertical-align: top;\n",
       "    }\n",
       "\n",
       "    .dataframe thead th {\n",
       "        text-align: right;\n",
       "    }\n",
       "</style>\n",
       "<table border=\"1\" class=\"dataframe\">\n",
       "  <thead>\n",
       "    <tr style=\"text-align: right;\">\n",
       "      <th></th>\n",
       "      <th>degree</th>\n",
       "      <th>eigenvector</th>\n",
       "      <th>pagerank</th>\n",
       "      <th>Cws</th>\n",
       "      <th>betweenness</th>\n",
       "    </tr>\n",
       "  </thead>\n",
       "  <tbody>\n",
       "    <tr>\n",
       "      <th>0</th>\n",
       "      <td>252168075</td>\n",
       "      <td>130979339</td>\n",
       "      <td>252168075</td>\n",
       "      <td>297767050</td>\n",
       "      <td>141298600</td>\n",
       "    </tr>\n",
       "    <tr>\n",
       "      <th>1</th>\n",
       "      <td>130979339</td>\n",
       "      <td>73102744</td>\n",
       "      <td>130979339</td>\n",
       "      <td>449875232</td>\n",
       "      <td>876225889025085441</td>\n",
       "    </tr>\n",
       "    <tr>\n",
       "      <th>2</th>\n",
       "      <td>73102744</td>\n",
       "      <td>252168075</td>\n",
       "      <td>73102744</td>\n",
       "      <td>1364419256658591750</td>\n",
       "      <td>310377136</td>\n",
       "    </tr>\n",
       "    <tr>\n",
       "      <th>3</th>\n",
       "      <td>367933714</td>\n",
       "      <td>367933714</td>\n",
       "      <td>593189095</td>\n",
       "      <td>1169756487612358656</td>\n",
       "      <td>1277348497721876481</td>\n",
       "    </tr>\n",
       "    <tr>\n",
       "      <th>4</th>\n",
       "      <td>593189095</td>\n",
       "      <td>2687724840</td>\n",
       "      <td>367933714</td>\n",
       "      <td>982633981719072769</td>\n",
       "      <td>1324866284195024896</td>\n",
       "    </tr>\n",
       "    <tr>\n",
       "      <th>5</th>\n",
       "      <td>2687724840</td>\n",
       "      <td>593189095</td>\n",
       "      <td>2687724840</td>\n",
       "      <td>1026326278910234625</td>\n",
       "      <td>336706010</td>\n",
       "    </tr>\n",
       "    <tr>\n",
       "      <th>6</th>\n",
       "      <td>931564592328781824</td>\n",
       "      <td>312708081</td>\n",
       "      <td>144929758</td>\n",
       "      <td>1200475594410151936</td>\n",
       "      <td>4627808362</td>\n",
       "    </tr>\n",
       "    <tr>\n",
       "      <th>7</th>\n",
       "      <td>144929758</td>\n",
       "      <td>144929758</td>\n",
       "      <td>931564592328781824</td>\n",
       "      <td>67229075</td>\n",
       "      <td>1171822801113759750</td>\n",
       "    </tr>\n",
       "    <tr>\n",
       "      <th>8</th>\n",
       "      <td>312708081</td>\n",
       "      <td>931564592328781824</td>\n",
       "      <td>312708081</td>\n",
       "      <td>196442815</td>\n",
       "      <td>920082176</td>\n",
       "    </tr>\n",
       "    <tr>\n",
       "      <th>9</th>\n",
       "      <td>1077176953</td>\n",
       "      <td>959033548379508736</td>\n",
       "      <td>1077176953</td>\n",
       "      <td>3383952485</td>\n",
       "      <td>31058772</td>\n",
       "    </tr>\n",
       "  </tbody>\n",
       "</table>\n",
       "</div>"
      ],
      "text/plain": [
       "               degree         eigenvector            pagerank  \\\n",
       "0           252168075           130979339           252168075   \n",
       "1           130979339            73102744           130979339   \n",
       "2            73102744           252168075            73102744   \n",
       "3           367933714           367933714           593189095   \n",
       "4           593189095          2687724840           367933714   \n",
       "5          2687724840           593189095          2687724840   \n",
       "6  931564592328781824           312708081           144929758   \n",
       "7           144929758           144929758  931564592328781824   \n",
       "8           312708081  931564592328781824           312708081   \n",
       "9          1077176953  959033548379508736          1077176953   \n",
       "\n",
       "                   Cws          betweenness  \n",
       "0            297767050            141298600  \n",
       "1            449875232   876225889025085441  \n",
       "2  1364419256658591750            310377136  \n",
       "3  1169756487612358656  1277348497721876481  \n",
       "4   982633981719072769  1324866284195024896  \n",
       "5  1026326278910234625            336706010  \n",
       "6  1200475594410151936           4627808362  \n",
       "7             67229075  1171822801113759750  \n",
       "8            196442815            920082176  \n",
       "9           3383952485             31058772  "
      ]
     },
     "execution_count": 12,
     "metadata": {},
     "output_type": "execute_result"
    }
   ],
   "source": [
    "columns=['degree','eigenvector','pagerank','Cws', 'betweenness']\n",
    "data = {}\n",
    "for col in columns:\n",
    "    top_users = df_user.nlargest(10, columns=[col])['user'].tolist()\n",
    "    data[col] = top_users\n",
    "pd.DataFrame(data)"
   ]
  },
  {
   "cell_type": "markdown",
   "id": "020ca883",
   "metadata": {
    "tags": []
   },
   "source": [
    "### Cálculo de Comunidades"
   ]
  },
  {
   "cell_type": "markdown",
   "id": "dc857b63",
   "metadata": {},
   "source": [
    "#### Algoritmo de Louvain"
   ]
  },
  {
   "cell_type": "markdown",
   "id": "7488cbba-9315-40fa-bf19-36a4ef087ff8",
   "metadata": {},
   "source": [
    "Recalculamos las comunidades con el algoritmo de Louvain con resolution 2, para quedarnos con 2 grandes comunidades para analizar."
   ]
  },
  {
   "cell_type": "code",
   "execution_count": 13,
   "id": "93a47eac",
   "metadata": {},
   "outputs": [],
   "source": [
    "comms = algorithms.louvain(larg_G, resolution=2, randomize=False)"
   ]
  },
  {
   "cell_type": "code",
   "execution_count": 14,
   "id": "8fd5c624",
   "metadata": {},
   "outputs": [],
   "source": [
    "comm_df = pd.DataFrame({\n",
    "    \"communities\": comms.communities,\n",
    "    \"comm_id\": np.arange(0, len(comms.communities))\n",
    "})"
   ]
  },
  {
   "cell_type": "code",
   "execution_count": 15,
   "id": "fa34fb2c",
   "metadata": {},
   "outputs": [],
   "source": [
    "comm_df = comm_df.assign(comm_size=comm_df[\"communities\"].apply(lambda c: len(c)))"
   ]
  },
  {
   "cell_type": "markdown",
   "id": "16eb5398-6d5a-42c9-939f-e0b50919efba",
   "metadata": {},
   "source": [
    "## Actividades"
   ]
  },
  {
   "cell_type": "markdown",
   "id": "dbe2f769-fe8d-4180-80da-43607ad3251d",
   "metadata": {},
   "source": [
    "### 4. Extracción de etiquetas\n",
    "En el archivo etiquetas.csv están las etiquetas para un pequeño subconjunto de nodos. Podemos interpretar el valor de la etiqueta como la pertenencia a una determinada clase, donde los usuarios de una misma clase en general tienden a expresar apoyo entre sí."
   ]
  },
  {
   "cell_type": "code",
   "execution_count": 18,
   "id": "77055be5-5dc3-4336-bf7d-09a0fc25282a",
   "metadata": {},
   "outputs": [],
   "source": [
    "DATASET_FILE = \"dataset/etiquetas.csv\"\n",
    "\n",
    "df_etiq = pd.read_csv(DATASET_FILE, dtype=dtypes)\n",
    "df_etiq= df_etiq.rename(columns={'user.id':'user'})"
   ]
  },
  {
   "cell_type": "code",
   "execution_count": 19,
   "id": "3aa76896-d852-4b52-b400-9f79b0bee05a",
   "metadata": {},
   "outputs": [
    {
     "data": {
      "text/plain": [
       "0    107\n",
       "1     89\n",
       "Name: Clase, dtype: int64"
      ]
     },
     "execution_count": 19,
     "metadata": {},
     "output_type": "execute_result"
    }
   ],
   "source": [
    "df_etiq.Clase.value_counts()"
   ]
  },
  {
   "cell_type": "code",
   "execution_count": 20,
   "id": "576a0575-569c-4cdf-b010-92cb37930f0a",
   "metadata": {},
   "outputs": [
    {
     "data": {
      "text/html": [
       "<div>\n",
       "<style scoped>\n",
       "    .dataframe tbody tr th:only-of-type {\n",
       "        vertical-align: middle;\n",
       "    }\n",
       "\n",
       "    .dataframe tbody tr th {\n",
       "        vertical-align: top;\n",
       "    }\n",
       "\n",
       "    .dataframe thead th {\n",
       "        text-align: right;\n",
       "    }\n",
       "</style>\n",
       "<table border=\"1\" class=\"dataframe\">\n",
       "  <thead>\n",
       "    <tr style=\"text-align: right;\">\n",
       "      <th></th>\n",
       "      <th>user</th>\n",
       "      <th>Clase</th>\n",
       "      <th>degree</th>\n",
       "      <th>betweenness</th>\n",
       "      <th>eigenvector</th>\n",
       "      <th>pagerank</th>\n",
       "      <th>Cws</th>\n",
       "    </tr>\n",
       "  </thead>\n",
       "  <tbody>\n",
       "    <tr>\n",
       "      <th>2</th>\n",
       "      <td>1329815581302853632</td>\n",
       "      <td>0</td>\n",
       "      <td>1.0</td>\n",
       "      <td>0.000000</td>\n",
       "      <td>0.002809</td>\n",
       "      <td>0.000008</td>\n",
       "      <td>0.000000</td>\n",
       "    </tr>\n",
       "    <tr>\n",
       "      <th>4</th>\n",
       "      <td>811607948</td>\n",
       "      <td>0</td>\n",
       "      <td>5.0</td>\n",
       "      <td>2132.671224</td>\n",
       "      <td>0.003172</td>\n",
       "      <td>0.000019</td>\n",
       "      <td>0.400000</td>\n",
       "    </tr>\n",
       "    <tr>\n",
       "      <th>5</th>\n",
       "      <td>405924380</td>\n",
       "      <td>0</td>\n",
       "      <td>72.0</td>\n",
       "      <td>2684.213654</td>\n",
       "      <td>0.007031</td>\n",
       "      <td>0.000243</td>\n",
       "      <td>0.046557</td>\n",
       "    </tr>\n",
       "    <tr>\n",
       "      <th>6</th>\n",
       "      <td>811960507829800960</td>\n",
       "      <td>0</td>\n",
       "      <td>7.0</td>\n",
       "      <td>16751.992698</td>\n",
       "      <td>0.000260</td>\n",
       "      <td>0.000031</td>\n",
       "      <td>0.000000</td>\n",
       "    </tr>\n",
       "    <tr>\n",
       "      <th>7</th>\n",
       "      <td>3108851163</td>\n",
       "      <td>0</td>\n",
       "      <td>41.0</td>\n",
       "      <td>0.000000</td>\n",
       "      <td>0.005029</td>\n",
       "      <td>0.000135</td>\n",
       "      <td>0.056098</td>\n",
       "    </tr>\n",
       "    <tr>\n",
       "      <th>...</th>\n",
       "      <td>...</td>\n",
       "      <td>...</td>\n",
       "      <td>...</td>\n",
       "      <td>...</td>\n",
       "      <td>...</td>\n",
       "      <td>...</td>\n",
       "      <td>...</td>\n",
       "    </tr>\n",
       "    <tr>\n",
       "      <th>190</th>\n",
       "      <td>1183974626</td>\n",
       "      <td>1</td>\n",
       "      <td>8.0</td>\n",
       "      <td>0.000000</td>\n",
       "      <td>0.012996</td>\n",
       "      <td>0.000039</td>\n",
       "      <td>0.500000</td>\n",
       "    </tr>\n",
       "    <tr>\n",
       "      <th>191</th>\n",
       "      <td>15750760</td>\n",
       "      <td>1</td>\n",
       "      <td>1.0</td>\n",
       "      <td>0.000000</td>\n",
       "      <td>0.000112</td>\n",
       "      <td>0.000008</td>\n",
       "      <td>0.000000</td>\n",
       "    </tr>\n",
       "    <tr>\n",
       "      <th>192</th>\n",
       "      <td>882731195834003457</td>\n",
       "      <td>1</td>\n",
       "      <td>1.0</td>\n",
       "      <td>0.000000</td>\n",
       "      <td>0.000179</td>\n",
       "      <td>0.000008</td>\n",
       "      <td>0.000000</td>\n",
       "    </tr>\n",
       "    <tr>\n",
       "      <th>193</th>\n",
       "      <td>164350783</td>\n",
       "      <td>1</td>\n",
       "      <td>8.0</td>\n",
       "      <td>0.000000</td>\n",
       "      <td>0.004351</td>\n",
       "      <td>0.000037</td>\n",
       "      <td>0.178571</td>\n",
       "    </tr>\n",
       "    <tr>\n",
       "      <th>194</th>\n",
       "      <td>1249892637085237258</td>\n",
       "      <td>1</td>\n",
       "      <td>5.0</td>\n",
       "      <td>159.572978</td>\n",
       "      <td>0.000640</td>\n",
       "      <td>0.000023</td>\n",
       "      <td>0.300000</td>\n",
       "    </tr>\n",
       "  </tbody>\n",
       "</table>\n",
       "<p>152 rows × 7 columns</p>\n",
       "</div>"
      ],
      "text/plain": [
       "                    user  Clase  degree   betweenness  eigenvector  pagerank  \\\n",
       "2    1329815581302853632      0     1.0      0.000000     0.002809  0.000008   \n",
       "4              811607948      0     5.0   2132.671224     0.003172  0.000019   \n",
       "5              405924380      0    72.0   2684.213654     0.007031  0.000243   \n",
       "6     811960507829800960      0     7.0  16751.992698     0.000260  0.000031   \n",
       "7             3108851163      0    41.0      0.000000     0.005029  0.000135   \n",
       "..                   ...    ...     ...           ...          ...       ...   \n",
       "190           1183974626      1     8.0      0.000000     0.012996  0.000039   \n",
       "191             15750760      1     1.0      0.000000     0.000112  0.000008   \n",
       "192   882731195834003457      1     1.0      0.000000     0.000179  0.000008   \n",
       "193            164350783      1     8.0      0.000000     0.004351  0.000037   \n",
       "194  1249892637085237258      1     5.0    159.572978     0.000640  0.000023   \n",
       "\n",
       "          Cws  \n",
       "2    0.000000  \n",
       "4    0.400000  \n",
       "5    0.046557  \n",
       "6    0.000000  \n",
       "7    0.056098  \n",
       "..        ...  \n",
       "190  0.500000  \n",
       "191  0.000000  \n",
       "192  0.000000  \n",
       "193  0.178571  \n",
       "194  0.300000  \n",
       "\n",
       "[152 rows x 7 columns]"
      ]
     },
     "execution_count": 20,
     "metadata": {},
     "output_type": "execute_result"
    }
   ],
   "source": [
    "df_etiq = pd.merge(df_etiq, df_user, on='user',how='left')\n",
    "df_etiq= df_etiq.dropna()"
   ]
  },
  {
   "cell_type": "code",
   "execution_count": 44,
   "id": "f1b1446e-86f6-49a5-b10b-f8a60a3b6d9e",
   "metadata": {},
   "outputs": [
    {
     "data": {
      "text/plain": [
       "0    84\n",
       "1    68\n",
       "Name: Clase, dtype: int64"
      ]
     },
     "execution_count": 44,
     "metadata": {},
     "output_type": "execute_result"
    }
   ],
   "source": [
    "df_etiq.Clase.value_counts()"
   ]
  },
  {
   "cell_type": "markdown",
   "id": "af3d322f-6f47-494a-b878-0ccdb2f6ca5f",
   "metadata": {},
   "source": [
    "#### 4.1 Usuarios referentes de cada clase \n",
    "Utilizar alguna medida de centralidad calculada sobre el grafo de retweets."
   ]
  },
  {
   "cell_type": "code",
   "execution_count": 45,
   "id": "0d35194e-c31e-4051-9d45-da2865b412a6",
   "metadata": {},
   "outputs": [
    {
     "data": {
      "text/html": [
       "<div>\n",
       "<style scoped>\n",
       "    .dataframe tbody tr th:only-of-type {\n",
       "        vertical-align: middle;\n",
       "    }\n",
       "\n",
       "    .dataframe tbody tr th {\n",
       "        vertical-align: top;\n",
       "    }\n",
       "\n",
       "    .dataframe thead th {\n",
       "        text-align: right;\n",
       "    }\n",
       "</style>\n",
       "<table border=\"1\" class=\"dataframe\">\n",
       "  <thead>\n",
       "    <tr style=\"text-align: right;\">\n",
       "      <th></th>\n",
       "      <th>degree</th>\n",
       "      <th>eigenvector</th>\n",
       "      <th>pagerank</th>\n",
       "      <th>Cws</th>\n",
       "      <th>betweenness</th>\n",
       "    </tr>\n",
       "  </thead>\n",
       "  <tbody>\n",
       "    <tr>\n",
       "      <th>0</th>\n",
       "      <td>252168075</td>\n",
       "      <td>252168075</td>\n",
       "      <td>252168075</td>\n",
       "      <td>2947569093</td>\n",
       "      <td>1180936849</td>\n",
       "    </tr>\n",
       "    <tr>\n",
       "      <th>1</th>\n",
       "      <td>510740590</td>\n",
       "      <td>510740590</td>\n",
       "      <td>510740590</td>\n",
       "      <td>140374618</td>\n",
       "      <td>510740590</td>\n",
       "    </tr>\n",
       "    <tr>\n",
       "      <th>2</th>\n",
       "      <td>145493922</td>\n",
       "      <td>145493922</td>\n",
       "      <td>43814969</td>\n",
       "      <td>172417422</td>\n",
       "      <td>202984292</td>\n",
       "    </tr>\n",
       "    <tr>\n",
       "      <th>3</th>\n",
       "      <td>484349869</td>\n",
       "      <td>484349869</td>\n",
       "      <td>145493922</td>\n",
       "      <td>973491850530164736</td>\n",
       "      <td>290671142</td>\n",
       "    </tr>\n",
       "    <tr>\n",
       "      <th>4</th>\n",
       "      <td>43814969</td>\n",
       "      <td>1272713534078619648</td>\n",
       "      <td>484349869</td>\n",
       "      <td>811607948</td>\n",
       "      <td>1290051460810629122</td>\n",
       "    </tr>\n",
       "  </tbody>\n",
       "</table>\n",
       "</div>"
      ],
      "text/plain": [
       "      degree          eigenvector   pagerank                 Cws  \\\n",
       "0  252168075            252168075  252168075          2947569093   \n",
       "1  510740590            510740590  510740590           140374618   \n",
       "2  145493922            145493922   43814969           172417422   \n",
       "3  484349869            484349869  145493922  973491850530164736   \n",
       "4   43814969  1272713534078619648  484349869           811607948   \n",
       "\n",
       "           betweenness  \n",
       "0           1180936849  \n",
       "1            510740590  \n",
       "2            202984292  \n",
       "3            290671142  \n",
       "4  1290051460810629122  "
      ]
     },
     "execution_count": 45,
     "metadata": {},
     "output_type": "execute_result"
    }
   ],
   "source": [
    "#Top para clase 0\n",
    "columns=['degree','eigenvector','pagerank','Cws', 'betweenness']\n",
    "data = {}\n",
    "for col in columns:\n",
    "    top_users = df_etiq[df_etiq['Clase'] == 0].nlargest(5, columns=[col])['user'].tolist()\n",
    "    data[col] = top_users\n",
    "pd.DataFrame(data)"
   ]
  },
  {
   "cell_type": "markdown",
   "id": "d34e7db4-c702-4e75-a0de-82da6ee8971a",
   "metadata": {},
   "source": [
    "Obsevamos que el usuario 252168075, correspondiente a Norabar, que había sido seleccionado en el top10 de influencers en el enunciado número 2, también se encuentra en como principal influencer de la clase 0."
   ]
  },
  {
   "cell_type": "code",
   "execution_count": 46,
   "id": "2dec572f-21c4-464a-8f14-b799fed797e2",
   "metadata": {},
   "outputs": [
    {
     "data": {
      "text/html": [
       "<div>\n",
       "<style scoped>\n",
       "    .dataframe tbody tr th:only-of-type {\n",
       "        vertical-align: middle;\n",
       "    }\n",
       "\n",
       "    .dataframe tbody tr th {\n",
       "        vertical-align: top;\n",
       "    }\n",
       "\n",
       "    .dataframe thead th {\n",
       "        text-align: right;\n",
       "    }\n",
       "</style>\n",
       "<table border=\"1\" class=\"dataframe\">\n",
       "  <thead>\n",
       "    <tr style=\"text-align: right;\">\n",
       "      <th></th>\n",
       "      <th>degree</th>\n",
       "      <th>eigenvector</th>\n",
       "      <th>pagerank</th>\n",
       "      <th>Cws</th>\n",
       "      <th>betweenness</th>\n",
       "    </tr>\n",
       "  </thead>\n",
       "  <tbody>\n",
       "    <tr>\n",
       "      <th>0</th>\n",
       "      <td>73102744</td>\n",
       "      <td>73102744</td>\n",
       "      <td>73102744</td>\n",
       "      <td>910956876686381058</td>\n",
       "      <td>202824848</td>\n",
       "    </tr>\n",
       "    <tr>\n",
       "      <th>1</th>\n",
       "      <td>367933714</td>\n",
       "      <td>367933714</td>\n",
       "      <td>367933714</td>\n",
       "      <td>146631761</td>\n",
       "      <td>60939248</td>\n",
       "    </tr>\n",
       "    <tr>\n",
       "      <th>2</th>\n",
       "      <td>2687724840</td>\n",
       "      <td>2687724840</td>\n",
       "      <td>2687724840</td>\n",
       "      <td>1212718019849248768</td>\n",
       "      <td>1163194886352461824</td>\n",
       "    </tr>\n",
       "    <tr>\n",
       "      <th>3</th>\n",
       "      <td>3421061763</td>\n",
       "      <td>3421061763</td>\n",
       "      <td>3421061763</td>\n",
       "      <td>1183974626</td>\n",
       "      <td>1954572703</td>\n",
       "    </tr>\n",
       "    <tr>\n",
       "      <th>4</th>\n",
       "      <td>4160782817</td>\n",
       "      <td>4160782817</td>\n",
       "      <td>4160782817</td>\n",
       "      <td>2693592596</td>\n",
       "      <td>837186873143488514</td>\n",
       "    </tr>\n",
       "  </tbody>\n",
       "</table>\n",
       "</div>"
      ],
      "text/plain": [
       "       degree eigenvector    pagerank                  Cws  \\\n",
       "0    73102744    73102744    73102744   910956876686381058   \n",
       "1   367933714   367933714   367933714            146631761   \n",
       "2  2687724840  2687724840  2687724840  1212718019849248768   \n",
       "3  3421061763  3421061763  3421061763           1183974626   \n",
       "4  4160782817  4160782817  4160782817           2693592596   \n",
       "\n",
       "           betweenness  \n",
       "0            202824848  \n",
       "1             60939248  \n",
       "2  1163194886352461824  \n",
       "3           1954572703  \n",
       "4   837186873143488514  "
      ]
     },
     "execution_count": 46,
     "metadata": {},
     "output_type": "execute_result"
    }
   ],
   "source": [
    "#Top para clase 1\n",
    "columns=['degree','eigenvector','pagerank','Cws', 'betweenness']\n",
    "data = {}\n",
    "for col in columns:\n",
    "    top_users = df_etiq[df_etiq['Clase'] == 1].nlargest(5, columns=[col])['user'].tolist()\n",
    "    data[col] = top_users\n",
    "pd.DataFrame(data)"
   ]
  },
  {
   "cell_type": "markdown",
   "id": "b8e77952-8483-4070-8bd3-b78ae7df0bfc",
   "metadata": {},
   "source": [
    "Obsevamos que el usuario 73102744, correspondiente a Ernestorr, que había sido seleccionado en el top10 de influencers en el enunciado número 2, también se encuentra en como principal influencer de la clase 1."
   ]
  },
  {
   "cell_type": "markdown",
   "id": "9f7db990-6c8e-4d2f-88f7-b38a429ddf86",
   "metadata": {},
   "source": [
    "#### 4.2 Utilizando los resultados del práctico anterior, determinar si los usuarios de cada clase forman parte de distintas comunidades"
   ]
  },
  {
   "cell_type": "code",
   "execution_count": 57,
   "id": "d9b86304-5753-42c8-b6e3-640c2d48e144",
   "metadata": {},
   "outputs": [
    {
     "data": {
      "text/plain": [
       "Index(['communities', 'comm_id', 'comm_size'], dtype='object')"
      ]
     },
     "execution_count": 57,
     "metadata": {},
     "output_type": "execute_result"
    }
   ],
   "source": [
    "comm_df.columns"
   ]
  },
  {
   "cell_type": "code",
   "execution_count": 68,
   "id": "d44baccf-f7d3-4ba6-b7c5-a8f796565577",
   "metadata": {},
   "outputs": [],
   "source": [
    "com_1 = list(comm_df[\"communities\"][0])\n",
    "com_2 = list(comm_df[\"communities\"][1])"
   ]
  },
  {
   "cell_type": "code",
   "execution_count": 71,
   "id": "321ea6bb-e7fe-481c-99e7-1afb2fa4e89f",
   "metadata": {},
   "outputs": [],
   "source": [
    "clase_0 = list(df_etiq[df_etiq['Clase'] == 0]['user'])\n",
    "clase_1 = list(df_etiq[df_etiq['Clase'] == 1]['user'])"
   ]
  },
  {
   "cell_type": "code",
   "execution_count": 77,
   "id": "470237d3-5a6c-4942-8689-f6e084f69b80",
   "metadata": {},
   "outputs": [
    {
     "data": {
      "text/plain": [
       "84"
      ]
     },
     "execution_count": 77,
     "metadata": {},
     "output_type": "execute_result"
    }
   ],
   "source": [
    "#Cantidad de usuarios de la clase 1 que se encuentran en la comunidad 2\n",
    "len([x for x in clase_0 if x in com_2])"
   ]
  },
  {
   "cell_type": "code",
   "execution_count": 78,
   "id": "03b034ac-3185-4742-87cc-697a7bbf0a82",
   "metadata": {},
   "outputs": [
    {
     "data": {
      "text/plain": [
       "65"
      ]
     },
     "execution_count": 78,
     "metadata": {},
     "output_type": "execute_result"
    }
   ],
   "source": [
    "#Cantidad de usuarios de la clase 0 que se encuentran en la comunidad 1\n",
    "len([x for x in clase_1 if x in com_1])"
   ]
  },
  {
   "cell_type": "markdown",
   "id": "c465bc2a-2ac1-4d0a-96d8-956cd0652f1f",
   "metadata": {},
   "source": [
    "Todos los usuarios de la clase 0 están presentes en la comunidad 2 y casi todos los usuarios de la clase 1 están presentes en la comunidad 1."
   ]
  },
  {
   "cell_type": "markdown",
   "id": "28228493-d400-4c6d-9f70-f8f155b2a65d",
   "metadata": {},
   "source": [
    "### Opcional: \n",
    "Reconstruir el archivo \"etiquetas.csv\". Para eso, hacer lo siguiente \n",
    "- Construir un grafo en donde los nodos sean usuarios, y donde los enlaces unan dos nodos si entre ellos hubo más respuestas de apoyo que de oposición.\n",
    "- Extraer las dos componentes más grandes del grafo. Esos serán nuestros nodos etiquetados."
   ]
  },
  {
   "cell_type": "code",
   "execution_count": null,
   "id": "1434f14e-0c44-4330-ae5d-ed3f3a95b5c6",
   "metadata": {},
   "outputs": [],
   "source": []
  }
 ],
 "metadata": {
  "kernelspec": {
   "display_name": "Python 3 (ipykernel)",
   "language": "python",
   "name": "python3"
  },
  "language_info": {
   "codemirror_mode": {
    "name": "ipython",
    "version": 3
   },
   "file_extension": ".py",
   "mimetype": "text/x-python",
   "name": "python",
   "nbconvert_exporter": "python",
   "pygments_lexer": "ipython3",
   "version": "3.9.5"
  }
 },
 "nbformat": 4,
 "nbformat_minor": 5
}
