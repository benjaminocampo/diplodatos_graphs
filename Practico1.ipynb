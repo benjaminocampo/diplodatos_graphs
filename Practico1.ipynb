{
 "cells": [
  {
   "cell_type": "markdown",
   "id": "d1ab2995",
   "metadata": {},
   "source": [
    "# Práctico 1"
   ]
  },
  {
   "cell_type": "markdown",
   "id": "26e0f612",
   "metadata": {
    "jp-MarkdownHeadingCollapsed": true,
    "tags": []
   },
   "source": [
    "En este práctico, correspondiente a la primera mitad de la materia, trabajaremos con un dataset extraído de Twitter. La idea es emplear los conceptos de grafos vistos en clase sobre un caso real de actualidad.\n",
    "\n",
    "## Dataset\n",
    "\n",
    "El dataset consiste en un conjunto de hilos de tweets, con un total de ~150000 tweets, extraídos entre Enero y Marzo de 2021. La temática de los mismos está referida a la vacunación contra el covid-19 en Argentina.\n",
    "\n",
    "Pueden descargar el dataset del siguiente [link](https://drive.google.com/file/d/1X_qKsE8muAnom2tDX4sLlmBAO0Ikfe_G/view?usp=sharing).\n",
    "\n",
    "### Campos\n",
    "\n",
    "- **created_at:** Fecha del tweet\n",
    "- **id_str:** ID del tweet\n",
    "- **full_text:** Contenido del tweet\n",
    "- **in_reply_to_status_id:** ID del tweet inmediatamente anterior en el hilo\n",
    "- **in_reply_to_user_id:** Autor del tweet inmediatamente anterior en el hilo\n",
    "- **user.id:** Autor del tweet\n",
    "- **user_retweeters:** Lista de ID de usuarios que retweetearon el tweet\n",
    "- **sentiment:** Etiquetado manual que indica el sentimiento o intención del tweet con respecto al tweet anterior en el hilo"
   ]
  },
  {
   "cell_type": "markdown",
   "id": "f12449d0",
   "metadata": {},
   "source": [
    "## Configuración inicial"
   ]
  },
  {
   "cell_type": "code",
   "execution_count": 17,
   "id": "a7ecca9e",
   "metadata": {},
   "outputs": [],
   "source": [
    "import pandas as pd\n",
    "import numpy as np\n",
    "import seaborn as sn\n",
    "import matplotlib.pyplot as plt"
   ]
  },
  {
   "cell_type": "markdown",
   "id": "b727863e",
   "metadata": {},
   "source": [
    "### Cargamos el dataset"
   ]
  },
  {
   "cell_type": "code",
   "execution_count": 2,
   "id": "d5c1ed64",
   "metadata": {},
   "outputs": [
    {
     "name": "stdout",
     "output_type": "stream",
     "text": [
      "(155123, 8)\n"
     ]
    },
    {
     "data": {
      "text/html": [
       "<div>\n",
       "<style scoped>\n",
       "    .dataframe tbody tr th:only-of-type {\n",
       "        vertical-align: middle;\n",
       "    }\n",
       "\n",
       "    .dataframe tbody tr th {\n",
       "        vertical-align: top;\n",
       "    }\n",
       "\n",
       "    .dataframe thead th {\n",
       "        text-align: right;\n",
       "    }\n",
       "</style>\n",
       "<table border=\"1\" class=\"dataframe\">\n",
       "  <thead>\n",
       "    <tr style=\"text-align: right;\">\n",
       "      <th></th>\n",
       "      <th>created_at</th>\n",
       "      <th>id_str</th>\n",
       "      <th>full_text</th>\n",
       "      <th>in_reply_to_status_id</th>\n",
       "      <th>in_reply_to_user_id</th>\n",
       "      <th>user.id</th>\n",
       "      <th>user_retweeters</th>\n",
       "      <th>sentiment</th>\n",
       "    </tr>\n",
       "  </thead>\n",
       "  <tbody>\n",
       "    <tr>\n",
       "      <th>0</th>\n",
       "      <td>Sat Feb 20 03:09:10 +0000 2021</td>\n",
       "      <td>1362962469749153792</td>\n",
       "      <td>Seguimos esperando el comunicado de @norabar r...</td>\n",
       "      <td>NaN</td>\n",
       "      <td>NaN</td>\n",
       "      <td>2737379453</td>\n",
       "      <td>[2258074658, 159909978, 105301854, 290671142, ...</td>\n",
       "      <td>NaN</td>\n",
       "    </tr>\n",
       "    <tr>\n",
       "      <th>1</th>\n",
       "      <td>Sat Feb 20 03:19:59 +0000 2021</td>\n",
       "      <td>1362965193509265417</td>\n",
       "      <td>@Clon_43 @norabar Nora estaba indignada porque...</td>\n",
       "      <td>1362962469749153792</td>\n",
       "      <td>2737379453</td>\n",
       "      <td>32718111</td>\n",
       "      <td>[]</td>\n",
       "      <td>NaN</td>\n",
       "    </tr>\n",
       "    <tr>\n",
       "      <th>2</th>\n",
       "      <td>Mon Feb 22 23:55:08 +0000 2021</td>\n",
       "      <td>1364000806740111363</td>\n",
       "      <td>Bueno, Alberto dijo Salud o Economía. La salud...</td>\n",
       "      <td>NaN</td>\n",
       "      <td>NaN</td>\n",
       "      <td>252168075</td>\n",
       "      <td>[1238117630696972289, 37232479, 12792246571247...</td>\n",
       "      <td>NaN</td>\n",
       "    </tr>\n",
       "    <tr>\n",
       "      <th>3</th>\n",
       "      <td>Tue Feb 23 00:09:14 +0000 2021</td>\n",
       "      <td>1364004354374696963</td>\n",
       "      <td>@spitta1969 Tuit del mes Spitta</td>\n",
       "      <td>1364000806740111363</td>\n",
       "      <td>252168075</td>\n",
       "      <td>1156346340802224128</td>\n",
       "      <td>[]</td>\n",
       "      <td>NaN</td>\n",
       "    </tr>\n",
       "    <tr>\n",
       "      <th>4</th>\n",
       "      <td>Tue Feb 23 00:00:17 +0000 2021</td>\n",
       "      <td>1364002100364128260</td>\n",
       "      <td>@spitta1969 Estas onfire</td>\n",
       "      <td>1364000806740111363</td>\n",
       "      <td>252168075</td>\n",
       "      <td>153663816</td>\n",
       "      <td>[]</td>\n",
       "      <td>NaN</td>\n",
       "    </tr>\n",
       "  </tbody>\n",
       "</table>\n",
       "</div>"
      ],
      "text/plain": [
       "                       created_at               id_str  \\\n",
       "0  Sat Feb 20 03:09:10 +0000 2021  1362962469749153792   \n",
       "1  Sat Feb 20 03:19:59 +0000 2021  1362965193509265417   \n",
       "2  Mon Feb 22 23:55:08 +0000 2021  1364000806740111363   \n",
       "3  Tue Feb 23 00:09:14 +0000 2021  1364004354374696963   \n",
       "4  Tue Feb 23 00:00:17 +0000 2021  1364002100364128260   \n",
       "\n",
       "                                           full_text in_reply_to_status_id  \\\n",
       "0  Seguimos esperando el comunicado de @norabar r...                   NaN   \n",
       "1  @Clon_43 @norabar Nora estaba indignada porque...   1362962469749153792   \n",
       "2  Bueno, Alberto dijo Salud o Economía. La salud...                   NaN   \n",
       "3                    @spitta1969 Tuit del mes Spitta   1364000806740111363   \n",
       "4                           @spitta1969 Estas onfire   1364000806740111363   \n",
       "\n",
       "  in_reply_to_user_id              user.id  \\\n",
       "0                 NaN           2737379453   \n",
       "1          2737379453             32718111   \n",
       "2                 NaN            252168075   \n",
       "3           252168075  1156346340802224128   \n",
       "4           252168075            153663816   \n",
       "\n",
       "                                     user_retweeters sentiment  \n",
       "0  [2258074658, 159909978, 105301854, 290671142, ...       NaN  \n",
       "1                                                 []       NaN  \n",
       "2  [1238117630696972289, 37232479, 12792246571247...       NaN  \n",
       "3                                                 []       NaN  \n",
       "4                                                 []       NaN  "
      ]
     },
     "execution_count": 2,
     "metadata": {},
     "output_type": "execute_result"
    }
   ],
   "source": [
    "DATASET_FILE = \"dataset/vacunas.csv\"\n",
    "\n",
    "dtypes = {\n",
    "    'id_str': str,\n",
    "    'full_text': str,\n",
    "    'in_reply_to_status_id': str,\n",
    "    'in_reply_to_user_id': str,\n",
    "    'user.id': str\n",
    "}\n",
    "df = pd.read_csv(DATASET_FILE, dtype=dtypes).dropna(subset=['user_retweeters'])\n",
    "df['user_retweeters'] = df['user_retweeters'].apply(lambda x: [str(elem) for elem in eval(x)])\n",
    "print(df.shape)\n",
    "df.head()"
   ]
  },
  {
   "cell_type": "markdown",
   "id": "878efed1",
   "metadata": {
    "tags": []
   },
   "source": [
    "### Observamos algunos ejemplos"
   ]
  },
  {
   "cell_type": "code",
   "execution_count": 3,
   "id": "6c6559d4",
   "metadata": {},
   "outputs": [
    {
     "name": "stdout",
     "output_type": "stream",
     "text": [
      "<class 'pandas.core.frame.DataFrame'>\n",
      "Int64Index: 155123 entries, 0 to 163178\n",
      "Data columns (total 8 columns):\n",
      " #   Column                 Non-Null Count   Dtype \n",
      "---  ------                 --------------   ----- \n",
      " 0   created_at             155123 non-null  object\n",
      " 1   id_str                 155123 non-null  object\n",
      " 2   full_text              155123 non-null  object\n",
      " 3   in_reply_to_status_id  151834 non-null  object\n",
      " 4   in_reply_to_user_id    151949 non-null  object\n",
      " 5   user.id                155123 non-null  object\n",
      " 6   user_retweeters        155123 non-null  object\n",
      " 7   sentiment              1029 non-null    object\n",
      "dtypes: object(8)\n",
      "memory usage: 10.7+ MB\n"
     ]
    }
   ],
   "source": [
    "df.info()"
   ]
  },
  {
   "cell_type": "code",
   "execution_count": 4,
   "id": "04b20973",
   "metadata": {},
   "outputs": [
    {
     "data": {
      "text/plain": [
       "155123"
      ]
     },
     "execution_count": 4,
     "metadata": {},
     "output_type": "execute_result"
    }
   ],
   "source": [
    "len(df)"
   ]
  },
  {
   "cell_type": "code",
   "execution_count": 5,
   "id": "a8ad442e",
   "metadata": {},
   "outputs": [
    {
     "name": "stdout",
     "output_type": "stream",
     "text": [
      "Texto: Seguimos esperando el comunicado de @norabar repudiando la situación respecto del gobierno y el tema vacunas. Seamos pacientes que con esto de la pandemia anda con mucho \"laburo\".\n",
      "Retweets: 9\n"
     ]
    }
   ],
   "source": [
    "idx = 0\n",
    "print('Texto:', df.full_text.values[idx])\n",
    "print('Retweets:', len(df.user_retweeters.values[idx]))"
   ]
  },
  {
   "cell_type": "code",
   "execution_count": 6,
   "id": "ae6bd01a",
   "metadata": {},
   "outputs": [
    {
     "name": "stdout",
     "output_type": "stream",
     "text": [
      "Text: Todo lo que hay que entender sobre la decisión –o no– de poner más vacunas en más brazos (por ejemplo, usar las 1º dosis en muchos y si es necesario retrasar la 2º) está en esta excelente nota de Nora Bär. https://t.co/A0I03DyxgO\n",
      "Retweets: 48\n"
     ]
    }
   ],
   "source": [
    "idx = 376\n",
    "print('Text:', df.full_text.values[idx])\n",
    "print('Retweets:', len(df.user_retweeters.values[idx]))"
   ]
  },
  {
   "cell_type": "markdown",
   "id": "d9bf0763",
   "metadata": {},
   "source": [
    "### Calculamos la cantidad de hilos"
   ]
  },
  {
   "cell_type": "code",
   "execution_count": 7,
   "id": "1ee891a8",
   "metadata": {},
   "outputs": [
    {
     "data": {
      "text/plain": [
       "(3174, 8)"
      ]
     },
     "execution_count": 7,
     "metadata": {},
     "output_type": "execute_result"
    }
   ],
   "source": [
    "roots = df[df['in_reply_to_user_id'].isna()]\n",
    "roots.shape"
   ]
  },
  {
   "cell_type": "markdown",
   "id": "456ac6a9-8907-4441-99c8-5fddbad13c0a",
   "metadata": {},
   "source": [
    "## Actividades"
   ]
  },
  {
   "cell_type": "markdown",
   "id": "ba9f6a88-7150-471d-81a4-79ec69ede589",
   "metadata": {},
   "source": [
    "### **1. Construcción del grafo** \n",
    "\n",
    "Construir el **grafo de retweets**, definido de la siguiente manera:\n",
    "\n",
    "- Tipo de grafo: Dirigido\n",
    "- Nodos: ID de los usuarios\n",
    "- Enlaces: (Usuario A) ---> (Usuario B) si B retweeteó algún tweet de A\n",
    "\n",
    "Con estos datos, el grafo debería tener alrededor de 40000 nodos y 90000 enlaces.\n",
    "\n",
    "Considerar la versión no dirigida del grafo y estudiar su conectividad. Si existe una única \"componente gigante\", realizar el resto de las actividades sobre ella, en lugar de sobre el grafo completo.\n",
    "\n",
    "Calcular las siguientes métricas globales del grafo:\n",
    "\n",
    "- Grado medio\n",
    "- Asortatividad\n",
    "- Transitividad\n",
    "- Coeficiente de clustering de Watts-Strogatz\n",
    "\n",
    "**Opcional:** Comparar las métricas calculadas anteriormente con las de un grafo aleatorio con la misma distribución de grado. Pueden utilizar para ello este [método](https://networkx.org/documentation/stable/reference/generated/networkx.generators.degree_seq.configuration_model.html?highlight=configuration#networkx.generators.degree_seq.configuration_model). Con esto en mente, comentar si los valores obtenidos anteriormente difieren significativamente del caso aleatorio."
   ]
  },
  {
   "cell_type": "code",
   "execution_count": 8,
   "id": "b274dcb4",
   "metadata": {},
   "outputs": [],
   "source": [
    "users = df[\"user.id\"].unique().tolist()\n",
    "edges = []\n",
    "for _, (user_id, retweet_ids) in df[[\"user.id\", \"user_retweeters\"]].iterrows():\n",
    "    retweeters = [(user_id, rt) for rt in retweet_ids]\n",
    "    edges.extend(retweeters)"
   ]
  },
  {
   "cell_type": "code",
   "execution_count": 9,
   "id": "545bfd06",
   "metadata": {},
   "outputs": [
    {
     "name": "stdout",
     "output_type": "stream",
     "text": [
      "DiGraph with 65934 nodes and 93692 edges\n"
     ]
    }
   ],
   "source": [
    "import networkx as nx\n",
    "\n",
    "directed_G = nx.DiGraph()\n",
    "directed_G.add_nodes_from(users)\n",
    "directed_G.add_edges_from(edges)\n",
    "\n",
    "print(nx.info(directed_G))"
   ]
  },
  {
   "cell_type": "code",
   "execution_count": 10,
   "id": "76c04357-6efc-4e3a-89be-8f79c774f37c",
   "metadata": {},
   "outputs": [
    {
     "name": "stdout",
     "output_type": "stream",
     "text": [
      "Graph with 65934 nodes and 93404 edges\n"
     ]
    }
   ],
   "source": [
    "G = nx.Graph()\n",
    "G.add_nodes_from(users)\n",
    "G.add_edges_from(edges)\n",
    "\n",
    "print(nx.info(G))"
   ]
  },
  {
   "cell_type": "markdown",
   "id": "2f8151c4-9be4-4f3a-b85a-56ea1bab5249",
   "metadata": {},
   "source": [
    "Calculamos la componente conexa más grande"
   ]
  },
  {
   "cell_type": "code",
   "execution_count": 11,
   "id": "216f7363-498c-4f90-98ad-ab68d68b914f",
   "metadata": {},
   "outputs": [],
   "source": [
    "largest_cc = max(nx.connected_components(G), key=len)"
   ]
  },
  {
   "cell_type": "code",
   "execution_count": 12,
   "id": "910a130c-7ac4-4be3-a2cb-da82a079ea00",
   "metadata": {},
   "outputs": [
    {
     "name": "stdout",
     "output_type": "stream",
     "text": [
      "Graph with 39800 nodes and 93404 edges\n"
     ]
    }
   ],
   "source": [
    "larg_G = nx.Graph()\n",
    "larg_G.add_nodes_from(largest_cc)\n",
    "larg_G.add_edges_from(edges)\n",
    "\n",
    "print(nx.info(larg_G))"
   ]
  },
  {
   "cell_type": "code",
   "execution_count": 26,
   "id": "a451efc2-6880-4fd5-afb6-7ffa52e975c6",
   "metadata": {},
   "outputs": [],
   "source": [
    "df_user = pd.DataFrame({'user':list(larg_G.nodes())})"
   ]
  },
  {
   "cell_type": "code",
   "execution_count": 27,
   "id": "2e90e839-1f77-497c-99e6-8ff790e2fa0f",
   "metadata": {},
   "outputs": [],
   "source": [
    "deg_seq = np.array([k for v, k in larg_G.degree()])\n",
    "df_user['degree'] = deg_seq"
   ]
  },
  {
   "cell_type": "code",
   "execution_count": 15,
   "id": "b4f2af9d-fe5f-4138-b6dd-c7b41ea232a7",
   "metadata": {},
   "outputs": [],
   "source": [
    "degree = [k for v, k in larg_G.degree()]\n",
    "avg_degree = np.mean(degree)\n",
    "max_degree = np.max(degree)\n",
    "assortativity = nx.degree_assortativity_coefficient(larg_G)\n",
    "transitivity = np.mean(list(nx.clustering(larg_G).values()))\n",
    "coeficient_clustering = nx.transitivity(larg_G)"
   ]
  },
  {
   "cell_type": "code",
   "execution_count": 16,
   "id": "926cc7f9-2a28-4101-b359-b73df0097d30",
   "metadata": {
    "tags": []
   },
   "outputs": [
    {
     "name": "stdout",
     "output_type": "stream",
     "text": [
      "Degree del grafo: 4.693668341708543\n",
      "Max degree del grafo: 8207\n",
      "Assortativity del grafo: -0.22131902542941656\n",
      "Transitivity del grafo: 0.09990623904532055\n",
      "Clustering Coeficient del grafo: 0.0016125612488585316\n"
     ]
    }
   ],
   "source": [
    "print(\"Degree del grafo:\", avg_degree)\n",
    "print(\"Max degree del grafo:\",max_degree)\n",
    "print(\"Assortativity del grafo:\", assortativity)\n",
    "print(\"Transitivity del grafo:\", transitivity)\n",
    "print(\"Clustering Coeficient del grafo:\", coeficient_clustering)"
   ]
  },
  {
   "cell_type": "code",
   "execution_count": 17,
   "id": "1b3a9395-ac8a-4a73-ac27-b5f3dee201ac",
   "metadata": {},
   "outputs": [
    {
     "data": {
      "text/plain": [
       "count    39800.000000\n",
       "mean         4.693668\n",
       "std         69.302786\n",
       "min          1.000000\n",
       "25%          1.000000\n",
       "50%          1.000000\n",
       "75%          3.000000\n",
       "max       8207.000000\n",
       "Name: degree, dtype: float64"
      ]
     },
     "execution_count": 17,
     "metadata": {},
     "output_type": "execute_result"
    }
   ],
   "source": [
    "df_user.degree.describe()"
   ]
  },
  {
   "cell_type": "code",
   "execution_count": 18,
   "id": "31918bca-10f2-4937-9585-372b69952737",
   "metadata": {},
   "outputs": [],
   "source": [
    "random_G = nx.configuration_model(degree, create_using=nx.Graph)"
   ]
  },
  {
   "cell_type": "code",
   "execution_count": 19,
   "id": "8b991d57-7ea9-4a0c-b335-5494373e2544",
   "metadata": {},
   "outputs": [],
   "source": [
    "degree = [k for v, k in random_G.degree()]\n",
    "avg_degree = np.mean(degree)\n",
    "max_degree = np.max(degree)\n",
    "assortativity = nx.degree_assortativity_coefficient(random_G)\n",
    "transitivity = np.mean(list(nx.clustering(random_G).values()))\n",
    "coeficient_clustering = nx.transitivity(random_G)"
   ]
  },
  {
   "cell_type": "code",
   "execution_count": 20,
   "id": "4a3e6750-e8e2-4012-874d-bf0968f5bcf7",
   "metadata": {},
   "outputs": [
    {
     "name": "stdout",
     "output_type": "stream",
     "text": [
      "Degree del grafo random: 4.162311557788945\n",
      "Max degree del grafo random: 4610\n",
      "Assortativity del grafo: -0.15006268896838018\n",
      "Transitivity del grafo: 0.059148569831911905\n",
      "Clustering Coeficient del grafo: 0.006728582676610571\n"
     ]
    }
   ],
   "source": [
    "print(\"Degree del grafo random:\", avg_degree)\n",
    "print(\"Max degree del grafo random:\", max_degree)\n",
    "print(\"Assortativity del grafo:\", assortativity)\n",
    "print(\"Transitivity del grafo:\", transitivity)\n",
    "print(\"Clustering Coeficient del grafo:\", coeficient_clustering)"
   ]
  },
  {
   "cell_type": "markdown",
   "id": "59680eaf-d50f-4965-baae-6b7de4a0056d",
   "metadata": {},
   "source": [
    "Observamos que los valores de las métricas obtenidas para el grafo generado aleatoriamente son muy similares a las calculadas para la componenente principal de nuestro grafo. "
   ]
  },
  {
   "cell_type": "markdown",
   "id": "b327fbcc-3d5a-47c7-876b-c261dfb9f228",
   "metadata": {},
   "source": [
    "### **2. Centralidad**\n",
    "\n",
    "Calcular 5 métricas de centralidad de nodos. Graficar la distribución de cada una de ellas ¿Existe alguna correlación entre las distintas centralidades? \n",
    "\n",
    "Hacer un ranking con los 10 nodos más centrales para cada métrica. ¿Hay coincidencia entre los rankings?. ¿Qué características tienen los usuarios más centrales y sus respectivos tweets?\n",
    "\n",
    "**Opcional:** Determinar si existe alguna correlación entre la centralidad de un nodo y su actividad en red social. Es decir, evaluar si los usuarios que más escriben son los más centrales o no."
   ]
  },
  {
   "cell_type": "code",
   "execution_count": 28,
   "id": "39d77d74-2530-43cc-af01-77f86f01120b",
   "metadata": {},
   "outputs": [],
   "source": [
    "#betweenness = nx.betweenness_centrality(larg_G)\n",
    "eigenvector = nx.eigenvector_centrality(larg_G,max_iter=1000)\n",
    "pagerank = nx.pagerank(larg_G)\n",
    "clustering_coefficient =  nx.clustering(larg_G)\n",
    "#closeness = nx.closeness_centrality(larg_G)\n",
    "#katz = nx.katz_centrality(larg_G)\n",
    "\n",
    "#df_user['betweenness'] = list(betweenness.values())\n",
    "df_user['eigenvector'] = list(eigenvector.values())\n",
    "df_user['pagerank'] = list(pagerank.values())\n",
    "df_user['Cws'] = list(clustering_coefficient.values())\n",
    "#df_user['closeness'] = list(closeness.values())\n",
    "#df_user['katz'] = list(katz.values())"
   ]
  },
  {
   "cell_type": "code",
   "execution_count": 34,
   "id": "a3500255-1323-4695-a900-056c2d378b0a",
   "metadata": {},
   "outputs": [
    {
     "data": {
      "text/html": [
       "<div>\n",
       "<style scoped>\n",
       "    .dataframe tbody tr th:only-of-type {\n",
       "        vertical-align: middle;\n",
       "    }\n",
       "\n",
       "    .dataframe tbody tr th {\n",
       "        vertical-align: top;\n",
       "    }\n",
       "\n",
       "    .dataframe thead th {\n",
       "        text-align: right;\n",
       "    }\n",
       "</style>\n",
       "<table border=\"1\" class=\"dataframe\">\n",
       "  <thead>\n",
       "    <tr style=\"text-align: right;\">\n",
       "      <th></th>\n",
       "      <th>degree</th>\n",
       "      <th>eigenvector</th>\n",
       "      <th>pagerank</th>\n",
       "      <th>Cws</th>\n",
       "    </tr>\n",
       "  </thead>\n",
       "  <tbody>\n",
       "    <tr>\n",
       "      <th>count</th>\n",
       "      <td>39800.00</td>\n",
       "      <td>39800.00</td>\n",
       "      <td>39800.00</td>\n",
       "      <td>39800.00</td>\n",
       "    </tr>\n",
       "    <tr>\n",
       "      <th>mean</th>\n",
       "      <td>4.69</td>\n",
       "      <td>0.00</td>\n",
       "      <td>0.00</td>\n",
       "      <td>0.10</td>\n",
       "    </tr>\n",
       "    <tr>\n",
       "      <th>std</th>\n",
       "      <td>69.30</td>\n",
       "      <td>0.00</td>\n",
       "      <td>0.00</td>\n",
       "      <td>0.24</td>\n",
       "    </tr>\n",
       "    <tr>\n",
       "      <th>min</th>\n",
       "      <td>1.00</td>\n",
       "      <td>0.00</td>\n",
       "      <td>0.00</td>\n",
       "      <td>0.00</td>\n",
       "    </tr>\n",
       "    <tr>\n",
       "      <th>25%</th>\n",
       "      <td>1.00</td>\n",
       "      <td>0.00</td>\n",
       "      <td>0.00</td>\n",
       "      <td>0.00</td>\n",
       "    </tr>\n",
       "    <tr>\n",
       "      <th>50%</th>\n",
       "      <td>1.00</td>\n",
       "      <td>0.00</td>\n",
       "      <td>0.00</td>\n",
       "      <td>0.00</td>\n",
       "    </tr>\n",
       "    <tr>\n",
       "      <th>75%</th>\n",
       "      <td>3.00</td>\n",
       "      <td>0.00</td>\n",
       "      <td>0.00</td>\n",
       "      <td>0.00</td>\n",
       "    </tr>\n",
       "    <tr>\n",
       "      <th>max</th>\n",
       "      <td>8207.00</td>\n",
       "      <td>0.36</td>\n",
       "      <td>0.04</td>\n",
       "      <td>1.00</td>\n",
       "    </tr>\n",
       "  </tbody>\n",
       "</table>\n",
       "</div>"
      ],
      "text/plain": [
       "         degree  eigenvector  pagerank       Cws\n",
       "count  39800.00     39800.00  39800.00  39800.00\n",
       "mean       4.69         0.00      0.00      0.10\n",
       "std       69.30         0.00      0.00      0.24\n",
       "min        1.00         0.00      0.00      0.00\n",
       "25%        1.00         0.00      0.00      0.00\n",
       "50%        1.00         0.00      0.00      0.00\n",
       "75%        3.00         0.00      0.00      0.00\n",
       "max     8207.00         0.36      0.04      1.00"
      ]
     },
     "execution_count": 34,
     "metadata": {},
     "output_type": "execute_result"
    }
   ],
   "source": [
    "df_user.describe().round(2)"
   ]
  },
  {
   "cell_type": "code",
   "execution_count": 36,
   "id": "c4b8a09a-7815-405b-990c-45bd8af564b7",
   "metadata": {},
   "outputs": [
    {
     "data": {
      "image/png": "[encoded data removed]",
      "text/plain": [
       "<Figure size 720x1440 with 4 Axes>"
      ]
     },
     "metadata": {
      "needs_background": "light"
     },
     "output_type": "display_data"
    }
   ],
   "source": [
    "fig, axes = plt.subplots(4,figsize=(10,20))\n",
    "\n",
    "#'closeness','katz'\n",
    "\n",
    "columns=['degree','eigenvector','pagerank','Cws']\n",
    "\n",
    "for ax, col in zip(axes, columns):\n",
    "    sn.histplot(data=df_user.sample(1000), x=col, ax=ax)\n",
    "    "
   ]
  },
  {
   "cell_type": "code",
   "execution_count": 52,
   "id": "bbc968e1-05b3-4d32-8ef3-52af4dc0f76d",
   "metadata": {},
   "outputs": [
    {
     "data": {
      "text/html": [
       "<div>\n",
       "<style scoped>\n",
       "    .dataframe tbody tr th:only-of-type {\n",
       "        vertical-align: middle;\n",
       "    }\n",
       "\n",
       "    .dataframe tbody tr th {\n",
       "        vertical-align: top;\n",
       "    }\n",
       "\n",
       "    .dataframe thead th {\n",
       "        text-align: right;\n",
       "    }\n",
       "</style>\n",
       "<table border=\"1\" class=\"dataframe\">\n",
       "  <thead>\n",
       "    <tr style=\"text-align: right;\">\n",
       "      <th></th>\n",
       "      <th>degree</th>\n",
       "      <th>eigenvector</th>\n",
       "      <th>pagerank</th>\n",
       "      <th>Cws</th>\n",
       "    </tr>\n",
       "  </thead>\n",
       "  <tbody>\n",
       "    <tr>\n",
       "      <th>0</th>\n",
       "      <td>252168075</td>\n",
       "      <td>130979339</td>\n",
       "      <td>252168075</td>\n",
       "      <td>236694929</td>\n",
       "    </tr>\n",
       "    <tr>\n",
       "      <th>1</th>\n",
       "      <td>130979339</td>\n",
       "      <td>73102744</td>\n",
       "      <td>130979339</td>\n",
       "      <td>1250071980784697344</td>\n",
       "    </tr>\n",
       "    <tr>\n",
       "      <th>2</th>\n",
       "      <td>73102744</td>\n",
       "      <td>252168075</td>\n",
       "      <td>73102744</td>\n",
       "      <td>1200475594410151936</td>\n",
       "    </tr>\n",
       "    <tr>\n",
       "      <th>3</th>\n",
       "      <td>367933714</td>\n",
       "      <td>367933714</td>\n",
       "      <td>593189095</td>\n",
       "      <td>176610516</td>\n",
       "    </tr>\n",
       "    <tr>\n",
       "      <th>4</th>\n",
       "      <td>593189095</td>\n",
       "      <td>2687724840</td>\n",
       "      <td>367933714</td>\n",
       "      <td>1283248803575930880</td>\n",
       "    </tr>\n",
       "    <tr>\n",
       "      <th>5</th>\n",
       "      <td>2687724840</td>\n",
       "      <td>593189095</td>\n",
       "      <td>2687724840</td>\n",
       "      <td>1157604001304784896</td>\n",
       "    </tr>\n",
       "    <tr>\n",
       "      <th>6</th>\n",
       "      <td>931564592328781824</td>\n",
       "      <td>312708081</td>\n",
       "      <td>144929758</td>\n",
       "      <td>4292292021</td>\n",
       "    </tr>\n",
       "    <tr>\n",
       "      <th>7</th>\n",
       "      <td>144929758</td>\n",
       "      <td>144929758</td>\n",
       "      <td>931564592328781824</td>\n",
       "      <td>1346144957774647298</td>\n",
       "    </tr>\n",
       "    <tr>\n",
       "      <th>8</th>\n",
       "      <td>312708081</td>\n",
       "      <td>931564592328781824</td>\n",
       "      <td>312708081</td>\n",
       "      <td>917945914802745345</td>\n",
       "    </tr>\n",
       "    <tr>\n",
       "      <th>9</th>\n",
       "      <td>1077176953</td>\n",
       "      <td>959033548379508736</td>\n",
       "      <td>1077176953</td>\n",
       "      <td>772245551131856896</td>\n",
       "    </tr>\n",
       "  </tbody>\n",
       "</table>\n",
       "</div>"
      ],
      "text/plain": [
       "               degree         eigenvector            pagerank  \\\n",
       "0           252168075           130979339           252168075   \n",
       "1           130979339            73102744           130979339   \n",
       "2            73102744           252168075            73102744   \n",
       "3           367933714           367933714           593189095   \n",
       "4           593189095          2687724840           367933714   \n",
       "5          2687724840           593189095          2687724840   \n",
       "6  931564592328781824           312708081           144929758   \n",
       "7           144929758           144929758  931564592328781824   \n",
       "8           312708081  931564592328781824           312708081   \n",
       "9          1077176953  959033548379508736          1077176953   \n",
       "\n",
       "                   Cws  \n",
       "0            236694929  \n",
       "1  1250071980784697344  \n",
       "2  1200475594410151936  \n",
       "3            176610516  \n",
       "4  1283248803575930880  \n",
       "5  1157604001304784896  \n",
       "6           4292292021  \n",
       "7  1346144957774647298  \n",
       "8   917945914802745345  \n",
       "9   772245551131856896  "
      ]
     },
     "execution_count": 52,
     "metadata": {},
     "output_type": "execute_result"
    }
   ],
   "source": [
    "data = {}\n",
    "for col in columns:\n",
    "    top_users = df_user.nlargest(10, columns=[col])['user'].tolist()\n",
    "    data[col] = top_users\n",
    "pd.DataFrame(data)"
   ]
  },
  {
   "cell_type": "code",
   "execution_count": 65,
   "id": "e6106bf2-5d5e-4c92-b4c5-f03adfee241b",
   "metadata": {},
   "outputs": [
    {
     "data": {
      "text/plain": [
       "252168075              3\n",
       "2687724840             3\n",
       "931564592328781824     3\n",
       "73102744               3\n",
       "593189095              3\n",
       "130979339              3\n",
       "367933714              3\n",
       "144929758              3\n",
       "312708081              3\n",
       "1077176953             2\n",
       "1157604001304784896    1\n",
       "236694929              1\n",
       "176610516              1\n",
       "1346144957774647298    1\n",
       "4292292021             1\n",
       "1283248803575930880    1\n",
       "1250071980784697344    1\n",
       "772245551131856896     1\n",
       "917945914802745345     1\n",
       "1200475594410151936    1\n",
       "959033548379508736     1\n",
       "dtype: int64"
      ]
     },
     "execution_count": 65,
     "metadata": {},
     "output_type": "execute_result"
    }
   ],
   "source": [
    "pd.DataFrame(np.concatenate(list(data.values()))).value_counts()"
   ]
  },
  {
   "cell_type": "markdown",
   "id": "41bceae5-4f6b-4d57-bc19-45964aa849d2",
   "metadata": {},
   "source": [
    "252168075 , 130979339,  73102744 "
   ]
  },
  {
   "cell_type": "markdown",
   "id": "1749f008-6372-4c56-8b89-bfcac1878160",
   "metadata": {
    "tags": []
   },
   "source": [
    "### **3. Comunidades**\n",
    "\n",
    "Utilizar el algoritmo de Louvain con el parámetro \"resolución\" igual a 1. Caracterizar las comunidades halladas (cantidad, distribución de tamaños). Utilizar la modularidad y otras dos métricas a elección para evaluar la calidad de la partición encontrada. \n",
    "\n",
    "Variar el parámetro \"resolución\" y observar cómo cambia la distribución de comunidades encontradas. ¿Existe algún valor para el cual se identifiquen dos grandes comunidades?\n",
    "\n",
    "Elegir otro algoritmo de detección de comunidades y comparar los resultados con los obtenidos anteriormente.\n",
    "\n",
    "**Opcional:** Correr el algoritmo de Louvain con distintas semillas aleatorias. Utilizar alguna métrica de comparación externa entre las particiones obtenidas para determinar en qué medida depende el algoritmo de la condición inicial."
   ]
  }
 ],
 "metadata": {
  "kernelspec": {
   "display_name": "Python 3 (ipykernel)",
   "language": "python",
   "name": "python3"
  },
  "language_info": {
   "codemirror_mode": {
    "name": "ipython",
    "version": 3
   },
   "file_extension": ".py",
   "mimetype": "text/x-python",
   "name": "python",
   "nbconvert_exporter": "python",
   "pygments_lexer": "ipython3",
   "version": "3.9.5"
  }
 },
 "nbformat": 4,
 "nbformat_minor": 5
}
