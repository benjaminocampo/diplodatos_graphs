{
 "cells": [
  {
   "cell_type": "markdown",
   "id": "7d035562",
   "metadata": {},
   "source": [
    "# Práctico Análisis de Grafos\n",
    "\n",
    "Integrantes: Nicolás Benjamín Ocampo, Antonela Sambuceti"
   ]
  },
  {
   "cell_type": "markdown",
   "id": "646fde0c",
   "metadata": {
    "jp-MarkdownHeadingCollapsed": true,
    "tags": []
   },
   "source": [
    "En este práctico, trabajaremos con un dataset extraído de Twitter. La idea es emplear los conceptos de grafos vistos en clase sobre un caso real de actualidad.\n",
    "\n",
    "## Dataset\n",
    "\n",
    "El dataset consiste en un conjunto de hilos de tweets, con un total de ~150000 tweets, extraídos entre Enero y Marzo de 2021. La temática de los mismos está referida a la vacunación contra el covid-19 en Argentina.\n",
    "\n",
    "Pueden descargar el dataset del siguiente [link](https://drive.google.com/file/d/1X_qKsE8muAnom2tDX4sLlmBAO0Ikfe_G/view?usp=sharing).\n",
    "\n",
    "### Campos\n",
    "\n",
    "- **created_at:** Fecha del tweet\n",
    "- **id_str:** ID del tweet\n",
    "- **full_text:** Contenido del tweet\n",
    "- **in_reply_to_status_id:** ID del tweet inmediatamente anterior en el hilo\n",
    "- **in_reply_to_user_id:** Autor del tweet inmediatamente anterior en el hilo\n",
    "- **user.id:** Autor del tweet\n",
    "- **user_retweeters:** Lista de ID de usuarios que retweetearon el tweet\n",
    "- **sentiment:** Etiquetado manual que indica el sentimiento o intención del tweet con respecto al tweet anterior en el hilo"
   ]
  },
  {
   "cell_type": "markdown",
   "id": "cf45147b",
   "metadata": {},
   "source": [
    "## Configuración inicial"
   ]
  },
  {
   "cell_type": "code",
   "execution_count": 95,
   "id": "08b772c5",
   "metadata": {},
   "outputs": [
    {
     "name": "stderr",
     "output_type": "stream",
     "text": [
      "[nltk_data] Downloading package stopwords to\n",
      "[nltk_data]     C:\\Users\\anto_\\AppData\\Roaming\\nltk_data...\n",
      "[nltk_data]   Package stopwords is already up-to-date!\n",
      "[nltk_data] Downloading package punkt to\n",
      "[nltk_data]     C:\\Users\\anto_\\AppData\\Roaming\\nltk_data...\n",
      "[nltk_data]   Package punkt is already up-to-date!\n"
     ]
    },
    {
     "data": {
      "text/plain": [
       "True"
      ]
     },
     "execution_count": 95,
     "metadata": {},
     "output_type": "execute_result"
    }
   ],
   "source": [
    "import pandas as pd\n",
    "import numpy as np\n",
    "import seaborn as sn\n",
    "import matplotlib.pyplot as plt\n",
    "import math\n",
    "from cdlib import NodeClustering, evaluation, algorithms\n",
    "import igraph as ig\n",
    "import networkx as nx\n",
    "\n",
    "from nltk import (corpus, tokenize, download)\n",
    "from wordcloud import WordCloud, STOPWORDS, ImageColorGenerator\n",
    "download(\"stopwords\")\n",
    "download('punkt')\n"
   ]
  },
  {
   "cell_type": "markdown",
   "id": "e7e5d1ee",
   "metadata": {},
   "source": [
    "### Cargamos el dataset"
   ]
  },
  {
   "cell_type": "code",
   "execution_count": 96,
   "id": "0140dca2",
   "metadata": {},
   "outputs": [
    {
     "name": "stdout",
     "output_type": "stream",
     "text": [
      "(155123, 8)\n"
     ]
    },
    {
     "data": {
      "text/html": [
       "<div>\n",
       "<style scoped>\n",
       "    .dataframe tbody tr th:only-of-type {\n",
       "        vertical-align: middle;\n",
       "    }\n",
       "\n",
       "    .dataframe tbody tr th {\n",
       "        vertical-align: top;\n",
       "    }\n",
       "\n",
       "    .dataframe thead th {\n",
       "        text-align: right;\n",
       "    }\n",
       "</style>\n",
       "<table border=\"1\" class=\"dataframe\">\n",
       "  <thead>\n",
       "    <tr style=\"text-align: right;\">\n",
       "      <th></th>\n",
       "      <th>created_at</th>\n",
       "      <th>id_str</th>\n",
       "      <th>full_text</th>\n",
       "      <th>in_reply_to_status_id</th>\n",
       "      <th>in_reply_to_user_id</th>\n",
       "      <th>user.id</th>\n",
       "      <th>user_retweeters</th>\n",
       "      <th>sentiment</th>\n",
       "    </tr>\n",
       "  </thead>\n",
       "  <tbody>\n",
       "    <tr>\n",
       "      <th>0</th>\n",
       "      <td>Sat Feb 20 03:09:10 +0000 2021</td>\n",
       "      <td>1362962469749153792</td>\n",
       "      <td>Seguimos esperando el comunicado de @norabar r...</td>\n",
       "      <td>NaN</td>\n",
       "      <td>NaN</td>\n",
       "      <td>2737379453</td>\n",
       "      <td>[2258074658, 159909978, 105301854, 290671142, ...</td>\n",
       "      <td>NaN</td>\n",
       "    </tr>\n",
       "    <tr>\n",
       "      <th>1</th>\n",
       "      <td>Sat Feb 20 03:19:59 +0000 2021</td>\n",
       "      <td>1362965193509265417</td>\n",
       "      <td>@Clon_43 @norabar Nora estaba indignada porque...</td>\n",
       "      <td>1362962469749153792</td>\n",
       "      <td>2737379453</td>\n",
       "      <td>32718111</td>\n",
       "      <td>[]</td>\n",
       "      <td>NaN</td>\n",
       "    </tr>\n",
       "    <tr>\n",
       "      <th>2</th>\n",
       "      <td>Mon Feb 22 23:55:08 +0000 2021</td>\n",
       "      <td>1364000806740111363</td>\n",
       "      <td>Bueno, Alberto dijo Salud o Economía. La salud...</td>\n",
       "      <td>NaN</td>\n",
       "      <td>NaN</td>\n",
       "      <td>252168075</td>\n",
       "      <td>[1238117630696972289, 37232479, 12792246571247...</td>\n",
       "      <td>NaN</td>\n",
       "    </tr>\n",
       "    <tr>\n",
       "      <th>3</th>\n",
       "      <td>Tue Feb 23 00:09:14 +0000 2021</td>\n",
       "      <td>1364004354374696963</td>\n",
       "      <td>@spitta1969 Tuit del mes Spitta</td>\n",
       "      <td>1364000806740111363</td>\n",
       "      <td>252168075</td>\n",
       "      <td>1156346340802224128</td>\n",
       "      <td>[]</td>\n",
       "      <td>NaN</td>\n",
       "    </tr>\n",
       "    <tr>\n",
       "      <th>4</th>\n",
       "      <td>Tue Feb 23 00:00:17 +0000 2021</td>\n",
       "      <td>1364002100364128260</td>\n",
       "      <td>@spitta1969 Estas onfire</td>\n",
       "      <td>1364000806740111363</td>\n",
       "      <td>252168075</td>\n",
       "      <td>153663816</td>\n",
       "      <td>[]</td>\n",
       "      <td>NaN</td>\n",
       "    </tr>\n",
       "  </tbody>\n",
       "</table>\n",
       "</div>"
      ],
      "text/plain": [
       "                       created_at               id_str  \\\n",
       "0  Sat Feb 20 03:09:10 +0000 2021  1362962469749153792   \n",
       "1  Sat Feb 20 03:19:59 +0000 2021  1362965193509265417   \n",
       "2  Mon Feb 22 23:55:08 +0000 2021  1364000806740111363   \n",
       "3  Tue Feb 23 00:09:14 +0000 2021  1364004354374696963   \n",
       "4  Tue Feb 23 00:00:17 +0000 2021  1364002100364128260   \n",
       "\n",
       "                                           full_text in_reply_to_status_id  \\\n",
       "0  Seguimos esperando el comunicado de @norabar r...                   NaN   \n",
       "1  @Clon_43 @norabar Nora estaba indignada porque...   1362962469749153792   \n",
       "2  Bueno, Alberto dijo Salud o Economía. La salud...                   NaN   \n",
       "3                    @spitta1969 Tuit del mes Spitta   1364000806740111363   \n",
       "4                           @spitta1969 Estas onfire   1364000806740111363   \n",
       "\n",
       "  in_reply_to_user_id              user.id  \\\n",
       "0                 NaN           2737379453   \n",
       "1          2737379453             32718111   \n",
       "2                 NaN            252168075   \n",
       "3           252168075  1156346340802224128   \n",
       "4           252168075            153663816   \n",
       "\n",
       "                                     user_retweeters sentiment  \n",
       "0  [2258074658, 159909978, 105301854, 290671142, ...       NaN  \n",
       "1                                                 []       NaN  \n",
       "2  [1238117630696972289, 37232479, 12792246571247...       NaN  \n",
       "3                                                 []       NaN  \n",
       "4                                                 []       NaN  "
      ]
     },
     "execution_count": 96,
     "metadata": {},
     "output_type": "execute_result"
    }
   ],
   "source": [
    "DATASET_FILE = \"dataset/vacunas.csv\"\n",
    "\n",
    "dtypes = {\n",
    "    'id_str': str,\n",
    "    'full_text': str,\n",
    "    'in_reply_to_status_id': str,\n",
    "    'in_reply_to_user_id': str,\n",
    "    'user.id': str\n",
    "}\n",
    "df = pd.read_csv(DATASET_FILE, dtype=dtypes).dropna(subset=['user_retweeters'])\n",
    "df['user_retweeters'] = df['user_retweeters'].apply(lambda x: [str(elem) for elem in eval(x)])\n",
    "print(df.shape)\n",
    "df.head()"
   ]
  },
  {
   "cell_type": "markdown",
   "id": "88eb8b8b",
   "metadata": {
    "tags": []
   },
   "source": [
    "### Observamos algunos ejemplos"
   ]
  },
  {
   "cell_type": "code",
   "execution_count": 97,
   "id": "5d807493",
   "metadata": {},
   "outputs": [
    {
     "name": "stdout",
     "output_type": "stream",
     "text": [
      "<class 'pandas.core.frame.DataFrame'>\n",
      "Int64Index: 155123 entries, 0 to 163178\n",
      "Data columns (total 8 columns):\n",
      " #   Column                 Non-Null Count   Dtype \n",
      "---  ------                 --------------   ----- \n",
      " 0   created_at             155123 non-null  object\n",
      " 1   id_str                 155123 non-null  object\n",
      " 2   full_text              155123 non-null  object\n",
      " 3   in_reply_to_status_id  151834 non-null  object\n",
      " 4   in_reply_to_user_id    151949 non-null  object\n",
      " 5   user.id                155123 non-null  object\n",
      " 6   user_retweeters        155123 non-null  object\n",
      " 7   sentiment              1029 non-null    object\n",
      "dtypes: object(8)\n",
      "memory usage: 10.7+ MB\n"
     ]
    }
   ],
   "source": [
    "df.info()"
   ]
  },
  {
   "cell_type": "code",
   "execution_count": 98,
   "id": "0affe24d",
   "metadata": {},
   "outputs": [
    {
     "data": {
      "text/plain": [
       "155123"
      ]
     },
     "execution_count": 98,
     "metadata": {},
     "output_type": "execute_result"
    }
   ],
   "source": [
    "len(df)"
   ]
  },
  {
   "cell_type": "code",
   "execution_count": 99,
   "id": "b85b7fe3",
   "metadata": {},
   "outputs": [
    {
     "name": "stdout",
     "output_type": "stream",
     "text": [
      "Texto: Seguimos esperando el comunicado de @norabar repudiando la situación respecto del gobierno y el tema vacunas. Seamos pacientes que con esto de la pandemia anda con mucho \"laburo\".\n",
      "Retweets: 9\n"
     ]
    }
   ],
   "source": [
    "idx = 0\n",
    "print('Texto:', df.full_text.values[idx])\n",
    "print('Retweets:', len(df.user_retweeters.values[idx]))"
   ]
  },
  {
   "cell_type": "code",
   "execution_count": 100,
   "id": "954380a7",
   "metadata": {},
   "outputs": [
    {
     "name": "stdout",
     "output_type": "stream",
     "text": [
      "Text: Todo lo que hay que entender sobre la decisión –o no– de poner más vacunas en más brazos (por ejemplo, usar las 1º dosis en muchos y si es necesario retrasar la 2º) está en esta excelente nota de Nora Bär. https://t.co/A0I03DyxgO\n",
      "Retweets: 48\n"
     ]
    }
   ],
   "source": [
    "idx = 376\n",
    "print('Text:', df.full_text.values[idx])\n",
    "print('Retweets:', len(df.user_retweeters.values[idx]))"
   ]
  },
  {
   "cell_type": "markdown",
   "id": "a64dd1b9",
   "metadata": {},
   "source": [
    "### Calculamos la cantidad de hilos"
   ]
  },
  {
   "cell_type": "code",
   "execution_count": 101,
   "id": "d8df1541",
   "metadata": {},
   "outputs": [
    {
     "data": {
      "text/plain": [
       "(3174, 8)"
      ]
     },
     "execution_count": 101,
     "metadata": {},
     "output_type": "execute_result"
    }
   ],
   "source": [
    "roots = df[df['in_reply_to_user_id'].isna()]\n",
    "roots.shape"
   ]
  },
  {
   "cell_type": "markdown",
   "id": "d4dfaa3a",
   "metadata": {},
   "source": [
    "## Actividades"
   ]
  },
  {
   "cell_type": "markdown",
   "id": "9398c2fd",
   "metadata": {},
   "source": [
    "### 1. Construcción del grafo\n",
    "\n",
    "Construir el **grafo de retweets**, definido de la siguiente manera:\n",
    "\n",
    "- Tipo de grafo: Dirigido\n",
    "- Nodos: ID de los usuarios\n",
    "- Enlaces: (Usuario A) ---> (Usuario B) si B retweeteó algún tweet de A\n",
    "\n",
    "Con estos datos, el grafo debería tener alrededor de 40000 nodos y 90000 enlaces.\n",
    "\n",
    "Considerar la versión no dirigida del grafo y estudiar su conectividad. Si existe una única \"componente gigante\", realizar el resto de las actividades sobre ella, en lugar de sobre el grafo completo.\n",
    "\n",
    "Calcular las siguientes métricas globales del grafo:\n",
    "\n",
    "- Grado medio\n",
    "- Asortatividad\n",
    "- Transitividad\n",
    "- Coeficiente de clustering de Watts-Strogatz"
   ]
  },
  {
   "cell_type": "code",
   "execution_count": 102,
   "id": "0c0ac789",
   "metadata": {},
   "outputs": [],
   "source": [
    "users = df[\"user.id\"].unique().tolist()\n",
    "edges = []\n",
    "for _, (user_id, retweet_ids) in df[[\"user.id\", \"user_retweeters\"]].iterrows():\n",
    "    retweeters = [(user_id, rt) for rt in retweet_ids]\n",
    "    edges.extend(retweeters)"
   ]
  },
  {
   "cell_type": "code",
   "execution_count": 103,
   "id": "ac229630",
   "metadata": {},
   "outputs": [
    {
     "name": "stdout",
     "output_type": "stream",
     "text": [
      "DiGraph with 65934 nodes and 93692 edges\n"
     ]
    }
   ],
   "source": [
    "#calculamos grafo dirigido\n",
    "directed_G = nx.DiGraph()\n",
    "directed_G.add_nodes_from(users)\n",
    "directed_G.add_edges_from(edges)\n",
    "\n",
    "print(nx.info(directed_G))"
   ]
  },
  {
   "cell_type": "code",
   "execution_count": 104,
   "id": "498dd4c4",
   "metadata": {},
   "outputs": [
    {
     "name": "stdout",
     "output_type": "stream",
     "text": [
      "Graph with 65934 nodes and 93404 edges\n"
     ]
    }
   ],
   "source": [
    "#calculamos grafo no dirigido\n",
    "G = nx.Graph()\n",
    "G.add_nodes_from(users)\n",
    "G.add_edges_from(edges)\n",
    "\n",
    "print(nx.info(G))"
   ]
  },
  {
   "cell_type": "markdown",
   "id": "ff442b73",
   "metadata": {},
   "source": [
    "Calculamos la componente conexa más grande"
   ]
  },
  {
   "cell_type": "code",
   "execution_count": 105,
   "id": "9768ad65",
   "metadata": {},
   "outputs": [],
   "source": [
    "largest_cc = max(nx.connected_components(G), key=len)"
   ]
  },
  {
   "cell_type": "code",
   "execution_count": 106,
   "id": "8b0ee5cd",
   "metadata": {},
   "outputs": [
    {
     "name": "stdout",
     "output_type": "stream",
     "text": [
      "Graph with 39800 nodes and 93404 edges\n"
     ]
    }
   ],
   "source": [
    "larg_G = nx.Graph()\n",
    "larg_G.add_nodes_from(largest_cc)\n",
    "larg_G.add_edges_from(edges)\n",
    "\n",
    "print(nx.info(larg_G))"
   ]
  },
  {
   "cell_type": "code",
   "execution_count": 107,
   "id": "09e12c30",
   "metadata": {},
   "outputs": [],
   "source": [
    "df_user = pd.DataFrame({'user':list(larg_G.nodes())})"
   ]
  },
  {
   "cell_type": "code",
   "execution_count": 108,
   "id": "81d11452",
   "metadata": {},
   "outputs": [],
   "source": [
    "deg_seq = np.array([k for v, k in larg_G.degree()])\n",
    "df_user['degree'] = deg_seq"
   ]
  },
  {
   "cell_type": "markdown",
   "id": "03136e0b-de78-41d9-8451-a617551dc368",
   "metadata": {},
   "source": [
    "A continuación, calculamos las métricas más importantes de este grafo. "
   ]
  },
  {
   "cell_type": "code",
   "execution_count": null,
   "id": "e259e488",
   "metadata": {},
   "outputs": [],
   "source": [
    "degree = [k for v, k in larg_G.degree()]\n",
    "avg_degree = np.mean(degree)\n",
    "max_degree = np.max(degree)\n",
    "assortativity = nx.degree_assortativity_coefficient(larg_G)\n",
    "transitivity = np.mean(list(nx.clustering(larg_G).values()))\n",
    "coeficient_clustering = nx.transitivity(larg_G)"
   ]
  },
  {
   "cell_type": "code",
   "execution_count": 12,
   "id": "c9765626",
   "metadata": {
    "tags": []
   },
   "outputs": [
    {
     "name": "stdout",
     "output_type": "stream",
     "text": [
      "Degree del grafo: 4.693668341708543\n",
      "Max degree del grafo: 8207\n",
      "Assortativity del grafo: -0.22131902542941656\n",
      "Transitivity del grafo: 0.09990623904532055\n",
      "Clustering Coeficient del grafo: 0.0016125612488585316\n"
     ]
    }
   ],
   "source": [
    "print(\"Degree del grafo:\", avg_degree)\n",
    "print(\"Max degree del grafo:\",max_degree)\n",
    "print(\"Assortativity del grafo:\", assortativity)\n",
    "print(\"Transitivity del grafo:\", transitivity)\n",
    "print(\"Clustering Coeficient del grafo:\", coeficient_clustering)"
   ]
  },
  {
   "cell_type": "code",
   "execution_count": 17,
   "id": "dbc33200",
   "metadata": {},
   "outputs": [
    {
     "data": {
      "text/plain": [
       "count    39800.000000\n",
       "mean         4.693668\n",
       "std         69.302786\n",
       "min          1.000000\n",
       "25%          1.000000\n",
       "50%          1.000000\n",
       "75%          3.000000\n",
       "max       8207.000000\n",
       "Name: degree, dtype: float64"
      ]
     },
     "execution_count": 17,
     "metadata": {},
     "output_type": "execute_result"
    }
   ],
   "source": [
    "df_user.degree.describe()"
   ]
  },
  {
   "cell_type": "markdown",
   "id": "d44ba01f-a618-4e4e-8af7-037eaac7d6c2",
   "metadata": {},
   "source": [
    "#### Opcional"
   ]
  },
  {
   "cell_type": "markdown",
   "id": "5747cb30",
   "metadata": {},
   "source": [
    "Comparar las métricas calculadas anteriormente con las de un grafo aleatorio con la misma distribución de grado. Pueden utilizar para ello este [método](https://networkx.org/documentation/stable/reference/generated/networkx.generators.degree_seq.configuration_model.html?highlight=configuration#networkx.generators.degree_seq.configuration_model). Con esto en mente, comentar si los valores obtenidos anteriormente difieren significativamente del caso aleatorio."
   ]
  },
  {
   "cell_type": "code",
   "execution_count": 18,
   "id": "a1a9fcd6",
   "metadata": {},
   "outputs": [],
   "source": [
    "random_G = nx.configuration_model(degree, create_using=nx.Graph)"
   ]
  },
  {
   "cell_type": "code",
   "execution_count": 19,
   "id": "3e65d6b4",
   "metadata": {},
   "outputs": [],
   "source": [
    "degree = [k for v, k in random_G.degree()]\n",
    "avg_degree = np.mean(degree)\n",
    "max_degree = np.max(degree)\n",
    "assortativity = nx.degree_assortativity_coefficient(random_G)\n",
    "transitivity = np.mean(list(nx.clustering(random_G).values()))\n",
    "coeficient_clustering = nx.transitivity(random_G)"
   ]
  },
  {
   "cell_type": "code",
   "execution_count": 20,
   "id": "0c984dd2",
   "metadata": {},
   "outputs": [
    {
     "name": "stdout",
     "output_type": "stream",
     "text": [
      "Degree del grafo random: 4.15391959798995\n",
      "Max degree del grafo random: 4615\n",
      "Assortativity del grafo: -0.14921934367070605\n",
      "Transitivity del grafo: 0.05887114006557909\n",
      "Clustering Coeficient del grafo: 0.006633109866229088\n"
     ]
    }
   ],
   "source": [
    "print(\"Degree del grafo random:\", avg_degree)\n",
    "print(\"Max degree del grafo random:\", max_degree)\n",
    "print(\"Assortativity del grafo:\", assortativity)\n",
    "print(\"Transitivity del grafo:\", transitivity)\n",
    "print(\"Clustering Coeficient del grafo:\", coeficient_clustering)"
   ]
  },
  {
   "cell_type": "markdown",
   "id": "4d64488c",
   "metadata": {},
   "source": [
    "Observamos que los valores de las métricas obtenidas para el grafo generado aleatoriamente son muy similares a las calculadas para la componenente principal de nuestro grafo. "
   ]
  },
  {
   "cell_type": "markdown",
   "id": "071387ed",
   "metadata": {
    "tags": []
   },
   "source": [
    "### 2. Centralidad\n",
    "\n",
    "Calcular 5 métricas de centralidad de nodos. Graficar la distribución de cada una de ellas ¿Existe alguna correlación entre las distintas centralidades? \n",
    "\n",
    "Hacer un ranking con los 10 nodos más centrales para cada métrica. ¿Hay coincidencia entre los rankings?. ¿Qué características tienen los usuarios más centrales y sus respectivos tweets?"
   ]
  },
  {
   "cell_type": "code",
   "execution_count": 109,
   "id": "9bc8b54f-091f-4ee0-9b88-db7d7b6d9562",
   "metadata": {},
   "outputs": [
    {
     "name": "stdout",
     "output_type": "stream",
     "text": [
      "IGRAPH UN-- 39800 93404 -- \n",
      "+ attr: name (v)\n"
     ]
    }
   ],
   "source": [
    "#generados grafo para libreria igraph\n",
    "g_ig = ig.Graph.TupleList(larg_G.edges())\n",
    "print(g_ig.summary())"
   ]
  },
  {
   "cell_type": "code",
   "execution_count": 110,
   "id": "e58b0f72",
   "metadata": {},
   "outputs": [],
   "source": [
    "betweenness = g_ig.betweenness()\n",
    "eigenvector = nx.eigenvector_centrality(larg_G,max_iter=1000)\n",
    "pagerank = nx.pagerank(larg_G)\n",
    "clustering_coefficient =  nx.clustering(larg_G)"
   ]
  },
  {
   "cell_type": "code",
   "execution_count": 111,
   "id": "0ab69e4b",
   "metadata": {},
   "outputs": [
    {
     "data": {
      "text/html": [
       "<div>\n",
       "<style scoped>\n",
       "    .dataframe tbody tr th:only-of-type {\n",
       "        vertical-align: middle;\n",
       "    }\n",
       "\n",
       "    .dataframe tbody tr th {\n",
       "        vertical-align: top;\n",
       "    }\n",
       "\n",
       "    .dataframe thead th {\n",
       "        text-align: right;\n",
       "    }\n",
       "</style>\n",
       "<table border=\"1\" class=\"dataframe\">\n",
       "  <thead>\n",
       "    <tr style=\"text-align: right;\">\n",
       "      <th></th>\n",
       "      <th>degree</th>\n",
       "      <th>betweenness</th>\n",
       "      <th>eigenvector</th>\n",
       "      <th>pagerank</th>\n",
       "      <th>Cws</th>\n",
       "    </tr>\n",
       "  </thead>\n",
       "  <tbody>\n",
       "    <tr>\n",
       "      <th>count</th>\n",
       "      <td>39800.00</td>\n",
       "      <td>3.980000e+04</td>\n",
       "      <td>39800.00</td>\n",
       "      <td>39800.00</td>\n",
       "      <td>39800.00</td>\n",
       "    </tr>\n",
       "    <tr>\n",
       "      <th>mean</th>\n",
       "      <td>4.69</td>\n",
       "      <td>5.310058e+04</td>\n",
       "      <td>0.00</td>\n",
       "      <td>0.00</td>\n",
       "      <td>0.10</td>\n",
       "    </tr>\n",
       "    <tr>\n",
       "      <th>std</th>\n",
       "      <td>69.30</td>\n",
       "      <td>2.036286e+06</td>\n",
       "      <td>0.00</td>\n",
       "      <td>0.00</td>\n",
       "      <td>0.24</td>\n",
       "    </tr>\n",
       "    <tr>\n",
       "      <th>min</th>\n",
       "      <td>1.00</td>\n",
       "      <td>0.000000e+00</td>\n",
       "      <td>0.00</td>\n",
       "      <td>0.00</td>\n",
       "      <td>0.00</td>\n",
       "    </tr>\n",
       "    <tr>\n",
       "      <th>25%</th>\n",
       "      <td>1.00</td>\n",
       "      <td>0.000000e+00</td>\n",
       "      <td>0.00</td>\n",
       "      <td>0.00</td>\n",
       "      <td>0.00</td>\n",
       "    </tr>\n",
       "    <tr>\n",
       "      <th>50%</th>\n",
       "      <td>1.00</td>\n",
       "      <td>0.000000e+00</td>\n",
       "      <td>0.00</td>\n",
       "      <td>0.00</td>\n",
       "      <td>0.00</td>\n",
       "    </tr>\n",
       "    <tr>\n",
       "      <th>75%</th>\n",
       "      <td>3.00</td>\n",
       "      <td>2.133930e+03</td>\n",
       "      <td>0.00</td>\n",
       "      <td>0.00</td>\n",
       "      <td>0.00</td>\n",
       "    </tr>\n",
       "    <tr>\n",
       "      <th>max</th>\n",
       "      <td>8207.00</td>\n",
       "      <td>2.703364e+08</td>\n",
       "      <td>0.36</td>\n",
       "      <td>0.04</td>\n",
       "      <td>1.00</td>\n",
       "    </tr>\n",
       "  </tbody>\n",
       "</table>\n",
       "</div>"
      ],
      "text/plain": [
       "         degree   betweenness  eigenvector  pagerank       Cws\n",
       "count  39800.00  3.980000e+04     39800.00  39800.00  39800.00\n",
       "mean       4.69  5.310058e+04         0.00      0.00      0.10\n",
       "std       69.30  2.036286e+06         0.00      0.00      0.24\n",
       "min        1.00  0.000000e+00         0.00      0.00      0.00\n",
       "25%        1.00  0.000000e+00         0.00      0.00      0.00\n",
       "50%        1.00  0.000000e+00         0.00      0.00      0.00\n",
       "75%        3.00  2.133930e+03         0.00      0.00      0.00\n",
       "max     8207.00  2.703364e+08         0.36      0.04      1.00"
      ]
     },
     "execution_count": 111,
     "metadata": {},
     "output_type": "execute_result"
    }
   ],
   "source": [
    "df_user['betweenness'] = betweenness\n",
    "df_user['eigenvector'] = list(eigenvector.values())\n",
    "df_user['pagerank'] = list(pagerank.values())\n",
    "df_user['Cws'] = list(clustering_coefficient.values())\n",
    "\n",
    "df_user.describe().round(2)"
   ]
  },
  {
   "cell_type": "markdown",
   "id": "7101d406-6b48-4dfe-88f7-71e7badaca92",
   "metadata": {},
   "source": [
    "#### Distribución de las métricas de centralidad"
   ]
  },
  {
   "cell_type": "code",
   "execution_count": null,
   "id": "82ce3923",
   "metadata": {},
   "outputs": [],
   "source": [
    "fig, axes = plt.subplots(5,figsize=(10,20))\n",
    "\n",
    "columns=['degree','eigenvector','pagerank','Cws', 'betweenness']\n",
    "df_user_sample= df_user.sample(1000)\n",
    "\n",
    "for ax, col in zip(axes, columns):\n",
    "    if col == 'degree': \n",
    "        binrange=(0,10)\n",
    "    else:\n",
    "        binrange=(0,1)\n",
    "    sn.histplot(data=df_user_sample, x=col, ax=ax, common_norm=True)"
   ]
  },
  {
   "cell_type": "markdown",
   "id": "749925ae-e3c5-4bd0-bf3a-13f09aae830a",
   "metadata": {},
   "source": [
    "#### Top 10 de influencers con mayor centralidad"
   ]
  },
  {
   "cell_type": "code",
   "execution_count": 115,
   "id": "e358b052",
   "metadata": {},
   "outputs": [
    {
     "data": {
      "text/html": [
       "<div>\n",
       "<style scoped>\n",
       "    .dataframe tbody tr th:only-of-type {\n",
       "        vertical-align: middle;\n",
       "    }\n",
       "\n",
       "    .dataframe tbody tr th {\n",
       "        vertical-align: top;\n",
       "    }\n",
       "\n",
       "    .dataframe thead th {\n",
       "        text-align: right;\n",
       "    }\n",
       "</style>\n",
       "<table border=\"1\" class=\"dataframe\">\n",
       "  <thead>\n",
       "    <tr style=\"text-align: right;\">\n",
       "      <th></th>\n",
       "      <th>degree</th>\n",
       "      <th>eigenvector</th>\n",
       "      <th>pagerank</th>\n",
       "      <th>Cws</th>\n",
       "      <th>betweenness</th>\n",
       "    </tr>\n",
       "  </thead>\n",
       "  <tbody>\n",
       "    <tr>\n",
       "      <th>0</th>\n",
       "      <td>252168075</td>\n",
       "      <td>130979339</td>\n",
       "      <td>252168075</td>\n",
       "      <td>2265471129</td>\n",
       "      <td>1118960265314340866</td>\n",
       "    </tr>\n",
       "    <tr>\n",
       "      <th>1</th>\n",
       "      <td>130979339</td>\n",
       "      <td>73102744</td>\n",
       "      <td>130979339</td>\n",
       "      <td>935800273</td>\n",
       "      <td>1192140046729650176</td>\n",
       "    </tr>\n",
       "    <tr>\n",
       "      <th>2</th>\n",
       "      <td>73102744</td>\n",
       "      <td>252168075</td>\n",
       "      <td>73102744</td>\n",
       "      <td>1118960265314340866</td>\n",
       "      <td>613132527</td>\n",
       "    </tr>\n",
       "    <tr>\n",
       "      <th>3</th>\n",
       "      <td>367933714</td>\n",
       "      <td>367933714</td>\n",
       "      <td>593189095</td>\n",
       "      <td>3122768948</td>\n",
       "      <td>1306262473780142080</td>\n",
       "    </tr>\n",
       "    <tr>\n",
       "      <th>4</th>\n",
       "      <td>593189095</td>\n",
       "      <td>2687724840</td>\n",
       "      <td>367933714</td>\n",
       "      <td>305177589</td>\n",
       "      <td>986201754667769858</td>\n",
       "    </tr>\n",
       "    <tr>\n",
       "      <th>5</th>\n",
       "      <td>2687724840</td>\n",
       "      <td>593189095</td>\n",
       "      <td>2687724840</td>\n",
       "      <td>928960593461219328</td>\n",
       "      <td>2224865828</td>\n",
       "    </tr>\n",
       "    <tr>\n",
       "      <th>6</th>\n",
       "      <td>931564592328781824</td>\n",
       "      <td>312708081</td>\n",
       "      <td>144929758</td>\n",
       "      <td>4448740767</td>\n",
       "      <td>1223438191996428288</td>\n",
       "    </tr>\n",
       "    <tr>\n",
       "      <th>7</th>\n",
       "      <td>144929758</td>\n",
       "      <td>144929758</td>\n",
       "      <td>931564592328781824</td>\n",
       "      <td>1244343151478751232</td>\n",
       "      <td>2548274155</td>\n",
       "    </tr>\n",
       "    <tr>\n",
       "      <th>8</th>\n",
       "      <td>312708081</td>\n",
       "      <td>931564592328781824</td>\n",
       "      <td>312708081</td>\n",
       "      <td>119320260</td>\n",
       "      <td>552328980</td>\n",
       "    </tr>\n",
       "    <tr>\n",
       "      <th>9</th>\n",
       "      <td>1077176953</td>\n",
       "      <td>959033548379508736</td>\n",
       "      <td>1077176953</td>\n",
       "      <td>4465922416</td>\n",
       "      <td>748037632622460929</td>\n",
       "    </tr>\n",
       "  </tbody>\n",
       "</table>\n",
       "</div>"
      ],
      "text/plain": [
       "               degree         eigenvector            pagerank  \\\n",
       "0           252168075           130979339           252168075   \n",
       "1           130979339            73102744           130979339   \n",
       "2            73102744           252168075            73102744   \n",
       "3           367933714           367933714           593189095   \n",
       "4           593189095          2687724840           367933714   \n",
       "5          2687724840           593189095          2687724840   \n",
       "6  931564592328781824           312708081           144929758   \n",
       "7           144929758           144929758  931564592328781824   \n",
       "8           312708081  931564592328781824           312708081   \n",
       "9          1077176953  959033548379508736          1077176953   \n",
       "\n",
       "                   Cws          betweenness  \n",
       "0           2265471129  1118960265314340866  \n",
       "1            935800273  1192140046729650176  \n",
       "2  1118960265314340866            613132527  \n",
       "3           3122768948  1306262473780142080  \n",
       "4            305177589   986201754667769858  \n",
       "5   928960593461219328           2224865828  \n",
       "6           4448740767  1223438191996428288  \n",
       "7  1244343151478751232           2548274155  \n",
       "8            119320260            552328980  \n",
       "9           4465922416   748037632622460929  "
      ]
     },
     "execution_count": 115,
     "metadata": {},
     "output_type": "execute_result"
    }
   ],
   "source": [
    "data = {}\n",
    "for col in columns:\n",
    "    top_users = df_user.nlargest(10, columns=[col])['user'].tolist()\n",
    "    data[col] = top_users\n",
    "pd.DataFrame(data)"
   ]
  },
  {
   "cell_type": "code",
   "execution_count": 116,
   "id": "eece1361-1c69-4691-af76-62943b42f955",
   "metadata": {},
   "outputs": [
    {
     "data": {
      "text/plain": [
       "73102744               3\n",
       "130979339              3\n",
       "312708081              3\n",
       "2687724840             3\n",
       "593189095              3\n",
       "252168075              3\n",
       "144929758              3\n",
       "367933714              3\n",
       "931564592328781824     3\n",
       "1118960265314340866    2\n",
       "1077176953             2\n",
       "748037632622460929     1\n",
       "4465922416             1\n",
       "613132527              1\n",
       "928960593461219328     1\n",
       "935800273              1\n",
       "552328980              1\n",
       "959033548379508736     1\n",
       "3122768948             1\n",
       "4448740767             1\n",
       "305177589              1\n",
       "2548274155             1\n",
       "2265471129             1\n",
       "2224865828             1\n",
       "1306262473780142080    1\n",
       "1244343151478751232    1\n",
       "1223438191996428288    1\n",
       "119320260              1\n",
       "1192140046729650176    1\n",
       "986201754667769858     1\n",
       "dtype: int64"
      ]
     },
     "execution_count": 116,
     "metadata": {},
     "output_type": "execute_result"
    }
   ],
   "source": [
    "pd.DataFrame(np.concatenate(list(data.values()))).value_counts()"
   ]
  },
  {
   "cell_type": "markdown",
   "id": "751e2a1b",
   "metadata": {},
   "source": [
    "Observamos que existen unos cuantos usuarios que se repiten en el top 10 de cada uno de las métricas. Seleccionamos los usuarios 252168075, 130979339, 73102744 debido a que se encuentran más arriba en el top de las métricas. Procedemos entonces a analizar que tipo de tweets emitieron estos usuarios."
   ]
  },
  {
   "cell_type": "code",
   "execution_count": null,
   "id": "5403151d",
   "metadata": {},
   "outputs": [],
   "source": [
    "influencer = ['252168075','130979339', '73102744']\n",
    "df_influencer = df[df['user.id'].isin(influencer)]"
   ]
  },
  {
   "cell_type": "code",
   "execution_count": null,
   "id": "a9ebc0a6",
   "metadata": {},
   "outputs": [],
   "source": [
    "def remove_stopwords(s, language):\n",
    "    s = ' '.join(w for w in tokenize.word_tokenize(s)\n",
    "                 if not w in corpus.stopwords.words(language))\n",
    "    return s"
   ]
  },
  {
   "cell_type": "code",
   "execution_count": null,
   "id": "ed1987b5",
   "metadata": {},
   "outputs": [],
   "source": [
    "#Quitamos las stopwords y llevamos a minusculas las palabras de cada tweet\n",
    "df_influencer = df_influencer.assign(\n",
    "    clean_text = (\n",
    "        df_influencer['full_text']\n",
    "        .apply(lambda t: t.lower())\n",
    "        .apply(lambda t: remove_stopwords(t, 'spanish'))\n",
    "    )   \n",
    ")"
   ]
  },
  {
   "cell_type": "markdown",
   "id": "cf6ede3f-59c3-4900-bd06-12cc2c52ca1d",
   "metadata": {},
   "source": [
    "De los tweets emitidos por los usuarios seleccionados, nos quedamos con una muestra de las palabras más comunes, de forma tal de identificar lo que suelen postear en sus publicaciones."
   ]
  },
  {
   "cell_type": "code",
   "execution_count": null,
   "id": "e1d15c7e",
   "metadata": {},
   "outputs": [],
   "source": [
    "def sample_text_from_col(df, n=1000,\n",
    "                         text_col='clean_text'):\n",
    "  \"\"\"Extract a sample of text from column\"\"\"\n",
    "  if n > len(df):\n",
    "    n = len(df)\n",
    "  return '\\n'.join(df.sample(n)[text_col].values)"
   ]
  },
  {
   "cell_type": "code",
   "execution_count": null,
   "id": "5ce9431b",
   "metadata": {},
   "outputs": [],
   "source": [
    "unique_users = df_influencer['user.id'].unique()\n",
    "text_samples_for_user = {\n",
    "    user: sample_text_from_col(df_influencer[df_influencer['user.id'] == user],text_col='clean_text')\n",
    "    for user in unique_users\n",
    "    if isinstance(user, str)\n",
    "}\n",
    "list(text_samples_for_user.keys())"
   ]
  },
  {
   "cell_type": "code",
   "execution_count": null,
   "id": "2dfef590",
   "metadata": {},
   "outputs": [],
   "source": [
    "# Create general layout\n",
    "n_cols = 3\n",
    "n_rows = math.ceil(len(text_samples_for_user) / n_cols)\n",
    "\n",
    "fig, axs = plt.subplots(n_rows, n_cols, figsize=(25, 40))\n",
    "for i, (user, text_sample) in enumerate(text_samples_for_user.items()):\n",
    "  wc = WordCloud(width=900, height=900, max_font_size=200)\\\n",
    "      .generate(text_sample)\n",
    "  #row = math.floor(i / n_cols)\n",
    "  col = i % n_cols\n",
    "  ax = axs[col]\n",
    "  ax.imshow(wc, interpolation='bilinear')\n",
    "  ax.axis(\"off\")\n",
    "  ax.set_title(user)"
   ]
  },
  {
   "cell_type": "markdown",
   "id": "ed8e3a50",
   "metadata": {},
   "source": [
    "Observando los gráficos anteriores, no podemos concluir si dichos usuarios están a favor o en contra de la vacunación, en principio el usuario 130979339 pareciera twittear con el objetivo de informar diferentes reportes diarios. Por otro lado, buscamos los perfiles de estos usuarios y corresponden con los siguientes:\n",
    "- Usuario 252168075: https://twitter.com/norabar \n",
    "- Usuario 73102744: https://twitter.com/ernestorr \n",
    "- Usuario 130979339: https://twitter.com/spitta1969 \n",
    "\n",
    "Los tres usuarios tienen una gran cantidad de seguidores y twittean con gran frecuencia en la red social. "
   ]
  },
  {
   "cell_type": "markdown",
   "id": "bf0c9a71-4439-4268-b5f5-b6e6789379a5",
   "metadata": {},
   "source": [
    "#### Opcional"
   ]
  },
  {
   "cell_type": "markdown",
   "id": "373e97bd",
   "metadata": {},
   "source": [
    "Determinar si existe alguna correlación entre la centralidad de un nodo y su actividad en red social. Es decir, evaluar si los usuarios que más escriben son los más centrales o no."
   ]
  },
  {
   "cell_type": "code",
   "execution_count": null,
   "id": "5d10d30e",
   "metadata": {},
   "outputs": [],
   "source": [
    "df['user.id'].value_counts()"
   ]
  },
  {
   "cell_type": "markdown",
   "id": "e9a05db2",
   "metadata": {},
   "source": [
    "Observamos que los usuarios que mayor actividad tienen en la red social, también son los centrales en nuestro grafo. "
   ]
  },
  {
   "cell_type": "markdown",
   "id": "020ca883",
   "metadata": {
    "tags": []
   },
   "source": [
    "### 3. Comunidades\n",
    "\n",
    "Utilizar el algoritmo de Louvain con el parámetro \"resolución\" igual a 1. Caracterizar las comunidades halladas (cantidad, distribución de tamaños). Utilizar la modularidad y otras dos métricas a elección para evaluar la calidad de la partición encontrada. \n",
    "\n",
    "Variar el parámetro \"resolución\" y observar cómo cambia la distribución de comunidades encontradas. ¿Existe algún valor para el cual se identifiquen dos grandes comunidades?"
   ]
  },
  {
   "cell_type": "markdown",
   "id": "dc857b63",
   "metadata": {},
   "source": [
    "#### 3.1 Algoritmo de Louvain"
   ]
  },
  {
   "cell_type": "code",
   "execution_count": 15,
   "id": "93a47eac",
   "metadata": {},
   "outputs": [],
   "source": [
    "comms = algorithms.louvain(larg_G, resolution=1, randomize=False)"
   ]
  },
  {
   "cell_type": "code",
   "execution_count": 16,
   "id": "8fd5c624",
   "metadata": {},
   "outputs": [],
   "source": [
    "comm_df = pd.DataFrame({\n",
    "    \"communities\": comms.communities,\n",
    "    \"comm_id\": np.arange(0, len(comms.communities))\n",
    "})"
   ]
  },
  {
   "cell_type": "code",
   "execution_count": 17,
   "id": "fa34fb2c",
   "metadata": {},
   "outputs": [],
   "source": [
    "comm_df = comm_df.assign(comm_size=comm_df[\"communities\"].apply(lambda c: len(c)))"
   ]
  },
  {
   "cell_type": "code",
   "execution_count": 18,
   "id": "ca49d769",
   "metadata": {},
   "outputs": [],
   "source": [
    "densest_communities_df = comm_df.sort_values(by=\"comm_size\", ascending=False).head(25)"
   ]
  },
  {
   "cell_type": "code",
   "execution_count": 19,
   "id": "9540c5f3",
   "metadata": {},
   "outputs": [],
   "source": [
    "densest_communities_df = (densest_communities_df.assign(\n",
    "    percent_size=densest_communities_df[\"comm_size\"].apply(\n",
    "        lambda size: size / larg_G.number_of_nodes())))"
   ]
  },
  {
   "cell_type": "markdown",
   "id": "c15a3a04-1e79-48e0-a7e7-a7d71542899b",
   "metadata": {},
   "source": [
    "Obtuvimos el porcentaje de usuarios que pertenecen a las 25 primeras comunidades."
   ]
  },
  {
   "cell_type": "code",
   "execution_count": 20,
   "id": "6dc5b8bf",
   "metadata": {},
   "outputs": [
    {
     "data": {
      "text/plain": [
       "0.9794472361809046"
      ]
     },
     "execution_count": 20,
     "metadata": {},
     "output_type": "execute_result"
    }
   ],
   "source": [
    "densest_communities_df[\"percent_size\"].sum()"
   ]
  },
  {
   "cell_type": "code",
   "execution_count": 21,
   "id": "8c868191",
   "metadata": {},
   "outputs": [
    {
     "data": {
      "image/png": "[encoded data removed]",
      "text/plain": [
       "<Figure size 720x360 with 1 Axes>"
      ]
     },
     "metadata": {
      "needs_background": "light"
     },
     "output_type": "display_data"
    }
   ],
   "source": [
    "fig, ax = plt.subplots(figsize=(10, 5))\n",
    "sn.barplot(data=densest_communities_df,\n",
    "           x=\"comm_id\",\n",
    "           y=\"comm_size\")\n",
    "plt.show()"
   ]
  },
  {
   "cell_type": "code",
   "execution_count": 22,
   "id": "6dd96659",
   "metadata": {},
   "outputs": [
    {
     "data": {
      "text/plain": [
       "<AxesSubplot:xlabel='comm_size', ylabel='Count'>"
      ]
     },
     "execution_count": 22,
     "metadata": {},
     "output_type": "execute_result"
    },
    {
     "data": {
      "image/png": "[encoded data removed]",
      "text/plain": [
       "<Figure size 432x288 with 1 Axes>"
      ]
     },
     "metadata": {
      "needs_background": "light"
     },
     "output_type": "display_data"
    }
   ],
   "source": [
    "sn.histplot(data=densest_communities_df,\n",
    "            x=\"comm_size\",\n",
    "            bins=40)"
   ]
  },
  {
   "cell_type": "markdown",
   "id": "26a837d0",
   "metadata": {},
   "source": [
    "El algoritmo de Louvain con resolución igual a 1 encontró 360 comunidades de las\n",
    "cuales el 7% de las comunidades (25 / 360), agrupa al 97% de los usuarios."
   ]
  },
  {
   "cell_type": "markdown",
   "id": "e78c3a31-d75b-46b4-a28f-541c528ad4a9",
   "metadata": {},
   "source": [
    "A continuación, calculamos la densidad y modularidad de dichas comunidades. "
   ]
  },
  {
   "cell_type": "code",
   "execution_count": 23,
   "id": "c15d0c8a",
   "metadata": {},
   "outputs": [
    {
     "name": "stdout",
     "output_type": "stream",
     "text": [
      "Densidad del grafo: 0.00011793432854364539\n",
      "Internal edge density: FitnessResult(min=0, max=2.0, score=0.7034509256086787, std=0.45782051266681195)\n"
     ]
    }
   ],
   "source": [
    "m = larg_G.number_of_edges()\n",
    "N = larg_G.number_of_nodes()\n",
    "print('Densidad del grafo:', m/(N*(N-1)/2))\n",
    "print('Internal edge density:', evaluation.internal_edge_density(larg_G, comms))"
   ]
  },
  {
   "cell_type": "code",
   "execution_count": 24,
   "id": "1c1433db",
   "metadata": {},
   "outputs": [
    {
     "name": "stdout",
     "output_type": "stream",
     "text": [
      "Modularity: FitnessResult(min=None, max=None, score=0.5651563920694347, std=None)\n"
     ]
    }
   ],
   "source": [
    "print('Modularity:', evaluation.newman_girvan_modularity(larg_G, comms))"
   ]
  },
  {
   "cell_type": "code",
   "execution_count": 25,
   "id": "136b2b00-4405-4017-91e7-f56b0946e7b4",
   "metadata": {},
   "outputs": [
    {
     "name": "stdout",
     "output_type": "stream",
     "text": [
      "Modularity Density: FitnessResult(min=None, max=None, score=455.61987538509817, std=None)\n"
     ]
    }
   ],
   "source": [
    "print('Modularity Density:', evaluation.modularity_density(larg_G, comms))"
   ]
  },
  {
   "cell_type": "code",
   "execution_count": 26,
   "id": "a12b75f0",
   "metadata": {},
   "outputs": [
    {
     "name": "stdout",
     "output_type": "stream",
     "text": [
      "Cut Ratio: FitnessResult(min=0.0, max=9.42400482509047e-05, score=2.3474666240333405e-06, std=8.673512175355622e-06)\n"
     ]
    }
   ],
   "source": [
    "print('Cut Ratio:', evaluation.cut_ratio(larg_G, comms))"
   ]
  },
  {
   "cell_type": "code",
   "execution_count": 44,
   "id": "9e566e54-c58a-47c7-a9d9-11a532aed463",
   "metadata": {},
   "outputs": [
    {
     "data": {
      "text/html": [
       "<div>\n",
       "<style scoped>\n",
       "    .dataframe tbody tr th:only-of-type {\n",
       "        vertical-align: middle;\n",
       "    }\n",
       "\n",
       "    .dataframe tbody tr th {\n",
       "        vertical-align: top;\n",
       "    }\n",
       "\n",
       "    .dataframe thead th {\n",
       "        text-align: right;\n",
       "    }\n",
       "</style>\n",
       "<table border=\"1\" class=\"dataframe\">\n",
       "  <thead>\n",
       "    <tr style=\"text-align: right;\">\n",
       "      <th></th>\n",
       "      <th>resolutions</th>\n",
       "      <th>ncomms</th>\n",
       "      <th>modularity</th>\n",
       "      <th>density</th>\n",
       "      <th>greatestcomms1</th>\n",
       "      <th>greatestcomms2</th>\n",
       "    </tr>\n",
       "  </thead>\n",
       "  <tbody>\n",
       "    <tr>\n",
       "      <th>0</th>\n",
       "      <td>1</td>\n",
       "      <td>355</td>\n",
       "      <td>0.565156</td>\n",
       "      <td>0.703451</td>\n",
       "      <td>8145</td>\n",
       "      <td>7613</td>\n",
       "    </tr>\n",
       "    <tr>\n",
       "      <th>1</th>\n",
       "      <td>2</td>\n",
       "      <td>354</td>\n",
       "      <td>0.528399</td>\n",
       "      <td>0.718885</td>\n",
       "      <td>19369</td>\n",
       "      <td>15499</td>\n",
       "    </tr>\n",
       "    <tr>\n",
       "      <th>2</th>\n",
       "      <td>3</td>\n",
       "      <td>343</td>\n",
       "      <td>0.504632</td>\n",
       "      <td>0.729453</td>\n",
       "      <td>22440</td>\n",
       "      <td>15688</td>\n",
       "    </tr>\n",
       "    <tr>\n",
       "      <th>3</th>\n",
       "      <td>4</td>\n",
       "      <td>335</td>\n",
       "      <td>0.503072</td>\n",
       "      <td>0.738618</td>\n",
       "      <td>22602</td>\n",
       "      <td>15707</td>\n",
       "    </tr>\n",
       "    <tr>\n",
       "      <th>4</th>\n",
       "      <td>5</td>\n",
       "      <td>326</td>\n",
       "      <td>0.501964</td>\n",
       "      <td>0.751745</td>\n",
       "      <td>22634</td>\n",
       "      <td>15801</td>\n",
       "    </tr>\n",
       "    <tr>\n",
       "      <th>5</th>\n",
       "      <td>6</td>\n",
       "      <td>321</td>\n",
       "      <td>0.500561</td>\n",
       "      <td>0.760098</td>\n",
       "      <td>22768</td>\n",
       "      <td>15811</td>\n",
       "    </tr>\n",
       "    <tr>\n",
       "      <th>6</th>\n",
       "      <td>7</td>\n",
       "      <td>321</td>\n",
       "      <td>0.501342</td>\n",
       "      <td>0.760128</td>\n",
       "      <td>22693</td>\n",
       "      <td>15807</td>\n",
       "    </tr>\n",
       "    <tr>\n",
       "      <th>7</th>\n",
       "      <td>8</td>\n",
       "      <td>319</td>\n",
       "      <td>0.500590</td>\n",
       "      <td>0.764508</td>\n",
       "      <td>22768</td>\n",
       "      <td>15807</td>\n",
       "    </tr>\n",
       "    <tr>\n",
       "      <th>8</th>\n",
       "      <td>9</td>\n",
       "      <td>320</td>\n",
       "      <td>0.500283</td>\n",
       "      <td>0.762265</td>\n",
       "      <td>22798</td>\n",
       "      <td>15811</td>\n",
       "    </tr>\n",
       "  </tbody>\n",
       "</table>\n",
       "</div>"
      ],
      "text/plain": [
       "   resolutions  ncomms  modularity   density  greatestcomms1  greatestcomms2\n",
       "0            1     355    0.565156  0.703451            8145            7613\n",
       "1            2     354    0.528399  0.718885           19369           15499\n",
       "2            3     343    0.504632  0.729453           22440           15688\n",
       "3            4     335    0.503072  0.738618           22602           15707\n",
       "4            5     326    0.501964  0.751745           22634           15801\n",
       "5            6     321    0.500561  0.760098           22768           15811\n",
       "6            7     321    0.501342  0.760128           22693           15807\n",
       "7            8     319    0.500590  0.764508           22768           15807\n",
       "8            9     320    0.500283  0.762265           22798           15811"
      ]
     },
     "execution_count": 44,
     "metadata": {},
     "output_type": "execute_result"
    }
   ],
   "source": [
    "resolutions = range(1,10,1)\n",
    "data = []\n",
    "for resolution in resolutions:\n",
    "   \n",
    "    comms_lv = algorithms.louvain(larg_G, resolution=resolution, randomize=False)\n",
    "    ncomms = len(comms_lv.communities)\n",
    "    comms_size = [len(c) for c in comms_lv.communities]\n",
    "    comms_size.sort()\n",
    "    modularity = evaluation.newman_girvan_modularity(larg_G, comms_lv).score\n",
    "    density = evaluation.internal_edge_density(larg_G, comms_lv).score\n",
    "    data.append((resolution, ncomms, modularity,density, comms_size[-1],  comms_size[-2]))\n",
    "    \n",
    "comm_lv_df = pd.DataFrame(data, columns=['resolutions', 'ncomms', 'modularity','density','greatestcomms1', 'greatestcomms2'])\n",
    "comm_lv_df"
   ]
  },
  {
   "cell_type": "code",
   "execution_count": 45,
   "id": "6bf18c43-3e84-4930-aa21-8302e94e676e",
   "metadata": {},
   "outputs": [],
   "source": [
    "comm_lv_df['n_nodes'] = len(larg_G.nodes())"
   ]
  },
  {
   "cell_type": "code",
   "execution_count": 46,
   "id": "e0c31529-db58-49c4-a946-690fbd510d28",
   "metadata": {},
   "outputs": [
    {
     "data": {
      "text/html": [
       "<div>\n",
       "<style scoped>\n",
       "    .dataframe tbody tr th:only-of-type {\n",
       "        vertical-align: middle;\n",
       "    }\n",
       "\n",
       "    .dataframe tbody tr th {\n",
       "        vertical-align: top;\n",
       "    }\n",
       "\n",
       "    .dataframe thead th {\n",
       "        text-align: right;\n",
       "    }\n",
       "</style>\n",
       "<table border=\"1\" class=\"dataframe\">\n",
       "  <thead>\n",
       "    <tr style=\"text-align: right;\">\n",
       "      <th></th>\n",
       "      <th>resolutions</th>\n",
       "      <th>ncomms</th>\n",
       "      <th>modularity</th>\n",
       "      <th>density</th>\n",
       "      <th>greatestcomms1</th>\n",
       "      <th>greatestcomms2</th>\n",
       "      <th>n_nodes</th>\n",
       "    </tr>\n",
       "  </thead>\n",
       "  <tbody>\n",
       "    <tr>\n",
       "      <th>0</th>\n",
       "      <td>1</td>\n",
       "      <td>355</td>\n",
       "      <td>0.565156</td>\n",
       "      <td>0.703451</td>\n",
       "      <td>8145</td>\n",
       "      <td>7613</td>\n",
       "      <td>39800</td>\n",
       "    </tr>\n",
       "    <tr>\n",
       "      <th>1</th>\n",
       "      <td>2</td>\n",
       "      <td>354</td>\n",
       "      <td>0.528399</td>\n",
       "      <td>0.718885</td>\n",
       "      <td>19369</td>\n",
       "      <td>15499</td>\n",
       "      <td>39800</td>\n",
       "    </tr>\n",
       "    <tr>\n",
       "      <th>2</th>\n",
       "      <td>3</td>\n",
       "      <td>343</td>\n",
       "      <td>0.504632</td>\n",
       "      <td>0.729453</td>\n",
       "      <td>22440</td>\n",
       "      <td>15688</td>\n",
       "      <td>39800</td>\n",
       "    </tr>\n",
       "    <tr>\n",
       "      <th>3</th>\n",
       "      <td>4</td>\n",
       "      <td>335</td>\n",
       "      <td>0.503072</td>\n",
       "      <td>0.738618</td>\n",
       "      <td>22602</td>\n",
       "      <td>15707</td>\n",
       "      <td>39800</td>\n",
       "    </tr>\n",
       "    <tr>\n",
       "      <th>4</th>\n",
       "      <td>5</td>\n",
       "      <td>326</td>\n",
       "      <td>0.501964</td>\n",
       "      <td>0.751745</td>\n",
       "      <td>22634</td>\n",
       "      <td>15801</td>\n",
       "      <td>39800</td>\n",
       "    </tr>\n",
       "    <tr>\n",
       "      <th>5</th>\n",
       "      <td>6</td>\n",
       "      <td>321</td>\n",
       "      <td>0.500561</td>\n",
       "      <td>0.760098</td>\n",
       "      <td>22768</td>\n",
       "      <td>15811</td>\n",
       "      <td>39800</td>\n",
       "    </tr>\n",
       "    <tr>\n",
       "      <th>6</th>\n",
       "      <td>7</td>\n",
       "      <td>321</td>\n",
       "      <td>0.501342</td>\n",
       "      <td>0.760128</td>\n",
       "      <td>22693</td>\n",
       "      <td>15807</td>\n",
       "      <td>39800</td>\n",
       "    </tr>\n",
       "    <tr>\n",
       "      <th>7</th>\n",
       "      <td>8</td>\n",
       "      <td>319</td>\n",
       "      <td>0.500590</td>\n",
       "      <td>0.764508</td>\n",
       "      <td>22768</td>\n",
       "      <td>15807</td>\n",
       "      <td>39800</td>\n",
       "    </tr>\n",
       "    <tr>\n",
       "      <th>8</th>\n",
       "      <td>9</td>\n",
       "      <td>320</td>\n",
       "      <td>0.500283</td>\n",
       "      <td>0.762265</td>\n",
       "      <td>22798</td>\n",
       "      <td>15811</td>\n",
       "      <td>39800</td>\n",
       "    </tr>\n",
       "  </tbody>\n",
       "</table>\n",
       "</div>"
      ],
      "text/plain": [
       "   resolutions  ncomms  modularity   density  greatestcomms1  greatestcomms2  \\\n",
       "0            1     355    0.565156  0.703451            8145            7613   \n",
       "1            2     354    0.528399  0.718885           19369           15499   \n",
       "2            3     343    0.504632  0.729453           22440           15688   \n",
       "3            4     335    0.503072  0.738618           22602           15707   \n",
       "4            5     326    0.501964  0.751745           22634           15801   \n",
       "5            6     321    0.500561  0.760098           22768           15811   \n",
       "6            7     321    0.501342  0.760128           22693           15807   \n",
       "7            8     319    0.500590  0.764508           22768           15807   \n",
       "8            9     320    0.500283  0.762265           22798           15811   \n",
       "\n",
       "   n_nodes  \n",
       "0    39800  \n",
       "1    39800  \n",
       "2    39800  \n",
       "3    39800  \n",
       "4    39800  \n",
       "5    39800  \n",
       "6    39800  \n",
       "7    39800  \n",
       "8    39800  "
      ]
     },
     "execution_count": 46,
     "metadata": {},
     "output_type": "execute_result"
    }
   ],
   "source": [
    "comm_lv_df"
   ]
  },
  {
   "cell_type": "markdown",
   "id": "69e3783f-27e7-4081-a68d-a3850f106596",
   "metadata": {},
   "source": [
    "Observamos que a partir de la resolución 2, el algoritmo de Louvain encuentra dos grandes comunidades, siendo el resto minoría. \n",
    "\n",
    "A su vez, observamos que a medida que aumenta la resolución la modularidad disminuye pero la densidad aumenta, teniendo poca variabilidad. "
   ]
  },
  {
   "cell_type": "markdown",
   "id": "0ca38836",
   "metadata": {},
   "source": [
    "#### 3.2 Algoritmo de Girvan Newman"
   ]
  },
  {
   "cell_type": "markdown",
   "id": "eea3f1e0-d406-43b8-b6d7-10f8d4c062f0",
   "metadata": {},
   "source": [
    "Elegir otro algoritmo de detección de comunidades y comparar los resultados con los obtenidos anteriormente."
   ]
  },
  {
   "cell_type": "code",
   "execution_count": 94,
   "id": "49a593d2",
   "metadata": {},
   "outputs": [
    {
     "ename": "KeyboardInterrupt",
     "evalue": "",
     "output_type": "error",
     "traceback": [
      "\u001b[1;31m---------------------------------------------------------------------------\u001b[0m",
      "\u001b[1;31mKeyboardInterrupt\u001b[0m                         Traceback (most recent call last)",
      "\u001b[1;32m<ipython-input-94-c42721f22a26>\u001b[0m in \u001b[0;36m<module>\u001b[1;34m\u001b[0m\n\u001b[0;32m      2\u001b[0m \u001b[0mdata\u001b[0m \u001b[1;33m=\u001b[0m \u001b[1;33m[\u001b[0m\u001b[1;33m]\u001b[0m\u001b[1;33m\u001b[0m\u001b[1;33m\u001b[0m\u001b[0m\n\u001b[0;32m      3\u001b[0m \u001b[1;32mfor\u001b[0m \u001b[0mlevel\u001b[0m \u001b[1;32min\u001b[0m \u001b[0mlevels\u001b[0m\u001b[1;33m:\u001b[0m\u001b[1;33m\u001b[0m\u001b[1;33m\u001b[0m\u001b[0m\n\u001b[1;32m----> 4\u001b[1;33m     \u001b[0mcomms_gn\u001b[0m \u001b[1;33m=\u001b[0m \u001b[0malgorithms\u001b[0m\u001b[1;33m.\u001b[0m\u001b[0mgirvan_newman\u001b[0m\u001b[1;33m(\u001b[0m\u001b[0mlarg_G\u001b[0m\u001b[1;33m,\u001b[0m \u001b[0mlevel\u001b[0m\u001b[1;33m=\u001b[0m\u001b[0mlevel\u001b[0m\u001b[1;33m)\u001b[0m\u001b[1;33m\u001b[0m\u001b[1;33m\u001b[0m\u001b[0m\n\u001b[0m\u001b[0;32m      5\u001b[0m     \u001b[0mncomms\u001b[0m \u001b[1;33m=\u001b[0m \u001b[0mlen\u001b[0m\u001b[1;33m(\u001b[0m\u001b[0mcomms_gn\u001b[0m\u001b[1;33m.\u001b[0m\u001b[0mcommunities\u001b[0m\u001b[1;33m)\u001b[0m\u001b[1;33m\u001b[0m\u001b[1;33m\u001b[0m\u001b[0m\n\u001b[0;32m      6\u001b[0m     \u001b[0mgreatestcomm\u001b[0m \u001b[1;33m=\u001b[0m \u001b[0mmax\u001b[0m\u001b[1;33m(\u001b[0m\u001b[0mlen\u001b[0m\u001b[1;33m(\u001b[0m\u001b[0mc\u001b[0m\u001b[1;33m)\u001b[0m \u001b[1;32mfor\u001b[0m \u001b[0mc\u001b[0m \u001b[1;32min\u001b[0m \u001b[0mcomms_gn\u001b[0m\u001b[1;33m.\u001b[0m\u001b[0mcommunities\u001b[0m\u001b[1;33m)\u001b[0m\u001b[1;33m\u001b[0m\u001b[1;33m\u001b[0m\u001b[0m\n",
      "\u001b[1;32m~\\.conda\\envs\\diplodatos-ayvd\\lib\\site-packages\\cdlib\\algorithms\\crisp_partition.py\u001b[0m in \u001b[0;36mgirvan_newman\u001b[1;34m(g_original, level)\u001b[0m\n\u001b[0;32m    168\u001b[0m     \u001b[0mcoms\u001b[0m \u001b[1;33m=\u001b[0m \u001b[1;33m[\u001b[0m\u001b[1;33m]\u001b[0m\u001b[1;33m\u001b[0m\u001b[1;33m\u001b[0m\u001b[0m\n\u001b[0;32m    169\u001b[0m     \u001b[1;32mfor\u001b[0m \u001b[0m_\u001b[0m \u001b[1;32min\u001b[0m \u001b[0mrange\u001b[0m\u001b[1;33m(\u001b[0m\u001b[0mlevel\u001b[0m\u001b[1;33m)\u001b[0m\u001b[1;33m:\u001b[0m\u001b[1;33m\u001b[0m\u001b[1;33m\u001b[0m\u001b[0m\n\u001b[1;32m--> 170\u001b[1;33m         \u001b[0mcoms\u001b[0m \u001b[1;33m=\u001b[0m \u001b[0mnext\u001b[0m\u001b[1;33m(\u001b[0m\u001b[0mgn_hierarchy\u001b[0m\u001b[1;33m)\u001b[0m\u001b[1;33m\u001b[0m\u001b[1;33m\u001b[0m\u001b[0m\n\u001b[0m\u001b[0;32m    171\u001b[0m \u001b[1;33m\u001b[0m\u001b[0m\n\u001b[0;32m    172\u001b[0m     \u001b[0mcommunities\u001b[0m \u001b[1;33m=\u001b[0m \u001b[1;33m[\u001b[0m\u001b[1;33m]\u001b[0m\u001b[1;33m\u001b[0m\u001b[1;33m\u001b[0m\u001b[0m\n",
      "\u001b[1;32m~\\.conda\\envs\\diplodatos-ayvd\\lib\\site-packages\\networkx\\algorithms\\community\\centrality.py\u001b[0m in \u001b[0;36mgirvan_newman\u001b[1;34m(G, most_valuable_edge)\u001b[0m\n\u001b[0;32m    145\u001b[0m     \u001b[0mg\u001b[0m\u001b[1;33m.\u001b[0m\u001b[0mremove_edges_from\u001b[0m\u001b[1;33m(\u001b[0m\u001b[0mnx\u001b[0m\u001b[1;33m.\u001b[0m\u001b[0mselfloop_edges\u001b[0m\u001b[1;33m(\u001b[0m\u001b[0mg\u001b[0m\u001b[1;33m)\u001b[0m\u001b[1;33m)\u001b[0m\u001b[1;33m\u001b[0m\u001b[1;33m\u001b[0m\u001b[0m\n\u001b[0;32m    146\u001b[0m     \u001b[1;32mwhile\u001b[0m \u001b[0mg\u001b[0m\u001b[1;33m.\u001b[0m\u001b[0mnumber_of_edges\u001b[0m\u001b[1;33m(\u001b[0m\u001b[1;33m)\u001b[0m \u001b[1;33m>\u001b[0m \u001b[1;36m0\u001b[0m\u001b[1;33m:\u001b[0m\u001b[1;33m\u001b[0m\u001b[1;33m\u001b[0m\u001b[0m\n\u001b[1;32m--> 147\u001b[1;33m         \u001b[1;32myield\u001b[0m \u001b[0m_without_most_central_edges\u001b[0m\u001b[1;33m(\u001b[0m\u001b[0mg\u001b[0m\u001b[1;33m,\u001b[0m \u001b[0mmost_valuable_edge\u001b[0m\u001b[1;33m)\u001b[0m\u001b[1;33m\u001b[0m\u001b[1;33m\u001b[0m\u001b[0m\n\u001b[0m\u001b[0;32m    148\u001b[0m \u001b[1;33m\u001b[0m\u001b[0m\n\u001b[0;32m    149\u001b[0m \u001b[1;33m\u001b[0m\u001b[0m\n",
      "\u001b[1;32m~\\.conda\\envs\\diplodatos-ayvd\\lib\\site-packages\\networkx\\algorithms\\community\\centrality.py\u001b[0m in \u001b[0;36m_without_most_central_edges\u001b[1;34m(G, most_valuable_edge)\u001b[0m\n\u001b[0;32m    164\u001b[0m     \u001b[0mnum_new_components\u001b[0m \u001b[1;33m=\u001b[0m \u001b[0moriginal_num_components\u001b[0m\u001b[1;33m\u001b[0m\u001b[1;33m\u001b[0m\u001b[0m\n\u001b[0;32m    165\u001b[0m     \u001b[1;32mwhile\u001b[0m \u001b[0mnum_new_components\u001b[0m \u001b[1;33m<=\u001b[0m \u001b[0moriginal_num_components\u001b[0m\u001b[1;33m:\u001b[0m\u001b[1;33m\u001b[0m\u001b[1;33m\u001b[0m\u001b[0m\n\u001b[1;32m--> 166\u001b[1;33m         \u001b[0medge\u001b[0m \u001b[1;33m=\u001b[0m \u001b[0mmost_valuable_edge\u001b[0m\u001b[1;33m(\u001b[0m\u001b[0mG\u001b[0m\u001b[1;33m)\u001b[0m\u001b[1;33m\u001b[0m\u001b[1;33m\u001b[0m\u001b[0m\n\u001b[0m\u001b[0;32m    167\u001b[0m         \u001b[0mG\u001b[0m\u001b[1;33m.\u001b[0m\u001b[0mremove_edge\u001b[0m\u001b[1;33m(\u001b[0m\u001b[1;33m*\u001b[0m\u001b[0medge\u001b[0m\u001b[1;33m)\u001b[0m\u001b[1;33m\u001b[0m\u001b[1;33m\u001b[0m\u001b[0m\n\u001b[0;32m    168\u001b[0m         \u001b[0mnew_components\u001b[0m \u001b[1;33m=\u001b[0m \u001b[0mtuple\u001b[0m\u001b[1;33m(\u001b[0m\u001b[0mnx\u001b[0m\u001b[1;33m.\u001b[0m\u001b[0mconnected_components\u001b[0m\u001b[1;33m(\u001b[0m\u001b[0mG\u001b[0m\u001b[1;33m)\u001b[0m\u001b[1;33m)\u001b[0m\u001b[1;33m\u001b[0m\u001b[1;33m\u001b[0m\u001b[0m\n",
      "\u001b[1;32m~\\.conda\\envs\\diplodatos-ayvd\\lib\\site-packages\\networkx\\algorithms\\community\\centrality.py\u001b[0m in \u001b[0;36mmost_valuable_edge\u001b[1;34m(G)\u001b[0m\n\u001b[0;32m    136\u001b[0m             \u001b[1;31m# We have guaranteed that the graph is non-empty, so this\u001b[0m\u001b[1;33m\u001b[0m\u001b[1;33m\u001b[0m\u001b[1;33m\u001b[0m\u001b[0m\n\u001b[0;32m    137\u001b[0m             \u001b[1;31m# dictionary will never be empty.\u001b[0m\u001b[1;33m\u001b[0m\u001b[1;33m\u001b[0m\u001b[1;33m\u001b[0m\u001b[0m\n\u001b[1;32m--> 138\u001b[1;33m             \u001b[0mbetweenness\u001b[0m \u001b[1;33m=\u001b[0m \u001b[0mnx\u001b[0m\u001b[1;33m.\u001b[0m\u001b[0medge_betweenness_centrality\u001b[0m\u001b[1;33m(\u001b[0m\u001b[0mG\u001b[0m\u001b[1;33m)\u001b[0m\u001b[1;33m\u001b[0m\u001b[1;33m\u001b[0m\u001b[0m\n\u001b[0m\u001b[0;32m    139\u001b[0m             \u001b[1;32mreturn\u001b[0m \u001b[0mmax\u001b[0m\u001b[1;33m(\u001b[0m\u001b[0mbetweenness\u001b[0m\u001b[1;33m,\u001b[0m \u001b[0mkey\u001b[0m\u001b[1;33m=\u001b[0m\u001b[0mbetweenness\u001b[0m\u001b[1;33m.\u001b[0m\u001b[0mget\u001b[0m\u001b[1;33m)\u001b[0m\u001b[1;33m\u001b[0m\u001b[1;33m\u001b[0m\u001b[0m\n\u001b[0;32m    140\u001b[0m \u001b[1;33m\u001b[0m\u001b[0m\n",
      "\u001b[1;32m~\\.conda\\envs\\diplodatos-ayvd\\lib\\site-packages\\networkx\\utils\\decorators.py\u001b[0m in \u001b[0;36margmap_edge_betweenness_centrality_5\u001b[1;34m(G, k, normalized, weight, seed)\u001b[0m\n\u001b[0;32m      2\u001b[0m \u001b[1;32mfrom\u001b[0m \u001b[0mos\u001b[0m\u001b[1;33m.\u001b[0m\u001b[0mpath\u001b[0m \u001b[1;32mimport\u001b[0m \u001b[0msplitext\u001b[0m\u001b[1;33m\u001b[0m\u001b[1;33m\u001b[0m\u001b[0m\n\u001b[0;32m      3\u001b[0m \u001b[1;32mfrom\u001b[0m \u001b[0mcontextlib\u001b[0m \u001b[1;32mimport\u001b[0m \u001b[0mcontextmanager\u001b[0m\u001b[1;33m\u001b[0m\u001b[1;33m\u001b[0m\u001b[0m\n\u001b[1;32m----> 4\u001b[1;33m \u001b[1;32mfrom\u001b[0m \u001b[0mpathlib\u001b[0m \u001b[1;32mimport\u001b[0m \u001b[0mPath\u001b[0m\u001b[1;33m\u001b[0m\u001b[1;33m\u001b[0m\u001b[0m\n\u001b[0m\u001b[0;32m      5\u001b[0m \u001b[1;32mimport\u001b[0m \u001b[0mwarnings\u001b[0m\u001b[1;33m\u001b[0m\u001b[1;33m\u001b[0m\u001b[0m\n\u001b[0;32m      6\u001b[0m \u001b[1;33m\u001b[0m\u001b[0m\n",
      "\u001b[1;32m~\\.conda\\envs\\diplodatos-ayvd\\lib\\site-packages\\networkx\\algorithms\\centrality\\betweenness.py\u001b[0m in \u001b[0;36medge_betweenness_centrality\u001b[1;34m(G, k, normalized, weight, seed)\u001b[0m\n\u001b[0;32m    226\u001b[0m         \u001b[1;31m# single source shortest paths\u001b[0m\u001b[1;33m\u001b[0m\u001b[1;33m\u001b[0m\u001b[1;33m\u001b[0m\u001b[0m\n\u001b[0;32m    227\u001b[0m         \u001b[1;32mif\u001b[0m \u001b[0mweight\u001b[0m \u001b[1;32mis\u001b[0m \u001b[1;32mNone\u001b[0m\u001b[1;33m:\u001b[0m  \u001b[1;31m# use BFS\u001b[0m\u001b[1;33m\u001b[0m\u001b[1;33m\u001b[0m\u001b[0m\n\u001b[1;32m--> 228\u001b[1;33m             \u001b[0mS\u001b[0m\u001b[1;33m,\u001b[0m \u001b[0mP\u001b[0m\u001b[1;33m,\u001b[0m \u001b[0msigma\u001b[0m\u001b[1;33m,\u001b[0m \u001b[0m_\u001b[0m \u001b[1;33m=\u001b[0m \u001b[0m_single_source_shortest_path_basic\u001b[0m\u001b[1;33m(\u001b[0m\u001b[0mG\u001b[0m\u001b[1;33m,\u001b[0m \u001b[0ms\u001b[0m\u001b[1;33m)\u001b[0m\u001b[1;33m\u001b[0m\u001b[1;33m\u001b[0m\u001b[0m\n\u001b[0m\u001b[0;32m    229\u001b[0m         \u001b[1;32melse\u001b[0m\u001b[1;33m:\u001b[0m  \u001b[1;31m# use Dijkstra's algorithm\u001b[0m\u001b[1;33m\u001b[0m\u001b[1;33m\u001b[0m\u001b[0m\n\u001b[0;32m    230\u001b[0m             \u001b[0mS\u001b[0m\u001b[1;33m,\u001b[0m \u001b[0mP\u001b[0m\u001b[1;33m,\u001b[0m \u001b[0msigma\u001b[0m\u001b[1;33m,\u001b[0m \u001b[0m_\u001b[0m \u001b[1;33m=\u001b[0m \u001b[0m_single_source_dijkstra_path_basic\u001b[0m\u001b[1;33m(\u001b[0m\u001b[0mG\u001b[0m\u001b[1;33m,\u001b[0m \u001b[0ms\u001b[0m\u001b[1;33m,\u001b[0m \u001b[0mweight\u001b[0m\u001b[1;33m)\u001b[0m\u001b[1;33m\u001b[0m\u001b[1;33m\u001b[0m\u001b[0m\n",
      "\u001b[1;32m~\\.conda\\envs\\diplodatos-ayvd\\lib\\site-packages\\networkx\\algorithms\\centrality\\betweenness.py\u001b[0m in \u001b[0;36m_single_source_shortest_path_basic\u001b[1;34m(G, s)\u001b[0m\n\u001b[0;32m    266\u001b[0m         \u001b[0mDv\u001b[0m \u001b[1;33m=\u001b[0m \u001b[0mD\u001b[0m\u001b[1;33m[\u001b[0m\u001b[0mv\u001b[0m\u001b[1;33m]\u001b[0m\u001b[1;33m\u001b[0m\u001b[1;33m\u001b[0m\u001b[0m\n\u001b[0;32m    267\u001b[0m         \u001b[0msigmav\u001b[0m \u001b[1;33m=\u001b[0m \u001b[0msigma\u001b[0m\u001b[1;33m[\u001b[0m\u001b[0mv\u001b[0m\u001b[1;33m]\u001b[0m\u001b[1;33m\u001b[0m\u001b[1;33m\u001b[0m\u001b[0m\n\u001b[1;32m--> 268\u001b[1;33m         \u001b[1;32mfor\u001b[0m \u001b[0mw\u001b[0m \u001b[1;32min\u001b[0m \u001b[0mG\u001b[0m\u001b[1;33m[\u001b[0m\u001b[0mv\u001b[0m\u001b[1;33m]\u001b[0m\u001b[1;33m:\u001b[0m\u001b[1;33m\u001b[0m\u001b[1;33m\u001b[0m\u001b[0m\n\u001b[0m\u001b[0;32m    269\u001b[0m             \u001b[1;32mif\u001b[0m \u001b[0mw\u001b[0m \u001b[1;32mnot\u001b[0m \u001b[1;32min\u001b[0m \u001b[0mD\u001b[0m\u001b[1;33m:\u001b[0m\u001b[1;33m\u001b[0m\u001b[1;33m\u001b[0m\u001b[0m\n\u001b[0;32m    270\u001b[0m                 \u001b[0mQ\u001b[0m\u001b[1;33m.\u001b[0m\u001b[0mappend\u001b[0m\u001b[1;33m(\u001b[0m\u001b[0mw\u001b[0m\u001b[1;33m)\u001b[0m\u001b[1;33m\u001b[0m\u001b[1;33m\u001b[0m\u001b[0m\n",
      "\u001b[1;32m~\\.conda\\envs\\diplodatos-ayvd\\lib\\site-packages\\networkx\\classes\\graph.py\u001b[0m in \u001b[0;36m__getitem__\u001b[1;34m(self, n)\u001b[0m\n\u001b[0;32m    474\u001b[0m         \u001b[0mAtlasView\u001b[0m\u001b[1;33m(\u001b[0m\u001b[1;33m{\u001b[0m\u001b[1;36m1\u001b[0m\u001b[1;33m:\u001b[0m \u001b[1;33m{\u001b[0m\u001b[1;33m}\u001b[0m\u001b[1;33m}\u001b[0m\u001b[1;33m)\u001b[0m\u001b[1;33m\u001b[0m\u001b[1;33m\u001b[0m\u001b[0m\n\u001b[0;32m    475\u001b[0m         \"\"\"\n\u001b[1;32m--> 476\u001b[1;33m         \u001b[1;32mreturn\u001b[0m \u001b[0mself\u001b[0m\u001b[1;33m.\u001b[0m\u001b[0madj\u001b[0m\u001b[1;33m[\u001b[0m\u001b[0mn\u001b[0m\u001b[1;33m]\u001b[0m\u001b[1;33m\u001b[0m\u001b[1;33m\u001b[0m\u001b[0m\n\u001b[0m\u001b[0;32m    477\u001b[0m \u001b[1;33m\u001b[0m\u001b[0m\n\u001b[0;32m    478\u001b[0m     \u001b[1;32mdef\u001b[0m \u001b[0madd_node\u001b[0m\u001b[1;33m(\u001b[0m\u001b[0mself\u001b[0m\u001b[1;33m,\u001b[0m \u001b[0mnode_for_adding\u001b[0m\u001b[1;33m,\u001b[0m \u001b[1;33m**\u001b[0m\u001b[0mattr\u001b[0m\u001b[1;33m)\u001b[0m\u001b[1;33m:\u001b[0m\u001b[1;33m\u001b[0m\u001b[1;33m\u001b[0m\u001b[0m\n",
      "\u001b[1;32m~\\.conda\\envs\\diplodatos-ayvd\\lib\\site-packages\\networkx\\classes\\graph.py\u001b[0m in \u001b[0;36madj\u001b[1;34m(self)\u001b[0m\n\u001b[0;32m    353\u001b[0m         \u001b[0mFor\u001b[0m \u001b[0mdirected\u001b[0m \u001b[0mgraphs\u001b[0m\u001b[1;33m,\u001b[0m\u001b[0;31m \u001b[0m\u001b[0;31m`\u001b[0m\u001b[0mG\u001b[0m\u001b[1;33m.\u001b[0m\u001b[0madj\u001b[0m\u001b[0;31m`\u001b[0m \u001b[0mholds\u001b[0m \u001b[0moutgoing\u001b[0m \u001b[1;33m(\u001b[0m\u001b[0msuccessor\u001b[0m\u001b[1;33m)\u001b[0m \u001b[0minfo\u001b[0m\u001b[1;33m.\u001b[0m\u001b[1;33m\u001b[0m\u001b[1;33m\u001b[0m\u001b[0m\n\u001b[0;32m    354\u001b[0m         \"\"\"\n\u001b[1;32m--> 355\u001b[1;33m         \u001b[1;32mreturn\u001b[0m \u001b[0mAdjacencyView\u001b[0m\u001b[1;33m(\u001b[0m\u001b[0mself\u001b[0m\u001b[1;33m.\u001b[0m\u001b[0m_adj\u001b[0m\u001b[1;33m)\u001b[0m\u001b[1;33m\u001b[0m\u001b[1;33m\u001b[0m\u001b[0m\n\u001b[0m\u001b[0;32m    356\u001b[0m \u001b[1;33m\u001b[0m\u001b[0m\n\u001b[0;32m    357\u001b[0m     \u001b[1;33m@\u001b[0m\u001b[0mproperty\u001b[0m\u001b[1;33m\u001b[0m\u001b[1;33m\u001b[0m\u001b[0m\n",
      "\u001b[1;31mKeyboardInterrupt\u001b[0m: "
     ]
    }
   ],
   "source": [
    "levels = range(1, 10)\n",
    "data = []\n",
    "for level in levels:\n",
    "    comms_gn = algorithms.girvan_newman(larg_G, level=level)\n",
    "    ncomms = len(comms_gn.communities)\n",
    "    greatestcomm = max(len(c) for c in comms_gn.communities) \n",
    "    comms_size = [len(c) for c in comms_gn.communities]\n",
    "    comms_size.sort()\n",
    "    modularity = evaluation.newman_girvan_modularity(larg_G, comms_gn).score\n",
    "    density = evaluation.internal_edge_density(larg_G, comms_gn).score\n",
    "\n",
    "    data.append((level, ncomms, modularity,density, comms_size[-1],  comms_size[-2]))\n",
    "    \n",
    "comm_gn_df = pd.DataFrame(data, columns=['Level', 'ncomms', 'modularity','density','greatestcomms1', 'greatestcomms2'])"
   ]
  },
  {
   "cell_type": "code",
   "execution_count": null,
   "id": "33e9e75a-7bd8-41bf-8ea3-5a0e25b11904",
   "metadata": {},
   "outputs": [],
   "source": [
    "comm_gn_df['n_nodes'] = len(larg_G.nodes())\n",
    "comm_gn_df"
   ]
  },
  {
   "cell_type": "code",
   "execution_count": null,
   "id": "b1e80d3a-ec85-46d0-909e-12f14b8d5907",
   "metadata": {},
   "outputs": [],
   "source": []
  },
  {
   "cell_type": "markdown",
   "id": "c05a21ec-71fd-491a-b572-eaacda4abf06",
   "metadata": {},
   "source": [
    "#### Opcional"
   ]
  },
  {
   "cell_type": "markdown",
   "id": "4b5f8e43",
   "metadata": {},
   "source": [
    "Correr el algoritmo de Louvain con distintas semillas aleatorias. Utilizar alguna métrica de comparación externa entre las particiones obtenidas para determinar en qué medida depende el algoritmo de la condición inicial."
   ]
  },
  {
   "cell_type": "code",
   "execution_count": 93,
   "id": "23e5a5f6",
   "metadata": {},
   "outputs": [
    {
     "data": {
      "text/html": [
       "<div>\n",
       "<style scoped>\n",
       "    .dataframe tbody tr th:only-of-type {\n",
       "        vertical-align: middle;\n",
       "    }\n",
       "\n",
       "    .dataframe tbody tr th {\n",
       "        vertical-align: top;\n",
       "    }\n",
       "\n",
       "    .dataframe thead th {\n",
       "        text-align: right;\n",
       "    }\n",
       "</style>\n",
       "<table border=\"1\" class=\"dataframe\">\n",
       "  <thead>\n",
       "    <tr style=\"text-align: right;\">\n",
       "      <th></th>\n",
       "      <th>seeds</th>\n",
       "      <th>ncomms</th>\n",
       "      <th>modularity</th>\n",
       "      <th>density</th>\n",
       "      <th>greatestcomms1</th>\n",
       "      <th>greatestcomms2</th>\n",
       "    </tr>\n",
       "  </thead>\n",
       "  <tbody>\n",
       "    <tr>\n",
       "      <th>0</th>\n",
       "      <td>1</td>\n",
       "      <td>359</td>\n",
       "      <td>0.530700</td>\n",
       "      <td>0.717677</td>\n",
       "      <td>19376</td>\n",
       "      <td>15258</td>\n",
       "    </tr>\n",
       "    <tr>\n",
       "      <th>1</th>\n",
       "      <td>2</td>\n",
       "      <td>358</td>\n",
       "      <td>0.528339</td>\n",
       "      <td>0.723555</td>\n",
       "      <td>19414</td>\n",
       "      <td>15472</td>\n",
       "    </tr>\n",
       "    <tr>\n",
       "      <th>2</th>\n",
       "      <td>3</td>\n",
       "      <td>364</td>\n",
       "      <td>0.528529</td>\n",
       "      <td>0.719216</td>\n",
       "      <td>19381</td>\n",
       "      <td>15484</td>\n",
       "    </tr>\n",
       "    <tr>\n",
       "      <th>3</th>\n",
       "      <td>4</td>\n",
       "      <td>367</td>\n",
       "      <td>0.528598</td>\n",
       "      <td>0.716867</td>\n",
       "      <td>19372</td>\n",
       "      <td>15490</td>\n",
       "    </tr>\n",
       "    <tr>\n",
       "      <th>4</th>\n",
       "      <td>5</td>\n",
       "      <td>367</td>\n",
       "      <td>0.529268</td>\n",
       "      <td>0.719379</td>\n",
       "      <td>19280</td>\n",
       "      <td>15468</td>\n",
       "    </tr>\n",
       "    <tr>\n",
       "      <th>5</th>\n",
       "      <td>6</td>\n",
       "      <td>358</td>\n",
       "      <td>0.528411</td>\n",
       "      <td>0.730789</td>\n",
       "      <td>19394</td>\n",
       "      <td>15496</td>\n",
       "    </tr>\n",
       "    <tr>\n",
       "      <th>6</th>\n",
       "      <td>7</td>\n",
       "      <td>375</td>\n",
       "      <td>0.530756</td>\n",
       "      <td>0.718388</td>\n",
       "      <td>19367</td>\n",
       "      <td>15271</td>\n",
       "    </tr>\n",
       "    <tr>\n",
       "      <th>7</th>\n",
       "      <td>8</td>\n",
       "      <td>364</td>\n",
       "      <td>0.529938</td>\n",
       "      <td>0.707805</td>\n",
       "      <td>19456</td>\n",
       "      <td>15305</td>\n",
       "    </tr>\n",
       "    <tr>\n",
       "      <th>8</th>\n",
       "      <td>9</td>\n",
       "      <td>365</td>\n",
       "      <td>0.528679</td>\n",
       "      <td>0.723375</td>\n",
       "      <td>19382</td>\n",
       "      <td>15466</td>\n",
       "    </tr>\n",
       "  </tbody>\n",
       "</table>\n",
       "</div>"
      ],
      "text/plain": [
       "   seeds  ncomms  modularity   density  greatestcomms1  greatestcomms2\n",
       "0      1     359    0.530700  0.717677           19376           15258\n",
       "1      2     358    0.528339  0.723555           19414           15472\n",
       "2      3     364    0.528529  0.719216           19381           15484\n",
       "3      4     367    0.528598  0.716867           19372           15490\n",
       "4      5     367    0.529268  0.719379           19280           15468\n",
       "5      6     358    0.528411  0.730789           19394           15496\n",
       "6      7     375    0.530756  0.718388           19367           15271\n",
       "7      8     364    0.529938  0.707805           19456           15305\n",
       "8      9     365    0.528679  0.723375           19382           15466"
      ]
     },
     "execution_count": 93,
     "metadata": {},
     "output_type": "execute_result"
    }
   ],
   "source": [
    "randomize = range(1,10,1)\n",
    "data = []\n",
    "for seed in randomize:\n",
    "   \n",
    "    comms_lv = algorithms.louvain(larg_G, resolution= 2 , randomize=seed)\n",
    "    ncomms = len(comms_lv.communities)\n",
    "    comms_size = [len(c) for c in comms_lv.communities]\n",
    "    comms_size.sort()\n",
    "    modularity = evaluation.newman_girvan_modularity(larg_G, comms_lv).score\n",
    "    density = evaluation.internal_edge_density(larg_G, comms_lv).score\n",
    "    data.append((seed, ncomms, modularity, density, comms_size[-1],  comms_size[-2]))\n",
    "    \n",
    "comm_lvs_df = pd.DataFrame(data, columns=['seeds', 'ncomms', 'modularity', 'density','greatestcomms1', 'greatestcomms2'])\n",
    "comm_lvs_df"
   ]
  },
  {
   "cell_type": "markdown",
   "id": "15e7ff9e-eafe-4cff-bbe1-1adc4581a240",
   "metadata": {},
   "source": [
    "Observamos que al variar la semilla aleatoria, no cambian considerablemente las métricas, ni tampoco el tamaño de las dos comunidades más grandes. "
   ]
  }
 ],
 "metadata": {
  "kernelspec": {
   "display_name": "Python 3 (ipykernel)",
   "language": "python",
   "name": "python3"
  },
  "language_info": {
   "codemirror_mode": {
    "name": "ipython",
    "version": 3
   },
   "file_extension": ".py",
   "mimetype": "text/x-python",
   "name": "python",
   "nbconvert_exporter": "python",
   "pygments_lexer": "ipython3",
   "version": "3.9.5"
  }
 },
 "nbformat": 4,
 "nbformat_minor": 5
}
